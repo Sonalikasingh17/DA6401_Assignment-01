{
 "cells": [
  {
   "cell_type": "code",
   "execution_count": 78,
   "metadata": {},
   "outputs": [],
   "source": [
    "import numpy as np\n",
    "import matplotlib.pyplot as plt\n",
    "import wandb\n",
    "import time\n",
    "\n",
    "from keras.datasets import fashion_mnist"
   ]
  },
  {
   "cell_type": "code",
   "execution_count": null,
   "metadata": {},
   "outputs": [],
   "source": [
    "# Activation functions\n",
    "\n",
    "def sigmoid(z):\n",
    "    return 1.0 / (1 + np.exp(-(z)))\n",
    "def sigmoid_derivative(z):\n",
    "    return  (1.0 / (1 + np.exp(-(z))))*(1 -  1.0 / (1 + np.exp(-(z))))\n",
    "\n",
    "def tanh(z):\n",
    "    return np.tanh(z)\n",
    "def tanh_derivative(z):\n",
    "    return 1 - np.tanh(z) ** 2\n",
    "\n",
    "def relu(z):\n",
    "    return np.maximum(0.001, z) \n",
    "def relu_derivative(z):\n",
    "    return (z>0)*1 + (z<0)*0.001 "
   ]
  },
  {
   "cell_type": "code",
   "execution_count": null,
   "metadata": {},
   "outputs": [],
   "source": [
    "class NeuralNetwork:\n",
    "    def __init__(self, hidden_layers, hidden_neurons, train_images, train_labels, num_train, val_images,val_labels,num_val,test_images, test_labels, num_test,optimizer,batch_size,weight_decay,learning_rate,\n",
    "    max_epochs,activation,initializer,loss_function):\n",
    "        \n",
    "        self.num_classes = np.max(train_labels) + 1\n",
    "        self.hidden_layers = hidden_layers\n",
    "        self.hidden_neurons = hidden_neurons\n",
    "        self.output_size = self.num_classes\n",
    "        self.img_height = train_images.shape[1]\n",
    "        self.img_width = train_images.shape[2]\n",
    "        self.input_size = self.img_height * self.img_width\n",
    "\n",
    "        self.layer_structure = ([self.input_size]+ hidden_layers * [hidden_neurons]+ [self.output_size])\n",
    "    \n",
    "\n",
    "        self.num_train = num_train\n",
    "        self.num_val = num_val\n",
    "        self.num_test = num_test\n",
    "        \n",
    "        self.train_data = np.transpose(\n",
    "            train_images.reshape(train_images.shape[0], -1)) / 255\n",
    "        self.test_data = np.transpose(\n",
    "            test_images.reshape(test_images.shape[0], -1)) / 255\n",
    "        self.val_data = np.transpose(\n",
    "            val_images.reshape(val_images.shape[0], -1)) / 255\n",
    "        \n",
    "        self.train_labels = self.one_hot_encode(train_labels)\n",
    "        self.val_labels = self.one_hot_encode(val_labels)\n",
    "        self.test_labels = self.one_hot_encode(test_labels)\n",
    "\n",
    "        self.activation_functions = {\"SIGMOID\": sigmoid, \"TANH\": tanh, \"RELU\": relu}\n",
    "        self.derivative_activations = {\"SIGMOID\": sigmoid_derivative,\n",
    "                                       \"TANH\": tanh_derivative,\n",
    "                                       \"RELU\": relu_derivative}\n",
    "\n",
    "\n",
    "        self.initializers = {\"XAVIER\": self.xavier_initializer,\"RANDOM\": self.random_initializer}\n",
    "\n",
    "        self.optimizers = {\"SGD\": self.sgd,    \"MGD\": self.mgd,\n",
    "            \"NGD\": self.ngd,  \"RMSPROP\": self.rmsProp, \"ADAM\": self.adam}\n",
    "        \n",
    "    \n",
    "        self.activation_func = self.activation_functions[activation]\n",
    "        self.derivative_activations = self.derivative_activations[activation]\n",
    "    \n",
    "        self.optimizer = self.optimizers[optimizer]\n",
    "        self.initializer_func = self.initializers[initializer]\n",
    "        self.loss_function = loss_function\n",
    "        self.max_epochs = max_epochs\n",
    "        self.batch_size = batch_size\n",
    "        self.learning_rate = learning_rate\n",
    "        \n",
    "        self.weights, self.biases = self.initialize_network(self.layer_structure)\n",
    "\n",
    "    def one_hot_encode(self, labels):\n",
    "        encoded_labels = np.zeros((self.num_classes, labels.shape[0]))\n",
    "        for i in range(labels.shape[0]):\n",
    "            encoded_labels[int(labels[i]), i] = 1.0\n",
    "        return encoded_labels\n",
    "     \n",
    "    #  Loss functions\n",
    "    def mean_squared_error(self, true_labels, predicted_labels):\n",
    "        return np.mean((true_labels - predicted_labels) ** 2)\n",
    "\n",
    "    def cross_entropy_loss(self, true_labels, predicted_labels):\n",
    "        return np.mean([-true_labels[i] * np.log(predicted_labels[i]) for i in range(len(predicted_labels))])\n",
    "\n",
    "    def l2_regularisation_loss(self, weight_decay):\n",
    "        return weight_decay * np.sum([np.linalg.norm(self.weights[str(i + 1)]) ** 2 for i in range(len(self.weights))])\n",
    "    \n",
    "\n",
    "    def compute_accuracy(self, true_labels, predicted_labels, data_size):\n",
    "        true_class_labels = [np.argmax(true_labels[:, i]) for i in range(data_size)]\n",
    "        predicted_class_labels = [np.argmax(predicted_labels[:, i]) for i in range(data_size)]\n",
    "        correct_predictions = sum(1 for i in range(data_size) if true_class_labels[i] == predicted_class_labels[i])\n",
    "        return correct_predictions / data_size, true_class_labels, predicted_class_labels\n",
    "\n",
    "    def xavier_initializer(self, size):\n",
    "        in_dim, out_dim = size[1], size[0]\n",
    "        std_dev = np.sqrt(2 / (in_dim + out_dim))\n",
    "        return np.random.normal(0, std_dev, size=(out_dim, in_dim))\n",
    "\n",
    "    def random_initializer(self, size):\n",
    "        in_dim, out_dim = size[1], size[0]\n",
    "        return np.random.normal(0, 1, size=(out_dim, in_dim))\n",
    "\n",
    "        \n",
    "    def initialize_network(self, layer_structure):\n",
    "        weight_matrices = {}\n",
    "        bias_vectors = {}\n",
    "        total_layers = len(layer_structure)\n",
    "        for i in range(0, total_layers - 1):\n",
    "            weight_matrix = self.initializer_func(size=[layer_structure[i + 1], layer_structure[i]])\n",
    "            bias_vector = np.zeros((layer_structure[i + 1], 1))\n",
    "            weight_matrices[str(i + 1)] = weight_matrix\n",
    "            bias_vectors[str(i + 1)] = bias_vector\n",
    "        return weight_matrices, bias_vectors\n",
    "\n",
    "    def forward_propagation(self, input_batch, weight_matrices, bias_vectors):\n",
    "        \"\"\"\n",
    "        Returns the neural network output given input data, weights, and biases.\n",
    "        Arguments:\n",
    "                 : input_batch - input matrix\n",
    "                 : weight_matrices - Weight matrices\n",
    "                 : bias_vectors - Bias vectors \n",
    "        \"\"\"\n",
    "        num_layers = len(weight_matrices) + 1\n",
    "        activation_outputs = {}\n",
    "        pre_activations = {}\n",
    "        activation_outputs[\"0\"] = input_batch\n",
    "        pre_activations[\"0\"] = input_batch\n",
    "        \n",
    "        for i in range(0, num_layers - 2):\n",
    "            if i == 0:\n",
    "                W = weight_matrices[str(i + 1)]\n",
    "                b = bias_vectors[str(i + 1)]\n",
    "                pre_activations[str(i + 1)] = np.add(np.matmul(W, input_batch), b)\n",
    "                activation_outputs[str(i + 1)] = self.activation_func(pre_activations[str(i + 1)])\n",
    "            else:\n",
    "                W = weight_matrices[str(i + 1)]\n",
    "                b = bias_vectors[str(i + 1)]\n",
    "                pre_activations[str(i + 1)] = np.add(np.matmul(W, activation_outputs[str(i)]), b)\n",
    "                activation_outputs[str(i + 1)] = self.activation_func(pre_activations[str(i + 1)])\n",
    "\n",
    "        W = weight_matrices[str(num_layers - 1)]\n",
    "        b = bias_vectors[str(num_layers - 1)]\n",
    "        pre_activations[str(num_layers - 1)] = np.add(np.matmul(W, activation_outputs[str(num_layers - 2)]), b)\n",
    "        final_output = sigmoid(pre_activations[str(num_layers - 1)])\n",
    "        activation_outputs[str(num_layers - 1)] = final_output\n",
    "        return final_output, activation_outputs, pre_activations\n",
    "    \n",
    "    def back_propagation(self, predicted_output, activation_outputs, pre_activations, true_output, weight_decay=0):\n",
    "\n",
    "        # Performs backpropagation to compute gradients of weights and biases.\n",
    "    \n",
    "        #  Arguments:\n",
    "        # : predicted_output - Output of the neural network\n",
    "        # : activation_outputs - Dictionary of activation outputs from forward propagation\n",
    "        # : pre_activations - Dictionary of pre-activation values\n",
    "        # : true_output - True labels\n",
    "        # : weight_decay - Regularization parameter (default: 0)\n",
    "        \n",
    "        # Returns:\n",
    "        # : - Gradients for weight matrices\n",
    "        # : bias_gradients - Gradients for bias vectors \n",
    "        \n",
    "\n",
    "        alpha = weight_decay\n",
    "        weight_gradients= {}\n",
    "        bias_gradients = {}\n",
    "        num_layers = len(self.layer_structure)\n",
    "    \n",
    "    # Compute gradient of the output layer\n",
    "        activation_gradients = {}\n",
    "        if self.loss_function == \"CROSS\":\n",
    "           activation_gradients[str(num_layers - 1)] = -(true_output - predicted_output)\n",
    "        elif self.loss_function == \"MSE\":\n",
    "            activation_gradients[str(num_layers - 1)] = np.multiply(\n",
    "            2 * (predicted_output - true_output), np.multiply(predicted_output, (1 - predicted_output))\n",
    "        )\n",
    "\n",
    "    # Backpropagate through the layers\n",
    "        for i in range(num_layers - 2, -1, -1):\n",
    "            if alpha != 0:\n",
    "              weight_gradients[str(i + 1)] = (\n",
    "                np.outer(activation_gradients[str(i + 1)], activation_outputs[str(i)])\n",
    "                + alpha * self.weights[str(i + 1)]\n",
    "            )\n",
    "            else:\n",
    "              weight_gradients[str(i + 1)] = np.outer(activation_gradients[str(i + 1)], activation_outputs[str(i)])\n",
    "\n",
    "            bias_gradients[str(i + 1)] = activation_gradients[str(i + 1)]\n",
    "\n",
    "            if i != 0:\n",
    "               hidden_gradient = np.matmul(self.weights[str(i + 1)].T, activation_gradients[str(i + 1)])\n",
    "\n",
    "               activation_gradients[str(i)] = np.multiply(hidden_gradient, self.derivative_activations(pre_activations[str(i)]))\n",
    "            #    activation_gradients[str(i)] = np.multiply(hidden_gradient, self.derivative_activations[int(i)](pre_activations[str(i)]))\n",
    "\n",
    "\n",
    "    \n",
    "            #    activation_gradients[str(i)] = np.multiply(hidden_gradient, self.derivative_activations[str(i)](pre_activations[str(i)]))\n",
    "\n",
    "\n",
    "            else:\n",
    "               hidden_gradient = np.matmul(self.weights[str(i + 1)].T, activation_gradients[str(i + 1)])\n",
    "               activation_gradients[str(i)] = np.multiply(hidden_gradient, pre_activations[str(i)])\n",
    "\n",
    "        return weight_gradients, bias_gradients\n",
    "    \n",
    "    \n",
    "    def predict(self, input_batch, length_dataset):\n",
    "        predictions = []        \n",
    "    \n",
    "        for i in range(length_dataset):\n",
    "            final_output, activation_outputs, pre_activations = self.forward_propagation(\n",
    "                input_batch[:, i].reshape(self.input_size, 1),\n",
    "                self.weights,\n",
    "                self.biases,\n",
    "        )\n",
    "\n",
    "            predictions.append(final_output.reshape(self.num_classes,))\n",
    "    \n",
    "        predictions = np.array(predictions).transpose()\n",
    "        return predictions\n",
    "\n",
    "\n",
    "    def sgd(self, epochs, length_dataset, learning_rate, weight_decay=0):\n",
    "\n",
    "    # Implements Stochastic Gradient Descent (SGD) for training the neural network.\n",
    "    \n",
    "    # Arguments:\n",
    "    #     : epochs - Number of training epochs\n",
    "    #     : length_dataset - Number of training samples to use\n",
    "    #     : learning_rate - Step size for weight updates\n",
    "    #     : weight_decay - Regularization parameter (default: 0)\n",
    "    \n",
    "    # Returns:\n",
    "    #     : training_loss - List of loss values over epochs\n",
    "    #     : training_accuracy - List of training accuracies\n",
    "    #     : validation_accuracy - List of validation accuracies\n",
    "    #     : final_predictions - Model predictions after training\n",
    "    \n",
    "\n",
    "        training_loss = []\n",
    "        training_accuracy = []\n",
    "        validation_accuracy = []\n",
    "    \n",
    "        num_layers = len(self.layer_structure)\n",
    "\n",
    "        X_train = self.train_data[:, :length_dataset]\n",
    "        Y_train = self.train_labels[:, :length_dataset]\n",
    "\n",
    "        for epoch in range(epochs):\n",
    "            start_time = time.time()\n",
    "        \n",
    "            indices = np.arange(length_dataset)\n",
    "            np.random.shuffle(indices)\n",
    "            X_train = X_train[:, indices].reshape(self.input_size, length_dataset)\n",
    "            Y_train = Y_train[:, indices].reshape(self.num_classes, length_dataset)\n",
    "        \n",
    "            batch_loss = []\n",
    "        \n",
    "            weight_updates = {str(l + 1): np.zeros_like(self.weights[str(l + 1)]) for l in range(num_layers - 1)}\n",
    "            bias_updates = {str(l + 1): np.zeros_like(self.biases[str(l + 1)]) for l in range(num_layers - 1)}\n",
    "\n",
    "            for i in range(length_dataset):\n",
    "                output, activation_outputs, pre_activations = self.forward_propagation(\n",
    "                    X_train[:, i].reshape(self.input_size, 1),\n",
    "                    self.weights,\n",
    "                    self.biases,\n",
    "            )\n",
    "                weight_gradients, bias_gradients = self.back_propagation(\n",
    "                    output, activation_outputs, pre_activations, Y_train[:, i].reshape(self.num_classes, 1), weight_decay\n",
    "            )\n",
    "\n",
    "                for l in range(num_layers - 1):\n",
    "                    weight_updates[str(l + 1)] = weight_gradients[str(l + 1)]\n",
    "                    bias_updates[str(l + 1)] = bias_gradients[str(l + 1)]\n",
    "\n",
    "                if self.loss_function == \"MSE\":\n",
    "                    batch_loss.append(\n",
    "                       self.mean_squared_error(Y_train[:, i].reshape(self.num_classes, 1), output)\n",
    "                         + self.l2_regularisation_loss(weight_decay)\n",
    "                )\n",
    "                elif self.loss_function == \"CROSS\":\n",
    "                    batch_loss.append(\n",
    "                    self.cross_entropy_loss(Y_train[:, i].reshape(self.num_classes, 1), output)\n",
    "                    + self.l2_regularisation_loss(weight_decay)\n",
    "                )\n",
    "\n",
    "                self.weights = {str(l + 1): (self.weights[str(l + 1)] - learning_rate * weight_updates[str(l + 1)])\n",
    "                            for l in range(len(self.weights))}\n",
    "                self.biases = {str(l + 1): (self.biases[str(l + 1)] - learning_rate * bias_updates[str(l + 1)])\n",
    "                           for l in range(len(self.biases))}\n",
    "\n",
    "            elapsed_time = time.time() - start_time\n",
    "        \n",
    "            predictions = self.predict(self.train_data, self.num_train)\n",
    "        \n",
    "            training_loss.append(np.mean(batch_loss))\n",
    "            training_accuracy.append(self.compute_accuracy(Y_train, predictions, length_dataset)[0])\n",
    "            validation_accuracy.append(self.compute_accuracy(self.num_test, self.predict(self.num_train, self.num_val), self.num_val)[0])\n",
    "        \n",
    "            print(\n",
    "                \"Epoch: %d, Loss: %.3e, Training Accuracy: %.2f, Validation Accuracy: %.2f, Time: %.2f, Learning Rate: %.3e\"\n",
    "                % (\n",
    "                epoch,\n",
    "                training_loss[epoch],\n",
    "                training_accuracy[epoch],\n",
    "                validation_accuracy[epoch],\n",
    "                elapsed_time,\n",
    "                learning_rate,\n",
    "            )\n",
    "        )\n",
    "\n",
    "            wandb.log({'loss': np.mean(batch_loss),\n",
    "                   'training_accuracy': training_accuracy[epoch],\n",
    "                   'validation_accuracy': validation_accuracy[epoch],\n",
    "                   'epoch': epoch})\n",
    "\n",
    "        return training_loss, training_accuracy, validation_accuracy, predictions\n",
    "\n",
    "   \n",
    "    def mgd(self, epochs, length_dataset, batch_size, learning_rate, weight_decay=0):\n",
    "    \n",
    "    # Implements Mini-Batch Gradient Descent (MGD) for training the neural network.\n",
    "\n",
    "    # Arguments:\n",
    "    #     epochs (int): Number of training epochs.\n",
    "    #     length_dataset (int): Number of training samples to use.\n",
    "    #     batch_size (int): Mini-batch size for gradient updates.\n",
    "    #     learning_rate (float): Step size for weight updates.\n",
    "    #     weight_decay (float, optional): Regularization parameter (default: 0).\n",
    "\n",
    "    # Returns:\n",
    "    #     tuple: (training_loss, training_accuracy, validation_accuracy, final_predictions)\n",
    "      \n",
    "    \n",
    "        MOMENTUM = 0.9\n",
    "        training_loss = []\n",
    "        training_accuracy = []\n",
    "        validation_accuracy = []\n",
    "\n",
    "        num_layers = len(self.layer_structure)\n",
    "\n",
    "        X_train = self.train_data[:, :length_dataset]\n",
    "        Y_train = self.train_labels[:, :length_dataset]\n",
    "\n",
    "        prev_velocity_w = {str(l + 1): np.zeros_like(self.weights[str(l + 1)]) for l in range(num_layers - 1)}\n",
    "        prev_velocity_b = {str(l + 1): np.zeros_like(self.biases[str(l + 1)]) for l in range(num_layers - 1)}\n",
    "\n",
    "        num_points_seen = 0\n",
    "\n",
    "        for epoch in range(epochs):\n",
    "            start_time = time.time()\n",
    "\n",
    "            indices = np.arange(length_dataset)\n",
    "            np.random.shuffle(indices)\n",
    "            X_train = X_train[:, indices].reshape(self.input_size, length_dataset)\n",
    "            Y_train = Y_train[:, indices].reshape(self.num_classes, length_dataset)\n",
    "\n",
    "            batch_loss = []\n",
    "\n",
    "            weight_updates = {str(l + 1): np.zeros_like(self.weights[str(l + 1)]) for l in range(num_layers - 1)}\n",
    "            bias_updates = {str(l + 1): np.zeros_like(self.biases[str(l + 1)]) for l in range(num_layers - 1)}\n",
    "\n",
    "            for i in range(length_dataset):\n",
    "                output, activation_outputs, pre_activations = self.forward_propagation(\n",
    "                    X_train[:, i].reshape(self.input_size, 1),\n",
    "                    self.weights,\n",
    "                    self.biases,\n",
    "            )\n",
    "                weight_gradients, bias_gradients = self.back_propagation(\n",
    "                    output, activation_outputs, pre_activations, Y_train[:, i].reshape(self.num_classes, 1)\n",
    "            )\n",
    "\n",
    "                for l in range(num_layers - 1):\n",
    "                    weight_updates[str(l + 1)] += weight_gradients[str(l + 1)]\n",
    "                    bias_updates[str(l + 1)] += bias_gradients[str(l + 1)]\n",
    "\n",
    "                if self.loss_function == \"MSE\":\n",
    "                    batch_loss.append(\n",
    "                        self.mean_squared_error(Y_train[:, i].reshape(self.num_classes, 1), output)\n",
    "                        + self.l2_regularisation_loss(weight_decay)\n",
    "                )\n",
    "                elif self.loss_function == \"CROSS\":\n",
    "                    batch_loss.append(\n",
    "                        self.cross_entropy_loss(Y_train[:, i].reshape(self.num_classes, 1), output)\n",
    "                        + self.l2_regularisation_loss(weight_decay)\n",
    "                )\n",
    "\n",
    "                num_points_seen += 1\n",
    "\n",
    "                if num_points_seen % batch_size == 0:\n",
    "                    velocity_w = {\n",
    "                       str(l + 1): MOMENTUM * prev_velocity_w[str(l + 1)] + learning_rate * weight_updates[str(l + 1)] / batch_size\n",
    "                       for l in range(num_layers - 1)\n",
    "                }\n",
    "                    velocity_b = {\n",
    "                       str(l + 1): MOMENTUM * prev_velocity_b[str(l + 1)] + learning_rate * bias_updates[str(l + 1)] / batch_size\n",
    "                        for l in range(num_layers - 1)\n",
    "                }\n",
    "\n",
    "                    self.weights = {str(l + 1): self.weights[str(l + 1)] - velocity_w[str(l + 1)] for l in range(num_layers - 1)}\n",
    "                    self.biases = {str(l + 1): self.biases[str(l + 1)] - velocity_b[str(l + 1)] for l in range(num_layers - 1)}\n",
    "\n",
    "                    prev_velocity_w = velocity_w\n",
    "                    prev_velocity_b = velocity_b\n",
    "\n",
    "                    # Reset batch gradients\n",
    "                    weight_updates = {str(l + 1): np.zeros_like(self.weights[str(l + 1)]) for l in range(num_layers - 1)}\n",
    "                    bias_updates = {str(l + 1): np.zeros_like(self.biases[str(l + 1)]) for l in range(num_layers - 1)}\n",
    "\n",
    "            elapsed_time = time.time() - start_time\n",
    "\n",
    "            predictions = self.predict(self.train_data, self.num_train)\n",
    "\n",
    "            training_loss.append(np.mean(batch_loss))\n",
    "            training_accuracy.append(self.compute_accuracy(Y_train, predictions, length_dataset)[0])\n",
    "            validation_accuracy.append(self.compute_accuracy(self.test_labels, self.predict(self.test_data, self.num_test), self.num_test)[0])\n",
    "\n",
    "            print(\n",
    "            \"Epoch: %d, Loss: %.3e, Training Accuracy: %.2f, Validation Accuracy: %.2f, Time: %.2f, Learning Rate: %.3e\"\n",
    "            % (\n",
    "                epoch,\n",
    "                training_loss[epoch],\n",
    "                training_accuracy[epoch],\n",
    "                validation_accuracy[epoch],\n",
    "                elapsed_time,\n",
    "                learning_rate,\n",
    "            )\n",
    "        )\n",
    "\n",
    "            wandb.log({\n",
    "            'loss': np.mean(batch_loss),\n",
    "            'training_accuracy': training_accuracy[epoch],\n",
    "            'validation_accuracy': validation_accuracy[epoch],\n",
    "            'epoch': epoch\n",
    "        })\n",
    "\n",
    "        return training_loss, training_accuracy, validation_accuracy, predictions\n",
    "    \n",
    "    def ngd(self, epochs, length_dataset, batch_size, learning_rate, weight_decay=0):\n",
    "    \n",
    "    # Implements Nesterov Accelerated Gradient (NGD) for training the neural network.\n",
    "\n",
    "    # Arguments:\n",
    "    #     epochs (int): Number of training epochs.\n",
    "    #     length_dataset (int): Number of training samples to use.\n",
    "    #     batch_size (int): Mini-batch size for gradient updates.\n",
    "    #     learning_rate (float): Step size for weight updates.\n",
    "    #     weight_decay (float, optional): Regularization parameter (default: 0).\n",
    "\n",
    "    # Returns:\n",
    "    #     tuple: (training_loss, training_accuracy, validation_accuracy, final_predictions)\n",
    "    \n",
    "        GAMMA = 0.9\n",
    "    \n",
    "        X_train = self.train_data[:, :length_dataset]\n",
    "        Y_train = self.train_labels[:, :length_dataset]\n",
    "\n",
    "        training_loss = []\n",
    "        training_accuracy = []\n",
    "        validation_accuracy = []\n",
    "    \n",
    "        num_layers = len(self.layer_structure)\n",
    "    \n",
    "        prev_velocity_w = {str(l + 1): np.zeros_like(self.weights[str(l + 1)]) for l in range(num_layers - 1)}\n",
    "        prev_velocity_b = {str(l + 1): np.zeros_like(self.biases[str(l + 1)]) for l in range(num_layers - 1)}\n",
    "    \n",
    "        num_points_seen = 0\n",
    "        for epoch in range(epochs):\n",
    "            start_time = time.time()\n",
    "        \n",
    "            indices = np.arange(length_dataset)\n",
    "            np.random.shuffle(indices)\n",
    "            X_train = X_train[:, indices].reshape(self.input_size, length_dataset)\n",
    "            Y_train = Y_train[:, indices].reshape(self.num_classes, length_dataset)\n",
    "\n",
    "            batch_loss = []\n",
    "        \n",
    "            weight_updates = {str(l + 1): np.zeros_like(self.weights[str(l + 1)]) for l in range(num_layers - 1)}\n",
    "            bias_updates = {str(l + 1): np.zeros_like(self.biases[str(l + 1)]) for l in range(num_layers - 1)}\n",
    "        \n",
    "            velocity_w = {str(l + 1): GAMMA * prev_velocity_w[str(l + 1)] for l in range(num_layers - 1)}\n",
    "            velocity_b = {str(l + 1): GAMMA * prev_velocity_b[str(l + 1)] for l in range(num_layers - 1)}\n",
    "        \n",
    "            for i in range(length_dataset):\n",
    "                winter = {str(l + 1): self.weights[str(l + 1)] - velocity_w[str(l + 1)] for l in range(num_layers - 1)}\n",
    "                binter = {str(l + 1): self.biases[str(l + 1)] - velocity_b[str(l + 1)] for l in range(num_layers - 1)}\n",
    "            \n",
    "                output, activation_outputs, pre_activations = self.forward_propagation(\n",
    "                    X_train[:, i].reshape(self.input_size, 1), winter, binter)\n",
    "                weight_gradients, bias_gradients = self.back_propagation(\n",
    "                    output, activation_outputs, pre_activations, Y_train[:, i].reshape(self.num_classes, 1))\n",
    "            \n",
    "                for l in range(num_layers - 1):\n",
    "                    weight_updates[str(l + 1)] += weight_gradients[str(l + 1)]\n",
    "                    bias_updates[str(l + 1)] += bias_gradients[str(l + 1)]\n",
    "            \n",
    "                if self.loss_function == \"MSE\":\n",
    "                    batch_loss.append(\n",
    "                    self.mean_squared_error(Y_train[:, i].reshape(self.num_classes, 1), output)\n",
    "                    + self.l2_regularisation_loss(weight_decay)\n",
    "                )\n",
    "                elif self.loss_function == \"CROSS\":\n",
    "                    batch_loss.append(\n",
    "                    self.cross_entropy_loss(Y_train[:, i].reshape(self.num_classes, 1), output)\n",
    "                    + self.l2_regularisation_loss(weight_decay)\n",
    "                )\n",
    "            \n",
    "                num_points_seen += 1\n",
    "            \n",
    "                if num_points_seen % batch_size == 0:\n",
    "                    velocity_w = {\n",
    "                        str(l + 1): GAMMA * prev_velocity_w[str(l + 1)] + learning_rate * weight_updates[str(l + 1)] / batch_size\n",
    "                        for l in range(num_layers - 1)\n",
    "                }\n",
    "                velocity_b = {\n",
    "                    str(l + 1): GAMMA * prev_velocity_b[str(l + 1)] + learning_rate * bias_updates[str(l + 1)] / batch_size\n",
    "                    for l in range(num_layers - 1)\n",
    "                }\n",
    "                \n",
    "                self.weights = {str(l + 1): self.weights[str(l + 1)] - velocity_w[str(l + 1)] for l in range(num_layers - 1)}\n",
    "                self.biases = {str(l + 1): self.biases[str(l + 1)] - velocity_b[str(l + 1)] for l in range(num_layers - 1)}\n",
    "                \n",
    "                prev_velocity_w = velocity_w\n",
    "                prev_velocity_b = velocity_b\n",
    "                \n",
    "                weight_updates = {str(l + 1): np.zeros_like(self.weights[str(l + 1)]) for l in range(num_layers - 1)}\n",
    "                bias_updates = {str(l + 1): np.zeros_like(self.biases[str(l + 1)]) for l in range(num_layers - 1)}\n",
    "        \n",
    "            elapsed_time = time.time() - start_time\n",
    "            predictions = self.predict(self.train_data, self.num_train)\n",
    "        \n",
    "            training_loss.append(np.mean(batch_loss))\n",
    "            training_accuracy.append(self.compute_accuracy(Y_train, predictions, length_dataset)[0])\n",
    "            validation_accuracy.append(self.compute_accuracy(self.test_labels, self.predict(self.     test_data, self.num_test), self.num_test)[0])\n",
    "        \n",
    "            print(\n",
    "            \"Epoch: %d, Loss: %.3e, Training Accuracy: %.2f, Validation Accuracy: %.2f, Time: %.2f, Learning Rate: %.3e\"\n",
    "            % (\n",
    "                epoch,\n",
    "                training_loss[epoch],\n",
    "                training_accuracy[epoch],\n",
    "                validation_accuracy[epoch],\n",
    "                elapsed_time,\n",
    "                learning_rate\n",
    "            )\n",
    "        )\n",
    "        \n",
    "            wandb.log({\n",
    "            'loss': np.mean(batch_loss),\n",
    "            'training_accuracy': training_accuracy[epoch],\n",
    "            'validation_accuracy': validation_accuracy[epoch],\n",
    "            'epoch': epoch\n",
    "        })\n",
    "        \n",
    "        return training_loss, training_accuracy, validation_accuracy, predictions\n",
    "\n",
    "    \n",
    "    def rmsProp(self, epochs, length_dataset, batch_size, learning_rate, weight_decay=0): \n",
    "    \n",
    "    # Implements RMSProp optimizer for training the neural network.\n",
    "\n",
    "    # Arguments:\n",
    "    #     epochs (int): Number of training epochs.\n",
    "    #     length_dataset (int): Number of training samples to use.\n",
    "    #     batch_size (int): Mini-batch size for gradient updates.\n",
    "    #     learning_rate (float): Step size for weight updates.\n",
    "    #     weight_decay (float, optional): Regularization parameter (default: 0).\n",
    "\n",
    "    # Returns:\n",
    "    #     tuple: (training_loss, training_accuracy, validation_accuracy, final_predictions)\n",
    "    \n",
    "\n",
    "        EPSILON = 1e-8\n",
    "        BETA = 0.9\n",
    "\n",
    "        X_train = self.train_data[:, :length_dataset]\n",
    "        Y_train = self.train_labels[:, :length_dataset]\n",
    "\n",
    "        training_loss = []\n",
    "        training_accuracy = []\n",
    "        validation_accuracy = []\n",
    "    \n",
    "        num_layers = len(self.layer_structure)\n",
    "\n",
    "        v_w = {str(l + 1): np.zeros_like(self.weights[str(l + 1)]) for l in range(num_layers - 1)}\n",
    "        v_b = {str(l + 1): np.zeros_like(self.biases[str(l + 1)]) for l in range(num_layers - 1)}\n",
    "\n",
    "        num_points_seen = 0\n",
    "        for epoch in range(epochs):\n",
    "            start_time = time.time()\n",
    "\n",
    "            indices = np.arange(length_dataset)\n",
    "            np.random.shuffle(indices)\n",
    "            X_train = X_train[:, indices].reshape(self.input_size, length_dataset)\n",
    "            Y_train = Y_train[:, indices].reshape(self.num_classes, length_dataset)\n",
    "\n",
    "            batch_loss = []\n",
    "\n",
    "            weight_updates = {str(l + 1): np.zeros_like(self.weights[str(l + 1)]) for l in range(num_layers - 1)}\n",
    "            bias_updates = {str(l + 1): np.zeros_like(self.biases[str(l + 1)]) for l in range(num_layers - 1)}\n",
    "\n",
    "            for i in range(length_dataset):\n",
    "                output, activation_outputs, pre_activations = self.forward_propagation(\n",
    "                    X_train[:, i].reshape(self.input_size, 1), self.weights, self.biases)\n",
    "                \n",
    "                weight_gradients, bias_gradients = self.back_propagation(\n",
    "                    output, activation_outputs, pre_activations, Y_train[:, i].reshape(self.num_classes, 1))\n",
    "\n",
    "                for l in range(num_layers - 1):\n",
    "                    weight_updates[str(l + 1)] += weight_gradients[str(l + 1)]\n",
    "                    bias_updates[str(l + 1)] += bias_gradients[str(l + 1)]\n",
    "\n",
    "                if self.loss_function == \"MSE\":\n",
    "                    batch_loss.append(\n",
    "                    self.mean_squared_error(Y_train[:, i].reshape(self.num_classes, 1), output)\n",
    "                    + self.l2_regularisation_loss(weight_decay)\n",
    "                )\n",
    "                elif self.loss_function == \"CROSS\":\n",
    "                    batch_loss.append(\n",
    "                    self.cross_entropy_loss(Y_train[:, i].reshape(self.num_classes, 1), output)\n",
    "                    + self.l2_regularisation_loss(weight_decay)\n",
    "                )\n",
    "\n",
    "                num_points_seen += 1\n",
    "\n",
    "                if num_points_seen % batch_size == 0:\n",
    "                    v_w = {\n",
    "                        str(l + 1): BETA * v_w[str(l + 1)] + (1 - BETA) * (weight_updates[str(l + 1)] / batch_size) ** 2\n",
    "                        for l in range(num_layers - 1)\n",
    "                }\n",
    "                    v_b = {\n",
    "                        str(l + 1): BETA * v_b[str(l + 1)] + (1 - BETA) * (bias_updates[str(l + 1)] / batch_size) ** 2\n",
    "                        for l in range(num_layers - 1)\n",
    "                }\n",
    "\n",
    "                    self.weights = {\n",
    "                        str(l + 1): self.weights[str(l + 1)] - (learning_rate / np.sqrt(v_w[str(l + 1)] + EPSILON)) * weight_updates[str(l + 1)] / batch_size\n",
    "                        for l in range(num_layers - 1)\n",
    "                }\n",
    "                    self.biases = {\n",
    "                        str(l + 1): self.biases[str(l + 1)] - (learning_rate / np.sqrt(v_b[str(l + 1)] + EPSILON)) * bias_updates[str(l + 1)] / batch_size\n",
    "                        for l in range(num_layers - 1)\n",
    "                }\n",
    "\n",
    "                    weight_updates = {str(l + 1): np.zeros_like(self.weights[str(l + 1)]) for l in range(num_layers - 1)}\n",
    "                    bias_updates = {str(l + 1): np.zeros_like(self.biases[str(l + 1)]) for l in range(num_layers - 1)}\n",
    "\n",
    "            elapsed_time = time.time() - start_time\n",
    "            predictions = self.predict(self.train_data, self.num_train)\n",
    "\n",
    "            training_loss.append(np.mean(batch_loss))\n",
    "            training_accuracy.append(self.compute_accuracy(Y_train, predictions, length_dataset)[0])\n",
    "            validation_accuracy.append(self.compute_accuracy(self.test_labels, self.predict(self.test_data, self.num_test), self.num_test)[0])\n",
    "\n",
    "            print(\n",
    "            \"Epoch: %d, Loss: %.3e, Training Accuracy: %.2f, Validation Accuracy: %.2f, Time: %.2f, Learning Rate: %.3e\"\n",
    "            % (\n",
    "                epoch,\n",
    "                training_loss[epoch],\n",
    "                training_accuracy[epoch],\n",
    "                validation_accuracy[epoch],\n",
    "                elapsed_time,\n",
    "                learning_rate\n",
    "            )\n",
    "                )\n",
    "\n",
    "            wandb.log({\n",
    "            'loss': np.mean(batch_loss),\n",
    "            'training_accuracy': training_accuracy[epoch],\n",
    "            'validation_accuracy': validation_accuracy[epoch],\n",
    "            'epoch': epoch\n",
    "               })\n",
    "\n",
    "        return training_loss, training_accuracy, validation_accuracy, predictions\n",
    "    \n",
    "    def adam(self, epochs, length_dataset, batch_size, learning_rate, weight_decay=0):\n",
    "        \"\"\"\n",
    "        Implements the Adam optimizer for training the neural network.\n",
    "\n",
    "        Arguments:\n",
    "            epochs (int): Number of training epochs.\n",
    "            length_dataset (int): Number of training samples to use.\n",
    "            batch_size (int): Mini-batch size for gradient updates.\n",
    "            learning_rate (float): Step size for weight updates.\n",
    "            weight_decay (float, optional): Regularization parameter (default: 0).\n",
    "\n",
    "        Returns:\n",
    "            tuple: (training_loss, training_accuracy, validation_accuracy, final_predictions)\n",
    "        \"\"\"\n",
    "        \n",
    "        EPSILON = 1e-8\n",
    "        BETA1, BETA2 = 0.9, 0.99\n",
    "\n",
    "        X_train = self.train_data[:, :length_dataset]\n",
    "        Y_train = self.train_labels[:, :length_dataset]\n",
    "\n",
    "        training_loss = []\n",
    "        training_accuracy = []\n",
    "        validation_accuracy = []\n",
    "        \n",
    "        num_layers = len(self.layer_structure)\n",
    "\n",
    "        # Initialize first and second moment estimates\n",
    "        m_w = {str(l + 1): np.zeros_like(self.weights[str(l + 1)]) for l in range(num_layers - 1)}\n",
    "        m_b = {str(l + 1): np.zeros_like(self.biases[str(l + 1)]) for l in range(num_layers - 1)}\n",
    "\n",
    "        v_w = {str(l + 1): np.zeros_like(self.weights[str(l + 1)]) for l in range(num_layers - 1)}\n",
    "        v_b = {str(l + 1): np.zeros_like(self.biases[str(l + 1)]) for l in range(num_layers - 1)}\n",
    "\n",
    "        num_points_seen = 0\n",
    "        for epoch in range(epochs):\n",
    "            start_time = time.time()\n",
    "\n",
    "            indices = np.arange(length_dataset)\n",
    "            np.random.shuffle(indices)\n",
    "            X_train = X_train[:, indices].reshape(self.input_size, length_dataset)\n",
    "            Y_train = Y_train[:, indices].reshape(self.num_classes, length_dataset)\n",
    "\n",
    "            batch_loss = []\n",
    "\n",
    "            weight_updates = {str(l + 1): np.zeros_like(self.weights[str(l + 1)]) for l in range(num_layers - 1)}\n",
    "            bias_updates = {str(l + 1): np.zeros_like(self.biases[str(l + 1)]) for l in range(num_layers - 1)}\n",
    "\n",
    "            for i in range(length_dataset):\n",
    "                output, activation_outputs, pre_activations = self.forward_propagation(\n",
    "                    X_train[:, i].reshape(self.input_size, 1), self.weights, self.biases)\n",
    "                weight_gradients, bias_gradients = self.back_propagation(\n",
    "                    output, activation_outputs, pre_activations, Y_train[:, i].reshape(self.num_classes, 1))\n",
    "\n",
    "                for l in range(num_layers - 1):\n",
    "                    weight_updates[str(l + 1)] += weight_gradients[str(l + 1)]\n",
    "                    bias_updates[str(l + 1)] += bias_gradients[str(l + 1)]\n",
    "\n",
    "                if self.loss_function == \"MSE\":\n",
    "                    batch_loss.append(\n",
    "                        self.mean_squared_error(Y_train[:, i].reshape(self.num_classes, 1), output)\n",
    "                        + self.l2_regularisation_loss(weight_decay)\n",
    "                    )\n",
    "                elif self.loss_function == \"CROSS\":\n",
    "                    batch_loss.append(\n",
    "                        self.cross_entropy_loss(Y_train[:, i].reshape(self.num_classes, 1), output)\n",
    "                        + self.l2_regularisation_loss(weight_decay)\n",
    "                    )\n",
    "\n",
    "                num_points_seen += 1\n",
    "\n",
    "                if num_points_seen % batch_size == 0:\n",
    "                    # Compute biased first and second moment estimates\n",
    "                    m_w = {str(l + 1): BETA1 * m_w[str(l + 1)] + (1 - BETA1) * (weight_updates[str(l + 1)] / batch_size)\n",
    "                        for l in range(num_layers - 1)}\n",
    "                    m_b = {str(l + 1): BETA1 * m_b[str(l + 1)] + (1 - BETA1) * (bias_updates[str(l + 1)] / batch_size)\n",
    "                        for l in range(num_layers - 1)}\n",
    "\n",
    "                    v_w = {str(l + 1): BETA2 * v_w[str(l + 1)] + (1 - BETA2) * (weight_updates[str(l + 1)] / batch_size) ** 2\n",
    "                        for l in range(num_layers - 1)}\n",
    "                    v_b = {str(l + 1): BETA2 * v_b[str(l + 1)] + (1 - BETA2) * (bias_updates[str(l + 1)] / batch_size) ** 2\n",
    "                        for l in range(num_layers - 1)}\n",
    "\n",
    "                    # Bias correction\n",
    "                    m_w_hat = {str(l + 1): m_w[str(l + 1)] / (1 - BETA1 ** (epoch + 1)) for l in range(num_layers - 1)}\n",
    "                    m_b_hat = {str(l + 1): m_b[str(l + 1)] / (1 - BETA1 ** (epoch + 1)) for l in range(num_layers - 1)}\n",
    "\n",
    "                    v_w_hat = {str(l + 1): v_w[str(l + 1)] / (1 - BETA2 ** (epoch + 1)) for l in range(num_layers - 1)}\n",
    "                    v_b_hat = {str(l + 1): v_b[str(l + 1)] / (1 - BETA2 ** (epoch + 1)) for l in range(num_layers - 1)}\n",
    "\n",
    "                    # Update weights and biases\n",
    "                    self.weights = {\n",
    "                        str(l + 1): self.weights[str(l + 1)] - (learning_rate / (np.sqrt(v_w_hat[str(l + 1)] + EPSILON))) * m_w_hat[str(l + 1)]\n",
    "                        for l in range(num_layers - 1)\n",
    "                    }\n",
    "                    self.biases = {\n",
    "                        str(l + 1): self.biases[str(l + 1)] - (learning_rate / (np.sqrt(v_b_hat[str(l + 1)] + EPSILON))) * m_b_hat[str(l + 1)]\n",
    "                        for l in range(num_layers - 1)\n",
    "                    }\n",
    "\n",
    "                    weight_updates = {str(l + 1): np.zeros_like(self.weights[str(l + 1)]) for l in range(num_layers - 1)}\n",
    "                    bias_updates = {str(l + 1): np.zeros_like(self.biases[str(l + 1)]) for l in range(num_layers - 1)}\n",
    "\n",
    "            elapsed_time = time.time() - start_time\n",
    "            predictions = self.predict(self.train_data, self.num_train)\n",
    "\n",
    "            training_loss.append(np.mean(batch_loss))\n",
    "            training_accuracy.append(self.compute_accuracy(Y_train, predictions, length_dataset)[0])\n",
    "            validation_accuracy.append(self.compute_accuracy(self.test_labels, self.predict(self.test_data, self.num_test), self.num_test)[0])\n",
    "\n",
    "            print(\n",
    "                \"Epoch: %d, Loss: %.3e, Training Accuracy: %.2f, Validation Accuracy: %.2f, Time: %.2f, Learning Rate: %.3e\"\n",
    "                % (\n",
    "                    epoch,\n",
    "                    training_loss[epoch],\n",
    "                    training_accuracy[epoch],\n",
    "                    validation_accuracy[epoch],\n",
    "                    elapsed_time,\n",
    "                    learning_rate,\n",
    "                )\n",
    "            )\n",
    "\n",
    "            wandb.log({\n",
    "                'loss': np.mean(batch_loss),\n",
    "                'training_accuracy': training_accuracy[epoch],\n",
    "                'validation_accuracy': validation_accuracy[epoch],\n",
    "                'epoch': epoch\n",
    "            })\n",
    "\n",
    "        return training_loss, training_accuracy, validation_accuracy, predictions"
   ]
  },
  {
   "cell_type": "code",
   "execution_count": 89,
   "metadata": {},
   "outputs": [
    {
     "name": "stdout",
     "output_type": "stream",
     "text": [
      "Create sweep with ID: r7vljbht\n",
      "Sweep URL: https://wandb.ai/singhsonalika5-indian-institute-of-technology-madras/Fashion_MNIST_Images/sweeps/r7vljbht\n"
     ]
    }
   ],
   "source": [
    "(train_images, train_labels), (test_images, test_labels) = fashion_mnist.load_data()\n",
    "\n",
    "# Define dataset sizes\n",
    "total_train_samples = train_labels.shape[0]\n",
    "train_size = int(0.9 * total_train_samples)  # 90% for training\n",
    "validation_size = total_train_samples - train_size  # 10% for validation\n",
    "test_size = test_labels.shape[0]\n",
    "\n",
    "# Shuffle indices to randomize the dataset\n",
    "train_indices = np.random.permutation(total_train_samples)\n",
    "\n",
    "# Split dataset into training, validation, and test sets\n",
    "shuffled_train_images = train_images[train_indices]\n",
    "shuffled_train_labels = train_labels[train_indices]\n",
    "\n",
    "X_train = shuffled_train_images[:train_size, :]\n",
    "Y_train = shuffled_train_labels[:train_size]\n",
    "\n",
    "X_valid = shuffled_train_images[train_size:, :]\n",
    "Y_valid = shuffled_train_labels[train_size:]\n",
    "\n",
    "X_test = test_images\n",
    "Y_test = test_labels\n",
    "\n",
    "# Define sweep configuration for hyperparameter tuning\n",
    "sweep_config = {\n",
    "    \"name\": \"Bayes_Hyperparam_Tuning\",\n",
    "    \"method\": \"bayes\",\n",
    "    \"metric\": {\n",
    "        \"name\": \"val_accuracy\",\n",
    "        \"goal\": \"maximize\"\n",
    "    },\n",
    "    \"parameters\": {\n",
    "        \"epochs\": {\n",
    "            \"values\": [5, 10]\n",
    "        },\n",
    "        \"init_method\": {\n",
    "            \"values\": [\"RANDOM\", \"XAVIER\"]\n",
    "        },\n",
    "        \"layers\": {\n",
    "            \"values\": [2, 3, 4]\n",
    "        },\n",
    "        \"hidden_neurons\": {\n",
    "            \"values\": [32, 64, 128]\n",
    "        },\n",
    "        \"activation_func\": {\n",
    "            \"values\": ['TANH', 'SIGMOID', 'RELU']\n",
    "        },\n",
    "        \"learning_rate\": {\n",
    "            \"values\": [0.001, 0.0001]\n",
    "        },\n",
    "        \"weight_decay\": {\n",
    "            \"values\": [0, 0.0005, 0.5]\n",
    "        },\n",
    "        \"optimizer\": {\n",
    "            \"values\": [\"SGD\", \"MGD\", \"NGD\", \"RMSPROP\", \"ADAM\"]\n",
    "        },\n",
    "        \"batch_size\": {\n",
    "            \"values\": [16, 32, 64]\n",
    "        }\n",
    "    }\n",
    "}\n",
    "\n",
    "# Initialize the sweep\n",
    "sweep_id = wandb.sweep(sweep_config, project='Fashion_MNIST_Images', entity='singhsonalika5-indian-institute-of-technology-madras')\n"
   ]
  },
  {
   "cell_type": "code",
   "execution_count": 90,
   "metadata": {},
   "outputs": [],
   "source": [
    "def train():    \n",
    "        config_defaults = dict(\n",
    "            max_epochs=5,\n",
    "            hidden_layers=3,\n",
    "            hidden_neurons=32,\n",
    "            weight_decay=0,\n",
    "            learning_rate=1e-3,\n",
    "            optimizer=\"MGD\",\n",
    "            batch_size=16,\n",
    "            activation=\"TANH\",\n",
    "            initializer=\"XAVIER\",\n",
    "            loss_function=\"CROSS\",\n",
    "        )\n",
    "        \n",
    "        wandb.init(config=config_defaults)\n",
    "    \n",
    "        wandb.run.name = \"hl_\" + str(wandb.config.hidden_layers) + \"_hn_\" + str(wandb.config.hidden_neurons) + \"_opt_\" + wandb.config.optimizer + \"_act_\" + wandb.config.activation + \"_lr_\" + str(wandb.config.learning_rate) + \"_bs_\"+str(wandb.config.batch_size) + \"_init_\" + wandb.config.initializer + \"_ep_\"+ str(wandb.config.max_epochs)+ \"_l2_\" + str(wandb.config.weight_decay) \n",
    "    \n",
    "        CONFIG = wandb.config\n",
    "\n",
    "        NN = NeuralNetwork(\n",
    "        hidden_layers=CONFIG.hidden_layers,\n",
    "        hidden_neurons=CONFIG.hidden_neurons,\n",
    "        train_images=train_images,\n",
    "        train_labels=train_labels,\n",
    "        num_train=train_size,\n",
    "        val_images=X_valid,\n",
    "        val_labels=Y_valid,\n",
    "        num_val=validation_size,\n",
    "        test_images=X_test,\n",
    "        test_labels=Y_test,\n",
    "        num_test=test_size,\n",
    "        optimizer=CONFIG.optimizer,\n",
    "        batch_size=CONFIG.batch_size,\n",
    "        weight_decay=CONFIG.weight_decay,\n",
    "        learning_rate=CONFIG.learning_rate,\n",
    "        max_epochs=CONFIG.max_epochs,\n",
    "        activation=CONFIG.activation,\n",
    "        initializer=CONFIG.initializer,\n",
    "        loss_function=CONFIG.loss_function\n",
    "    )\n",
    "\n",
    "        training_loss, training_accuracy, validation_accuracy, predictions = NN.optimizer(\n",
    "        NN.max_epochs, NN.num_train, NN.batch_size, NN.learning_rate)\n",
    "    \n"
   ]
  },
  {
   "cell_type": "code",
   "execution_count": null,
   "metadata": {},
   "outputs": [],
   "source": []
  },
  {
   "cell_type": "code",
   "execution_count": 92,
   "metadata": {},
   "outputs": [
    {
     "name": "stderr",
     "output_type": "stream",
     "text": [
      "\u001b[34m\u001b[1mwandb\u001b[0m: Agent Starting Run: h9xlu2c8 with config:\n",
      "\u001b[34m\u001b[1mwandb\u001b[0m: \tactivation_func: RELU\n",
      "\u001b[34m\u001b[1mwandb\u001b[0m: \tbatch_size: 64\n",
      "\u001b[34m\u001b[1mwandb\u001b[0m: \tepochs: 5\n",
      "\u001b[34m\u001b[1mwandb\u001b[0m: \thidden_neurons: 128\n",
      "\u001b[34m\u001b[1mwandb\u001b[0m: \tinit_method: RANDOM\n",
      "\u001b[34m\u001b[1mwandb\u001b[0m: \tlayers: 4\n",
      "\u001b[34m\u001b[1mwandb\u001b[0m: \tlearning_rate: 0.0001\n",
      "\u001b[34m\u001b[1mwandb\u001b[0m: \toptimizer: SGD\n",
      "\u001b[34m\u001b[1mwandb\u001b[0m: \tweight_decay: 0\n"
     ]
    },
    {
     "data": {
      "text/html": [
       "Tracking run with wandb version 0.19.7"
      ],
      "text/plain": [
       "<IPython.core.display.HTML object>"
      ]
     },
     "metadata": {},
     "output_type": "display_data"
    },
    {
     "data": {
      "text/html": [
       "Run data is saved locally in <code>c:\\Users\\singh\\OneDrive\\Documents\\GitHub\\DA6401_Assignment-01\\wandb\\run-20250315_015117-h9xlu2c8</code>"
      ],
      "text/plain": [
       "<IPython.core.display.HTML object>"
      ]
     },
     "metadata": {},
     "output_type": "display_data"
    },
    {
     "data": {
      "text/html": [
       "Syncing run <strong><a href='https://wandb.ai/singhsonalika5-indian-institute-of-technology-madras/Fashion_MNIST_Images/runs/h9xlu2c8' target=\"_blank\">expert-sweep-2</a></strong> to <a href='https://wandb.ai/singhsonalika5-indian-institute-of-technology-madras/Fashion_MNIST_Images' target=\"_blank\">Weights & Biases</a> (<a href='https://wandb.me/developer-guide' target=\"_blank\">docs</a>)<br>Sweep page: <a href='https://wandb.ai/singhsonalika5-indian-institute-of-technology-madras/Fashion_MNIST_Images/sweeps/r7vljbht' target=\"_blank\">https://wandb.ai/singhsonalika5-indian-institute-of-technology-madras/Fashion_MNIST_Images/sweeps/r7vljbht</a>"
      ],
      "text/plain": [
       "<IPython.core.display.HTML object>"
      ]
     },
     "metadata": {},
     "output_type": "display_data"
    },
    {
     "data": {
      "text/html": [
       " View project at <a href='https://wandb.ai/singhsonalika5-indian-institute-of-technology-madras/Fashion_MNIST_Images' target=\"_blank\">https://wandb.ai/singhsonalika5-indian-institute-of-technology-madras/Fashion_MNIST_Images</a>"
      ],
      "text/plain": [
       "<IPython.core.display.HTML object>"
      ]
     },
     "metadata": {},
     "output_type": "display_data"
    },
    {
     "data": {
      "text/html": [
       " View sweep at <a href='https://wandb.ai/singhsonalika5-indian-institute-of-technology-madras/Fashion_MNIST_Images/sweeps/r7vljbht' target=\"_blank\">https://wandb.ai/singhsonalika5-indian-institute-of-technology-madras/Fashion_MNIST_Images/sweeps/r7vljbht</a>"
      ],
      "text/plain": [
       "<IPython.core.display.HTML object>"
      ]
     },
     "metadata": {},
     "output_type": "display_data"
    },
    {
     "data": {
      "text/html": [
       " View run at <a href='https://wandb.ai/singhsonalika5-indian-institute-of-technology-madras/Fashion_MNIST_Images/runs/h9xlu2c8' target=\"_blank\">https://wandb.ai/singhsonalika5-indian-institute-of-technology-madras/Fashion_MNIST_Images/runs/h9xlu2c8</a>"
      ],
      "text/plain": [
       "<IPython.core.display.HTML object>"
      ]
     },
     "metadata": {},
     "output_type": "display_data"
    },
    {
     "name": "stderr",
     "output_type": "stream",
     "text": [
      "C:\\Users\\singh\\AppData\\Local\\Temp\\ipykernel_18712\\1915783164.py:4: RuntimeWarning: overflow encountered in exp\n",
      "  return 1.0 / (1 + np.exp(-(z)))\n",
      "C:\\Users\\singh\\AppData\\Local\\Temp\\ipykernel_18712\\2078877857.py:66: RuntimeWarning: divide by zero encountered in log\n",
      "  return np.mean([-true_labels[i] * np.log(predicted_labels[i]) for i in range(len(predicted_labels))])\n",
      "C:\\Users\\singh\\AppData\\Local\\Temp\\ipykernel_18712\\2078877857.py:66: RuntimeWarning: invalid value encountered in multiply\n",
      "  return np.mean([-true_labels[i] * np.log(predicted_labels[i]) for i in range(len(predicted_labels))])\n"
     ]
    },
    {
     "data": {
      "text/html": [],
      "text/plain": [
       "<IPython.core.display.HTML object>"
      ]
     },
     "metadata": {},
     "output_type": "display_data"
    },
    {
     "data": {
      "text/html": [
       " View run <strong style=\"color:#cdcd00\">hl_3_hn_128_opt_SGD_act_TANH_lr_0.0001_bs_64_init_XAVIER_ep_5_l2_0</strong> at: <a href='https://wandb.ai/singhsonalika5-indian-institute-of-technology-madras/Fashion_MNIST_Images/runs/h9xlu2c8' target=\"_blank\">https://wandb.ai/singhsonalika5-indian-institute-of-technology-madras/Fashion_MNIST_Images/runs/h9xlu2c8</a><br> View project at: <a href='https://wandb.ai/singhsonalika5-indian-institute-of-technology-madras/Fashion_MNIST_Images' target=\"_blank\">https://wandb.ai/singhsonalika5-indian-institute-of-technology-madras/Fashion_MNIST_Images</a><br>Synced 5 W&B file(s), 0 media file(s), 0 artifact file(s) and 0 other file(s)"
      ],
      "text/plain": [
       "<IPython.core.display.HTML object>"
      ]
     },
     "metadata": {},
     "output_type": "display_data"
    },
    {
     "data": {
      "text/html": [
       "Find logs at: <code>.\\wandb\\run-20250315_015117-h9xlu2c8\\logs</code>"
      ],
      "text/plain": [
       "<IPython.core.display.HTML object>"
      ]
     },
     "metadata": {},
     "output_type": "display_data"
    },
    {
     "name": "stderr",
     "output_type": "stream",
     "text": [
      "Run h9xlu2c8 errored:\n",
      "Traceback (most recent call last):\n",
      "  File \"c:\\Users\\singh\\AppData\\Local\\Programs\\Python\\Python312\\Lib\\site-packages\\wandb\\agents\\pyagent.py\", line 306, in _run_job\n",
      "    self._function()\n",
      "  File \"C:\\Users\\singh\\AppData\\Local\\Temp\\ipykernel_18712\\1481853125.py\", line 43, in train\n",
      "    training_loss, training_accuracy, validation_accuracy, predictions = NN.optimizer(\n",
      "                                                                         ^^^^^^^^^^^^^\n",
      "  File \"C:\\Users\\singh\\AppData\\Local\\Temp\\ipykernel_18712\\2078877857.py\", line 293, in sgd\n",
      "    validation_accuracy.append(self.compute_accuracy(self.num_test, self.predict(self.num_train, self.num_val), self.num_val)[0])\n",
      "                                                                    ^^^^^^^^^^^^^^^^^^^^^^^^^^^^^^^^^^^^^^^^^^\n",
      "  File \"C:\\Users\\singh\\AppData\\Local\\Temp\\ipykernel_18712\\2078877857.py\", line 207, in predict\n",
      "    input_batch[:, i].reshape(self.input_size, 1),\n",
      "    ~~~~~~~~~~~^^^^^^\n",
      "TypeError: 'int' object is not subscriptable\n",
      "\n",
      "\u001b[34m\u001b[1mwandb\u001b[0m: \u001b[32m\u001b[41mERROR\u001b[0m Run h9xlu2c8 errored:\n",
      "\u001b[34m\u001b[1mwandb\u001b[0m: \u001b[32m\u001b[41mERROR\u001b[0m Traceback (most recent call last):\n",
      "\u001b[34m\u001b[1mwandb\u001b[0m: \u001b[32m\u001b[41mERROR\u001b[0m   File \"c:\\Users\\singh\\AppData\\Local\\Programs\\Python\\Python312\\Lib\\site-packages\\wandb\\agents\\pyagent.py\", line 306, in _run_job\n",
      "\u001b[34m\u001b[1mwandb\u001b[0m: \u001b[32m\u001b[41mERROR\u001b[0m     self._function()\n",
      "\u001b[34m\u001b[1mwandb\u001b[0m: \u001b[32m\u001b[41mERROR\u001b[0m   File \"C:\\Users\\singh\\AppData\\Local\\Temp\\ipykernel_18712\\1481853125.py\", line 43, in train\n",
      "\u001b[34m\u001b[1mwandb\u001b[0m: \u001b[32m\u001b[41mERROR\u001b[0m     training_loss, training_accuracy, validation_accuracy, predictions = NN.optimizer(\n",
      "\u001b[34m\u001b[1mwandb\u001b[0m: \u001b[32m\u001b[41mERROR\u001b[0m                                                                          ^^^^^^^^^^^^^\n",
      "\u001b[34m\u001b[1mwandb\u001b[0m: \u001b[32m\u001b[41mERROR\u001b[0m   File \"C:\\Users\\singh\\AppData\\Local\\Temp\\ipykernel_18712\\2078877857.py\", line 293, in sgd\n",
      "\u001b[34m\u001b[1mwandb\u001b[0m: \u001b[32m\u001b[41mERROR\u001b[0m     validation_accuracy.append(self.compute_accuracy(self.num_test, self.predict(self.num_train, self.num_val), self.num_val)[0])\n",
      "\u001b[34m\u001b[1mwandb\u001b[0m: \u001b[32m\u001b[41mERROR\u001b[0m                                                                     ^^^^^^^^^^^^^^^^^^^^^^^^^^^^^^^^^^^^^^^^^^\n",
      "\u001b[34m\u001b[1mwandb\u001b[0m: \u001b[32m\u001b[41mERROR\u001b[0m   File \"C:\\Users\\singh\\AppData\\Local\\Temp\\ipykernel_18712\\2078877857.py\", line 207, in predict\n",
      "\u001b[34m\u001b[1mwandb\u001b[0m: \u001b[32m\u001b[41mERROR\u001b[0m     input_batch[:, i].reshape(self.input_size, 1),\n",
      "\u001b[34m\u001b[1mwandb\u001b[0m: \u001b[32m\u001b[41mERROR\u001b[0m     ~~~~~~~~~~~^^^^^^\n",
      "\u001b[34m\u001b[1mwandb\u001b[0m: \u001b[32m\u001b[41mERROR\u001b[0m TypeError: 'int' object is not subscriptable\n",
      "\u001b[34m\u001b[1mwandb\u001b[0m: \u001b[32m\u001b[41mERROR\u001b[0m \n",
      "\u001b[34m\u001b[1mwandb\u001b[0m: Agent Starting Run: c12ea9s5 with config:\n",
      "\u001b[34m\u001b[1mwandb\u001b[0m: \tactivation_func: RELU\n",
      "\u001b[34m\u001b[1mwandb\u001b[0m: \tbatch_size: 16\n",
      "\u001b[34m\u001b[1mwandb\u001b[0m: \tepochs: 5\n",
      "\u001b[34m\u001b[1mwandb\u001b[0m: \thidden_neurons: 64\n",
      "\u001b[34m\u001b[1mwandb\u001b[0m: \tinit_method: RANDOM\n",
      "\u001b[34m\u001b[1mwandb\u001b[0m: \tlayers: 3\n",
      "\u001b[34m\u001b[1mwandb\u001b[0m: \tlearning_rate: 0.0001\n",
      "\u001b[34m\u001b[1mwandb\u001b[0m: \toptimizer: NGD\n",
      "\u001b[34m\u001b[1mwandb\u001b[0m: \tweight_decay: 0.0005\n"
     ]
    },
    {
     "data": {
      "text/html": [
       "Tracking run with wandb version 0.19.7"
      ],
      "text/plain": [
       "<IPython.core.display.HTML object>"
      ]
     },
     "metadata": {},
     "output_type": "display_data"
    },
    {
     "data": {
      "text/html": [
       "Run data is saved locally in <code>c:\\Users\\singh\\OneDrive\\Documents\\GitHub\\DA6401_Assignment-01\\wandb\\run-20250315_015758-c12ea9s5</code>"
      ],
      "text/plain": [
       "<IPython.core.display.HTML object>"
      ]
     },
     "metadata": {},
     "output_type": "display_data"
    },
    {
     "data": {
      "text/html": [
       "Syncing run <strong><a href='https://wandb.ai/singhsonalika5-indian-institute-of-technology-madras/Fashion_MNIST_Images/runs/c12ea9s5' target=\"_blank\">fluent-sweep-3</a></strong> to <a href='https://wandb.ai/singhsonalika5-indian-institute-of-technology-madras/Fashion_MNIST_Images' target=\"_blank\">Weights & Biases</a> (<a href='https://wandb.me/developer-guide' target=\"_blank\">docs</a>)<br>Sweep page: <a href='https://wandb.ai/singhsonalika5-indian-institute-of-technology-madras/Fashion_MNIST_Images/sweeps/r7vljbht' target=\"_blank\">https://wandb.ai/singhsonalika5-indian-institute-of-technology-madras/Fashion_MNIST_Images/sweeps/r7vljbht</a>"
      ],
      "text/plain": [
       "<IPython.core.display.HTML object>"
      ]
     },
     "metadata": {},
     "output_type": "display_data"
    },
    {
     "data": {
      "text/html": [
       " View project at <a href='https://wandb.ai/singhsonalika5-indian-institute-of-technology-madras/Fashion_MNIST_Images' target=\"_blank\">https://wandb.ai/singhsonalika5-indian-institute-of-technology-madras/Fashion_MNIST_Images</a>"
      ],
      "text/plain": [
       "<IPython.core.display.HTML object>"
      ]
     },
     "metadata": {},
     "output_type": "display_data"
    },
    {
     "data": {
      "text/html": [
       " View sweep at <a href='https://wandb.ai/singhsonalika5-indian-institute-of-technology-madras/Fashion_MNIST_Images/sweeps/r7vljbht' target=\"_blank\">https://wandb.ai/singhsonalika5-indian-institute-of-technology-madras/Fashion_MNIST_Images/sweeps/r7vljbht</a>"
      ],
      "text/plain": [
       "<IPython.core.display.HTML object>"
      ]
     },
     "metadata": {},
     "output_type": "display_data"
    },
    {
     "data": {
      "text/html": [
       " View run at <a href='https://wandb.ai/singhsonalika5-indian-institute-of-technology-madras/Fashion_MNIST_Images/runs/c12ea9s5' target=\"_blank\">https://wandb.ai/singhsonalika5-indian-institute-of-technology-madras/Fashion_MNIST_Images/runs/c12ea9s5</a>"
      ],
      "text/plain": [
       "<IPython.core.display.HTML object>"
      ]
     },
     "metadata": {},
     "output_type": "display_data"
    },
    {
     "name": "stdout",
     "output_type": "stream",
     "text": [
      "Epoch: 0, Loss: 1.443e-01, Training Accuracy: 0.10, Validation Accuracy: 0.65, Time: 124.93, Learning Rate: 1.000e-04\n",
      "Epoch: 1, Loss: 9.684e-02, Training Accuracy: 0.10, Validation Accuracy: 0.71, Time: 134.10, Learning Rate: 1.000e-04\n",
      "Epoch: 2, Loss: 8.019e-02, Training Accuracy: 0.10, Validation Accuracy: 0.74, Time: 137.70, Learning Rate: 1.000e-04\n",
      "Epoch: 3, Loss: 7.132e-02, Training Accuracy: 0.10, Validation Accuracy: 0.76, Time: 165.98, Learning Rate: 1.000e-04\n",
      "Epoch: 4, Loss: 6.587e-02, Training Accuracy: 0.10, Validation Accuracy: 0.77, Time: 150.46, Learning Rate: 1.000e-04\n"
     ]
    },
    {
     "data": {
      "text/html": [],
      "text/plain": [
       "<IPython.core.display.HTML object>"
      ]
     },
     "metadata": {},
     "output_type": "display_data"
    },
    {
     "data": {
      "text/html": [
       "<br>    <style><br>        .wandb-row {<br>            display: flex;<br>            flex-direction: row;<br>            flex-wrap: wrap;<br>            justify-content: flex-start;<br>            width: 100%;<br>        }<br>        .wandb-col {<br>            display: flex;<br>            flex-direction: column;<br>            flex-basis: 100%;<br>            flex: 1;<br>            padding: 10px;<br>        }<br>    </style><br><div class=\"wandb-row\"><div class=\"wandb-col\"><h3>Run history:</h3><br/><table class=\"wandb\"><tr><td>epoch</td><td>▁▃▅▆█</td></tr><tr><td>loss</td><td>█▄▂▁▁</td></tr><tr><td>training_accuracy</td><td>▄▆█▁▃</td></tr><tr><td>validation_accuracy</td><td>▁▄▇██</td></tr></table><br/></div><div class=\"wandb-col\"><h3>Run summary:</h3><br/><table class=\"wandb\"><tr><td>epoch</td><td>4</td></tr><tr><td>loss</td><td>0.06587</td></tr><tr><td>training_accuracy</td><td>0.09998</td></tr><tr><td>validation_accuracy</td><td>0.767</td></tr></table><br/></div></div>"
      ],
      "text/plain": [
       "<IPython.core.display.HTML object>"
      ]
     },
     "metadata": {},
     "output_type": "display_data"
    },
    {
     "data": {
      "text/html": [
       " View run <strong style=\"color:#cdcd00\">hl_3_hn_64_opt_NGD_act_TANH_lr_0.0001_bs_16_init_XAVIER_ep_5_l2_0.0005</strong> at: <a href='https://wandb.ai/singhsonalika5-indian-institute-of-technology-madras/Fashion_MNIST_Images/runs/c12ea9s5' target=\"_blank\">https://wandb.ai/singhsonalika5-indian-institute-of-technology-madras/Fashion_MNIST_Images/runs/c12ea9s5</a><br> View project at: <a href='https://wandb.ai/singhsonalika5-indian-institute-of-technology-madras/Fashion_MNIST_Images' target=\"_blank\">https://wandb.ai/singhsonalika5-indian-institute-of-technology-madras/Fashion_MNIST_Images</a><br>Synced 5 W&B file(s), 0 media file(s), 0 artifact file(s) and 0 other file(s)"
      ],
      "text/plain": [
       "<IPython.core.display.HTML object>"
      ]
     },
     "metadata": {},
     "output_type": "display_data"
    },
    {
     "data": {
      "text/html": [
       "Find logs at: <code>.\\wandb\\run-20250315_015758-c12ea9s5\\logs</code>"
      ],
      "text/plain": [
       "<IPython.core.display.HTML object>"
      ]
     },
     "metadata": {},
     "output_type": "display_data"
    },
    {
     "name": "stderr",
     "output_type": "stream",
     "text": [
      "\u001b[34m\u001b[1mwandb\u001b[0m: Agent Starting Run: 9nuzieeq with config:\n",
      "\u001b[34m\u001b[1mwandb\u001b[0m: \tactivation_func: RELU\n",
      "\u001b[34m\u001b[1mwandb\u001b[0m: \tbatch_size: 32\n",
      "\u001b[34m\u001b[1mwandb\u001b[0m: \tepochs: 10\n",
      "\u001b[34m\u001b[1mwandb\u001b[0m: \thidden_neurons: 32\n",
      "\u001b[34m\u001b[1mwandb\u001b[0m: \tinit_method: RANDOM\n",
      "\u001b[34m\u001b[1mwandb\u001b[0m: \tlayers: 3\n",
      "\u001b[34m\u001b[1mwandb\u001b[0m: \tlearning_rate: 0.001\n",
      "\u001b[34m\u001b[1mwandb\u001b[0m: \toptimizer: RMSPROP\n",
      "\u001b[34m\u001b[1mwandb\u001b[0m: \tweight_decay: 0.5\n"
     ]
    },
    {
     "data": {
      "text/html": [
       "Tracking run with wandb version 0.19.7"
      ],
      "text/plain": [
       "<IPython.core.display.HTML object>"
      ]
     },
     "metadata": {},
     "output_type": "display_data"
    },
    {
     "data": {
      "text/html": [
       "Run data is saved locally in <code>c:\\Users\\singh\\OneDrive\\Documents\\GitHub\\DA6401_Assignment-01\\wandb\\run-20250315_021159-9nuzieeq</code>"
      ],
      "text/plain": [
       "<IPython.core.display.HTML object>"
      ]
     },
     "metadata": {},
     "output_type": "display_data"
    },
    {
     "data": {
      "text/html": [
       "Syncing run <strong><a href='https://wandb.ai/singhsonalika5-indian-institute-of-technology-madras/Fashion_MNIST_Images/runs/9nuzieeq' target=\"_blank\">autumn-sweep-4</a></strong> to <a href='https://wandb.ai/singhsonalika5-indian-institute-of-technology-madras/Fashion_MNIST_Images' target=\"_blank\">Weights & Biases</a> (<a href='https://wandb.me/developer-guide' target=\"_blank\">docs</a>)<br>Sweep page: <a href='https://wandb.ai/singhsonalika5-indian-institute-of-technology-madras/Fashion_MNIST_Images/sweeps/r7vljbht' target=\"_blank\">https://wandb.ai/singhsonalika5-indian-institute-of-technology-madras/Fashion_MNIST_Images/sweeps/r7vljbht</a>"
      ],
      "text/plain": [
       "<IPython.core.display.HTML object>"
      ]
     },
     "metadata": {},
     "output_type": "display_data"
    },
    {
     "data": {
      "text/html": [
       " View project at <a href='https://wandb.ai/singhsonalika5-indian-institute-of-technology-madras/Fashion_MNIST_Images' target=\"_blank\">https://wandb.ai/singhsonalika5-indian-institute-of-technology-madras/Fashion_MNIST_Images</a>"
      ],
      "text/plain": [
       "<IPython.core.display.HTML object>"
      ]
     },
     "metadata": {},
     "output_type": "display_data"
    },
    {
     "data": {
      "text/html": [
       " View sweep at <a href='https://wandb.ai/singhsonalika5-indian-institute-of-technology-madras/Fashion_MNIST_Images/sweeps/r7vljbht' target=\"_blank\">https://wandb.ai/singhsonalika5-indian-institute-of-technology-madras/Fashion_MNIST_Images/sweeps/r7vljbht</a>"
      ],
      "text/plain": [
       "<IPython.core.display.HTML object>"
      ]
     },
     "metadata": {},
     "output_type": "display_data"
    },
    {
     "data": {
      "text/html": [
       " View run at <a href='https://wandb.ai/singhsonalika5-indian-institute-of-technology-madras/Fashion_MNIST_Images/runs/9nuzieeq' target=\"_blank\">https://wandb.ai/singhsonalika5-indian-institute-of-technology-madras/Fashion_MNIST_Images/runs/9nuzieeq</a>"
      ],
      "text/plain": [
       "<IPython.core.display.HTML object>"
      ]
     },
     "metadata": {},
     "output_type": "display_data"
    },
    {
     "name": "stdout",
     "output_type": "stream",
     "text": [
      "Epoch: 0, Loss: 6.220e-02, Training Accuracy: 0.10, Validation Accuracy: 0.83, Time: 47.92, Learning Rate: 1.000e-03\n",
      "Epoch: 1, Loss: 4.162e-02, Training Accuracy: 0.10, Validation Accuracy: 0.86, Time: 49.91, Learning Rate: 1.000e-03\n",
      "Epoch: 2, Loss: 3.768e-02, Training Accuracy: 0.10, Validation Accuracy: 0.86, Time: 49.78, Learning Rate: 1.000e-03\n",
      "Epoch: 3, Loss: 3.568e-02, Training Accuracy: 0.10, Validation Accuracy: 0.86, Time: 47.83, Learning Rate: 1.000e-03\n",
      "Epoch: 4, Loss: 3.418e-02, Training Accuracy: 0.10, Validation Accuracy: 0.87, Time: 48.55, Learning Rate: 1.000e-03\n"
     ]
    },
    {
     "data": {
      "text/html": [],
      "text/plain": [
       "<IPython.core.display.HTML object>"
      ]
     },
     "metadata": {},
     "output_type": "display_data"
    },
    {
     "data": {
      "text/html": [
       "<br>    <style><br>        .wandb-row {<br>            display: flex;<br>            flex-direction: row;<br>            flex-wrap: wrap;<br>            justify-content: flex-start;<br>            width: 100%;<br>        }<br>        .wandb-col {<br>            display: flex;<br>            flex-direction: column;<br>            flex-basis: 100%;<br>            flex: 1;<br>            padding: 10px;<br>        }<br>    </style><br><div class=\"wandb-row\"><div class=\"wandb-col\"><h3>Run history:</h3><br/><table class=\"wandb\"><tr><td>epoch</td><td>▁▃▅▆█</td></tr><tr><td>loss</td><td>█▃▂▁▁</td></tr><tr><td>training_accuracy</td><td>█▃▅▁▂</td></tr><tr><td>validation_accuracy</td><td>▁▆▇▇█</td></tr></table><br/></div><div class=\"wandb-col\"><h3>Run summary:</h3><br/><table class=\"wandb\"><tr><td>epoch</td><td>4</td></tr><tr><td>loss</td><td>0.03418</td></tr><tr><td>training_accuracy</td><td>0.09954</td></tr><tr><td>validation_accuracy</td><td>0.8675</td></tr></table><br/></div></div>"
      ],
      "text/plain": [
       "<IPython.core.display.HTML object>"
      ]
     },
     "metadata": {},
     "output_type": "display_data"
    },
    {
     "data": {
      "text/html": [
       " View run <strong style=\"color:#cdcd00\">hl_3_hn_32_opt_RMSPROP_act_TANH_lr_0.001_bs_32_init_XAVIER_ep_5_l2_0.5</strong> at: <a href='https://wandb.ai/singhsonalika5-indian-institute-of-technology-madras/Fashion_MNIST_Images/runs/9nuzieeq' target=\"_blank\">https://wandb.ai/singhsonalika5-indian-institute-of-technology-madras/Fashion_MNIST_Images/runs/9nuzieeq</a><br> View project at: <a href='https://wandb.ai/singhsonalika5-indian-institute-of-technology-madras/Fashion_MNIST_Images' target=\"_blank\">https://wandb.ai/singhsonalika5-indian-institute-of-technology-madras/Fashion_MNIST_Images</a><br>Synced 5 W&B file(s), 0 media file(s), 0 artifact file(s) and 0 other file(s)"
      ],
      "text/plain": [
       "<IPython.core.display.HTML object>"
      ]
     },
     "metadata": {},
     "output_type": "display_data"
    },
    {
     "data": {
      "text/html": [
       "Find logs at: <code>.\\wandb\\run-20250315_021159-9nuzieeq\\logs</code>"
      ],
      "text/plain": [
       "<IPython.core.display.HTML object>"
      ]
     },
     "metadata": {},
     "output_type": "display_data"
    },
    {
     "name": "stderr",
     "output_type": "stream",
     "text": [
      "\u001b[34m\u001b[1mwandb\u001b[0m: Agent Starting Run: 6b9jufm3 with config:\n",
      "\u001b[34m\u001b[1mwandb\u001b[0m: \tactivation_func: RELU\n",
      "\u001b[34m\u001b[1mwandb\u001b[0m: \tbatch_size: 64\n",
      "\u001b[34m\u001b[1mwandb\u001b[0m: \tepochs: 5\n",
      "\u001b[34m\u001b[1mwandb\u001b[0m: \thidden_neurons: 32\n",
      "\u001b[34m\u001b[1mwandb\u001b[0m: \tinit_method: XAVIER\n",
      "\u001b[34m\u001b[1mwandb\u001b[0m: \tlayers: 4\n",
      "\u001b[34m\u001b[1mwandb\u001b[0m: \tlearning_rate: 0.001\n",
      "\u001b[34m\u001b[1mwandb\u001b[0m: \toptimizer: SGD\n",
      "\u001b[34m\u001b[1mwandb\u001b[0m: \tweight_decay: 0.0005\n"
     ]
    },
    {
     "data": {
      "text/html": [
       "Tracking run with wandb version 0.19.7"
      ],
      "text/plain": [
       "<IPython.core.display.HTML object>"
      ]
     },
     "metadata": {},
     "output_type": "display_data"
    },
    {
     "data": {
      "text/html": [
       "Run data is saved locally in <code>c:\\Users\\singh\\OneDrive\\Documents\\GitHub\\DA6401_Assignment-01\\wandb\\run-20250315_021711-6b9jufm3</code>"
      ],
      "text/plain": [
       "<IPython.core.display.HTML object>"
      ]
     },
     "metadata": {},
     "output_type": "display_data"
    },
    {
     "data": {
      "text/html": [
       "Syncing run <strong><a href='https://wandb.ai/singhsonalika5-indian-institute-of-technology-madras/Fashion_MNIST_Images/runs/6b9jufm3' target=\"_blank\">glamorous-sweep-5</a></strong> to <a href='https://wandb.ai/singhsonalika5-indian-institute-of-technology-madras/Fashion_MNIST_Images' target=\"_blank\">Weights & Biases</a> (<a href='https://wandb.me/developer-guide' target=\"_blank\">docs</a>)<br>Sweep page: <a href='https://wandb.ai/singhsonalika5-indian-institute-of-technology-madras/Fashion_MNIST_Images/sweeps/r7vljbht' target=\"_blank\">https://wandb.ai/singhsonalika5-indian-institute-of-technology-madras/Fashion_MNIST_Images/sweeps/r7vljbht</a>"
      ],
      "text/plain": [
       "<IPython.core.display.HTML object>"
      ]
     },
     "metadata": {},
     "output_type": "display_data"
    },
    {
     "data": {
      "text/html": [
       " View project at <a href='https://wandb.ai/singhsonalika5-indian-institute-of-technology-madras/Fashion_MNIST_Images' target=\"_blank\">https://wandb.ai/singhsonalika5-indian-institute-of-technology-madras/Fashion_MNIST_Images</a>"
      ],
      "text/plain": [
       "<IPython.core.display.HTML object>"
      ]
     },
     "metadata": {},
     "output_type": "display_data"
    },
    {
     "data": {
      "text/html": [
       " View sweep at <a href='https://wandb.ai/singhsonalika5-indian-institute-of-technology-madras/Fashion_MNIST_Images/sweeps/r7vljbht' target=\"_blank\">https://wandb.ai/singhsonalika5-indian-institute-of-technology-madras/Fashion_MNIST_Images/sweeps/r7vljbht</a>"
      ],
      "text/plain": [
       "<IPython.core.display.HTML object>"
      ]
     },
     "metadata": {},
     "output_type": "display_data"
    },
    {
     "data": {
      "text/html": [
       " View run at <a href='https://wandb.ai/singhsonalika5-indian-institute-of-technology-madras/Fashion_MNIST_Images/runs/6b9jufm3' target=\"_blank\">https://wandb.ai/singhsonalika5-indian-institute-of-technology-madras/Fashion_MNIST_Images/runs/6b9jufm3</a>"
      ],
      "text/plain": [
       "<IPython.core.display.HTML object>"
      ]
     },
     "metadata": {},
     "output_type": "display_data"
    },
    {
     "data": {
      "text/html": [],
      "text/plain": [
       "<IPython.core.display.HTML object>"
      ]
     },
     "metadata": {},
     "output_type": "display_data"
    },
    {
     "data": {
      "text/html": [
       " View run <strong style=\"color:#cdcd00\">hl_3_hn_32_opt_SGD_act_TANH_lr_0.001_bs_64_init_XAVIER_ep_5_l2_0.0005</strong> at: <a href='https://wandb.ai/singhsonalika5-indian-institute-of-technology-madras/Fashion_MNIST_Images/runs/6b9jufm3' target=\"_blank\">https://wandb.ai/singhsonalika5-indian-institute-of-technology-madras/Fashion_MNIST_Images/runs/6b9jufm3</a><br> View project at: <a href='https://wandb.ai/singhsonalika5-indian-institute-of-technology-madras/Fashion_MNIST_Images' target=\"_blank\">https://wandb.ai/singhsonalika5-indian-institute-of-technology-madras/Fashion_MNIST_Images</a><br>Synced 5 W&B file(s), 0 media file(s), 0 artifact file(s) and 0 other file(s)"
      ],
      "text/plain": [
       "<IPython.core.display.HTML object>"
      ]
     },
     "metadata": {},
     "output_type": "display_data"
    },
    {
     "data": {
      "text/html": [
       "Find logs at: <code>.\\wandb\\run-20250315_021711-6b9jufm3\\logs</code>"
      ],
      "text/plain": [
       "<IPython.core.display.HTML object>"
      ]
     },
     "metadata": {},
     "output_type": "display_data"
    },
    {
     "name": "stderr",
     "output_type": "stream",
     "text": [
      "Run 6b9jufm3 errored:\n",
      "Traceback (most recent call last):\n",
      "  File \"c:\\Users\\singh\\AppData\\Local\\Programs\\Python\\Python312\\Lib\\site-packages\\wandb\\agents\\pyagent.py\", line 306, in _run_job\n",
      "    self._function()\n",
      "  File \"C:\\Users\\singh\\AppData\\Local\\Temp\\ipykernel_18712\\1481853125.py\", line 43, in train\n",
      "    training_loss, training_accuracy, validation_accuracy, predictions = NN.optimizer(\n",
      "                                                                         ^^^^^^^^^^^^^\n",
      "  File \"C:\\Users\\singh\\AppData\\Local\\Temp\\ipykernel_18712\\2078877857.py\", line 293, in sgd\n",
      "    validation_accuracy.append(self.compute_accuracy(self.num_test, self.predict(self.num_train, self.num_val), self.num_val)[0])\n",
      "                                                                    ^^^^^^^^^^^^^^^^^^^^^^^^^^^^^^^^^^^^^^^^^^\n",
      "  File \"C:\\Users\\singh\\AppData\\Local\\Temp\\ipykernel_18712\\2078877857.py\", line 207, in predict\n",
      "    input_batch[:, i].reshape(self.input_size, 1),\n",
      "    ~~~~~~~~~~~^^^^^^\n",
      "TypeError: 'int' object is not subscriptable\n",
      "\n",
      "\u001b[34m\u001b[1mwandb\u001b[0m: \u001b[32m\u001b[41mERROR\u001b[0m Run 6b9jufm3 errored:\n",
      "\u001b[34m\u001b[1mwandb\u001b[0m: \u001b[32m\u001b[41mERROR\u001b[0m Traceback (most recent call last):\n",
      "\u001b[34m\u001b[1mwandb\u001b[0m: \u001b[32m\u001b[41mERROR\u001b[0m   File \"c:\\Users\\singh\\AppData\\Local\\Programs\\Python\\Python312\\Lib\\site-packages\\wandb\\agents\\pyagent.py\", line 306, in _run_job\n",
      "\u001b[34m\u001b[1mwandb\u001b[0m: \u001b[32m\u001b[41mERROR\u001b[0m     self._function()\n",
      "\u001b[34m\u001b[1mwandb\u001b[0m: \u001b[32m\u001b[41mERROR\u001b[0m   File \"C:\\Users\\singh\\AppData\\Local\\Temp\\ipykernel_18712\\1481853125.py\", line 43, in train\n",
      "\u001b[34m\u001b[1mwandb\u001b[0m: \u001b[32m\u001b[41mERROR\u001b[0m     training_loss, training_accuracy, validation_accuracy, predictions = NN.optimizer(\n",
      "\u001b[34m\u001b[1mwandb\u001b[0m: \u001b[32m\u001b[41mERROR\u001b[0m                                                                          ^^^^^^^^^^^^^\n",
      "\u001b[34m\u001b[1mwandb\u001b[0m: \u001b[32m\u001b[41mERROR\u001b[0m   File \"C:\\Users\\singh\\AppData\\Local\\Temp\\ipykernel_18712\\2078877857.py\", line 293, in sgd\n",
      "\u001b[34m\u001b[1mwandb\u001b[0m: \u001b[32m\u001b[41mERROR\u001b[0m     validation_accuracy.append(self.compute_accuracy(self.num_test, self.predict(self.num_train, self.num_val), self.num_val)[0])\n",
      "\u001b[34m\u001b[1mwandb\u001b[0m: \u001b[32m\u001b[41mERROR\u001b[0m                                                                     ^^^^^^^^^^^^^^^^^^^^^^^^^^^^^^^^^^^^^^^^^^\n",
      "\u001b[34m\u001b[1mwandb\u001b[0m: \u001b[32m\u001b[41mERROR\u001b[0m   File \"C:\\Users\\singh\\AppData\\Local\\Temp\\ipykernel_18712\\2078877857.py\", line 207, in predict\n",
      "\u001b[34m\u001b[1mwandb\u001b[0m: \u001b[32m\u001b[41mERROR\u001b[0m     input_batch[:, i].reshape(self.input_size, 1),\n",
      "\u001b[34m\u001b[1mwandb\u001b[0m: \u001b[32m\u001b[41mERROR\u001b[0m     ~~~~~~~~~~~^^^^^^\n",
      "\u001b[34m\u001b[1mwandb\u001b[0m: \u001b[32m\u001b[41mERROR\u001b[0m TypeError: 'int' object is not subscriptable\n",
      "\u001b[34m\u001b[1mwandb\u001b[0m: \u001b[32m\u001b[41mERROR\u001b[0m \n",
      "\u001b[34m\u001b[1mwandb\u001b[0m: Agent Starting Run: sy1j0301 with config:\n",
      "\u001b[34m\u001b[1mwandb\u001b[0m: \tactivation_func: RELU\n",
      "\u001b[34m\u001b[1mwandb\u001b[0m: \tbatch_size: 32\n",
      "\u001b[34m\u001b[1mwandb\u001b[0m: \tepochs: 5\n",
      "\u001b[34m\u001b[1mwandb\u001b[0m: \thidden_neurons: 64\n",
      "\u001b[34m\u001b[1mwandb\u001b[0m: \tinit_method: RANDOM\n",
      "\u001b[34m\u001b[1mwandb\u001b[0m: \tlayers: 4\n",
      "\u001b[34m\u001b[1mwandb\u001b[0m: \tlearning_rate: 0.001\n",
      "\u001b[34m\u001b[1mwandb\u001b[0m: \toptimizer: RMSPROP\n",
      "\u001b[34m\u001b[1mwandb\u001b[0m: \tweight_decay: 0\n"
     ]
    },
    {
     "data": {
      "text/html": [
       "Tracking run with wandb version 0.19.7"
      ],
      "text/plain": [
       "<IPython.core.display.HTML object>"
      ]
     },
     "metadata": {},
     "output_type": "display_data"
    },
    {
     "data": {
      "text/html": [
       "Run data is saved locally in <code>c:\\Users\\singh\\OneDrive\\Documents\\GitHub\\DA6401_Assignment-01\\wandb\\run-20250315_021826-sy1j0301</code>"
      ],
      "text/plain": [
       "<IPython.core.display.HTML object>"
      ]
     },
     "metadata": {},
     "output_type": "display_data"
    },
    {
     "data": {
      "text/html": [
       "Syncing run <strong><a href='https://wandb.ai/singhsonalika5-indian-institute-of-technology-madras/Fashion_MNIST_Images/runs/sy1j0301' target=\"_blank\">warm-sweep-6</a></strong> to <a href='https://wandb.ai/singhsonalika5-indian-institute-of-technology-madras/Fashion_MNIST_Images' target=\"_blank\">Weights & Biases</a> (<a href='https://wandb.me/developer-guide' target=\"_blank\">docs</a>)<br>Sweep page: <a href='https://wandb.ai/singhsonalika5-indian-institute-of-technology-madras/Fashion_MNIST_Images/sweeps/r7vljbht' target=\"_blank\">https://wandb.ai/singhsonalika5-indian-institute-of-technology-madras/Fashion_MNIST_Images/sweeps/r7vljbht</a>"
      ],
      "text/plain": [
       "<IPython.core.display.HTML object>"
      ]
     },
     "metadata": {},
     "output_type": "display_data"
    },
    {
     "data": {
      "text/html": [
       " View project at <a href='https://wandb.ai/singhsonalika5-indian-institute-of-technology-madras/Fashion_MNIST_Images' target=\"_blank\">https://wandb.ai/singhsonalika5-indian-institute-of-technology-madras/Fashion_MNIST_Images</a>"
      ],
      "text/plain": [
       "<IPython.core.display.HTML object>"
      ]
     },
     "metadata": {},
     "output_type": "display_data"
    },
    {
     "data": {
      "text/html": [
       " View sweep at <a href='https://wandb.ai/singhsonalika5-indian-institute-of-technology-madras/Fashion_MNIST_Images/sweeps/r7vljbht' target=\"_blank\">https://wandb.ai/singhsonalika5-indian-institute-of-technology-madras/Fashion_MNIST_Images/sweeps/r7vljbht</a>"
      ],
      "text/plain": [
       "<IPython.core.display.HTML object>"
      ]
     },
     "metadata": {},
     "output_type": "display_data"
    },
    {
     "data": {
      "text/html": [
       " View run at <a href='https://wandb.ai/singhsonalika5-indian-institute-of-technology-madras/Fashion_MNIST_Images/runs/sy1j0301' target=\"_blank\">https://wandb.ai/singhsonalika5-indian-institute-of-technology-madras/Fashion_MNIST_Images/runs/sy1j0301</a>"
      ],
      "text/plain": [
       "<IPython.core.display.HTML object>"
      ]
     },
     "metadata": {},
     "output_type": "display_data"
    },
    {
     "name": "stdout",
     "output_type": "stream",
     "text": [
      "Epoch: 0, Loss: 5.308e-02, Training Accuracy: 0.10, Validation Accuracy: 0.85, Time: 46.59, Learning Rate: 1.000e-03\n",
      "Epoch: 1, Loss: 3.939e-02, Training Accuracy: 0.10, Validation Accuracy: 0.84, Time: 47.77, Learning Rate: 1.000e-03\n",
      "Epoch: 2, Loss: 3.587e-02, Training Accuracy: 0.10, Validation Accuracy: 0.85, Time: 46.74, Learning Rate: 1.000e-03\n",
      "Epoch: 3, Loss: 3.378e-02, Training Accuracy: 0.10, Validation Accuracy: 0.86, Time: 46.42, Learning Rate: 1.000e-03\n",
      "Epoch: 4, Loss: 3.217e-02, Training Accuracy: 0.10, Validation Accuracy: 0.87, Time: 45.95, Learning Rate: 1.000e-03\n"
     ]
    },
    {
     "data": {
      "text/html": [],
      "text/plain": [
       "<IPython.core.display.HTML object>"
      ]
     },
     "metadata": {},
     "output_type": "display_data"
    },
    {
     "data": {
      "text/html": [
       "<br>    <style><br>        .wandb-row {<br>            display: flex;<br>            flex-direction: row;<br>            flex-wrap: wrap;<br>            justify-content: flex-start;<br>            width: 100%;<br>        }<br>        .wandb-col {<br>            display: flex;<br>            flex-direction: column;<br>            flex-basis: 100%;<br>            flex: 1;<br>            padding: 10px;<br>        }<br>    </style><br><div class=\"wandb-row\"><div class=\"wandb-col\"><h3>Run history:</h3><br/><table class=\"wandb\"><tr><td>epoch</td><td>▁▃▅▆█</td></tr><tr><td>loss</td><td>█▃▂▂▁</td></tr><tr><td>training_accuracy</td><td>▆▁▄█▄</td></tr><tr><td>validation_accuracy</td><td>▂▁▃▆█</td></tr></table><br/></div><div class=\"wandb-col\"><h3>Run summary:</h3><br/><table class=\"wandb\"><tr><td>epoch</td><td>4</td></tr><tr><td>loss</td><td>0.03217</td></tr><tr><td>training_accuracy</td><td>0.09852</td></tr><tr><td>validation_accuracy</td><td>0.8704</td></tr></table><br/></div></div>"
      ],
      "text/plain": [
       "<IPython.core.display.HTML object>"
      ]
     },
     "metadata": {},
     "output_type": "display_data"
    },
    {
     "data": {
      "text/html": [
       " View run <strong style=\"color:#cdcd00\">hl_3_hn_64_opt_RMSPROP_act_TANH_lr_0.001_bs_32_init_XAVIER_ep_5_l2_0</strong> at: <a href='https://wandb.ai/singhsonalika5-indian-institute-of-technology-madras/Fashion_MNIST_Images/runs/sy1j0301' target=\"_blank\">https://wandb.ai/singhsonalika5-indian-institute-of-technology-madras/Fashion_MNIST_Images/runs/sy1j0301</a><br> View project at: <a href='https://wandb.ai/singhsonalika5-indian-institute-of-technology-madras/Fashion_MNIST_Images' target=\"_blank\">https://wandb.ai/singhsonalika5-indian-institute-of-technology-madras/Fashion_MNIST_Images</a><br>Synced 5 W&B file(s), 0 media file(s), 0 artifact file(s) and 0 other file(s)"
      ],
      "text/plain": [
       "<IPython.core.display.HTML object>"
      ]
     },
     "metadata": {},
     "output_type": "display_data"
    },
    {
     "data": {
      "text/html": [
       "Find logs at: <code>.\\wandb\\run-20250315_021826-sy1j0301\\logs</code>"
      ],
      "text/plain": [
       "<IPython.core.display.HTML object>"
      ]
     },
     "metadata": {},
     "output_type": "display_data"
    },
    {
     "name": "stderr",
     "output_type": "stream",
     "text": [
      "\u001b[34m\u001b[1mwandb\u001b[0m: Agent Starting Run: 7mgp9ez2 with config:\n",
      "\u001b[34m\u001b[1mwandb\u001b[0m: \tactivation_func: SIGMOID\n",
      "\u001b[34m\u001b[1mwandb\u001b[0m: \tbatch_size: 16\n",
      "\u001b[34m\u001b[1mwandb\u001b[0m: \tepochs: 10\n",
      "\u001b[34m\u001b[1mwandb\u001b[0m: \thidden_neurons: 128\n",
      "\u001b[34m\u001b[1mwandb\u001b[0m: \tinit_method: XAVIER\n",
      "\u001b[34m\u001b[1mwandb\u001b[0m: \tlayers: 2\n",
      "\u001b[34m\u001b[1mwandb\u001b[0m: \tlearning_rate: 0.001\n",
      "\u001b[34m\u001b[1mwandb\u001b[0m: \toptimizer: NGD\n",
      "\u001b[34m\u001b[1mwandb\u001b[0m: \tweight_decay: 0.5\n"
     ]
    },
    {
     "data": {
      "text/html": [
       "Tracking run with wandb version 0.19.7"
      ],
      "text/plain": [
       "<IPython.core.display.HTML object>"
      ]
     },
     "metadata": {},
     "output_type": "display_data"
    },
    {
     "data": {
      "text/html": [
       "Run data is saved locally in <code>c:\\Users\\singh\\OneDrive\\Documents\\GitHub\\DA6401_Assignment-01\\wandb\\run-20250315_022312-7mgp9ez2</code>"
      ],
      "text/plain": [
       "<IPython.core.display.HTML object>"
      ]
     },
     "metadata": {},
     "output_type": "display_data"
    },
    {
     "data": {
      "text/html": [
       "Syncing run <strong><a href='https://wandb.ai/singhsonalika5-indian-institute-of-technology-madras/Fashion_MNIST_Images/runs/7mgp9ez2' target=\"_blank\">distinctive-sweep-7</a></strong> to <a href='https://wandb.ai/singhsonalika5-indian-institute-of-technology-madras/Fashion_MNIST_Images' target=\"_blank\">Weights & Biases</a> (<a href='https://wandb.me/developer-guide' target=\"_blank\">docs</a>)<br>Sweep page: <a href='https://wandb.ai/singhsonalika5-indian-institute-of-technology-madras/Fashion_MNIST_Images/sweeps/r7vljbht' target=\"_blank\">https://wandb.ai/singhsonalika5-indian-institute-of-technology-madras/Fashion_MNIST_Images/sweeps/r7vljbht</a>"
      ],
      "text/plain": [
       "<IPython.core.display.HTML object>"
      ]
     },
     "metadata": {},
     "output_type": "display_data"
    },
    {
     "data": {
      "text/html": [
       " View project at <a href='https://wandb.ai/singhsonalika5-indian-institute-of-technology-madras/Fashion_MNIST_Images' target=\"_blank\">https://wandb.ai/singhsonalika5-indian-institute-of-technology-madras/Fashion_MNIST_Images</a>"
      ],
      "text/plain": [
       "<IPython.core.display.HTML object>"
      ]
     },
     "metadata": {},
     "output_type": "display_data"
    },
    {
     "data": {
      "text/html": [
       " View sweep at <a href='https://wandb.ai/singhsonalika5-indian-institute-of-technology-madras/Fashion_MNIST_Images/sweeps/r7vljbht' target=\"_blank\">https://wandb.ai/singhsonalika5-indian-institute-of-technology-madras/Fashion_MNIST_Images/sweeps/r7vljbht</a>"
      ],
      "text/plain": [
       "<IPython.core.display.HTML object>"
      ]
     },
     "metadata": {},
     "output_type": "display_data"
    },
    {
     "data": {
      "text/html": [
       " View run at <a href='https://wandb.ai/singhsonalika5-indian-institute-of-technology-madras/Fashion_MNIST_Images/runs/7mgp9ez2' target=\"_blank\">https://wandb.ai/singhsonalika5-indian-institute-of-technology-madras/Fashion_MNIST_Images/runs/7mgp9ez2</a>"
      ],
      "text/plain": [
       "<IPython.core.display.HTML object>"
      ]
     },
     "metadata": {},
     "output_type": "display_data"
    },
    {
     "name": "stdout",
     "output_type": "stream",
     "text": [
      "Epoch: 0, Loss: 8.663e-02, Training Accuracy: 0.10, Validation Accuracy: 0.72, Time: 111.32, Learning Rate: 1.000e-03\n",
      "Epoch: 1, Loss: 6.372e-02, Training Accuracy: 0.10, Validation Accuracy: 0.78, Time: 135.12, Learning Rate: 1.000e-03\n",
      "Epoch: 2, Loss: 5.872e-02, Training Accuracy: 0.10, Validation Accuracy: 0.80, Time: 148.07, Learning Rate: 1.000e-03\n",
      "Epoch: 3, Loss: 5.530e-02, Training Accuracy: 0.10, Validation Accuracy: 0.80, Time: 134.99, Learning Rate: 1.000e-03\n",
      "Epoch: 4, Loss: 5.310e-02, Training Accuracy: 0.10, Validation Accuracy: 0.81, Time: 142.53, Learning Rate: 1.000e-03\n"
     ]
    },
    {
     "data": {
      "text/html": [],
      "text/plain": [
       "<IPython.core.display.HTML object>"
      ]
     },
     "metadata": {},
     "output_type": "display_data"
    },
    {
     "data": {
      "text/html": [
       "<br>    <style><br>        .wandb-row {<br>            display: flex;<br>            flex-direction: row;<br>            flex-wrap: wrap;<br>            justify-content: flex-start;<br>            width: 100%;<br>        }<br>        .wandb-col {<br>            display: flex;<br>            flex-direction: column;<br>            flex-basis: 100%;<br>            flex: 1;<br>            padding: 10px;<br>        }<br>    </style><br><div class=\"wandb-row\"><div class=\"wandb-col\"><h3>Run history:</h3><br/><table class=\"wandb\"><tr><td>epoch</td><td>▁▃▅▆█</td></tr><tr><td>loss</td><td>█▃▂▁▁</td></tr><tr><td>training_accuracy</td><td>█▇▆▅▁</td></tr><tr><td>validation_accuracy</td><td>▁▆███</td></tr></table><br/></div><div class=\"wandb-col\"><h3>Run summary:</h3><br/><table class=\"wandb\"><tr><td>epoch</td><td>4</td></tr><tr><td>loss</td><td>0.0531</td></tr><tr><td>training_accuracy</td><td>0.09846</td></tr><tr><td>validation_accuracy</td><td>0.8075</td></tr></table><br/></div></div>"
      ],
      "text/plain": [
       "<IPython.core.display.HTML object>"
      ]
     },
     "metadata": {},
     "output_type": "display_data"
    },
    {
     "data": {
      "text/html": [
       " View run <strong style=\"color:#cdcd00\">hl_3_hn_128_opt_NGD_act_TANH_lr_0.001_bs_16_init_XAVIER_ep_5_l2_0.5</strong> at: <a href='https://wandb.ai/singhsonalika5-indian-institute-of-technology-madras/Fashion_MNIST_Images/runs/7mgp9ez2' target=\"_blank\">https://wandb.ai/singhsonalika5-indian-institute-of-technology-madras/Fashion_MNIST_Images/runs/7mgp9ez2</a><br> View project at: <a href='https://wandb.ai/singhsonalika5-indian-institute-of-technology-madras/Fashion_MNIST_Images' target=\"_blank\">https://wandb.ai/singhsonalika5-indian-institute-of-technology-madras/Fashion_MNIST_Images</a><br>Synced 5 W&B file(s), 0 media file(s), 0 artifact file(s) and 0 other file(s)"
      ],
      "text/plain": [
       "<IPython.core.display.HTML object>"
      ]
     },
     "metadata": {},
     "output_type": "display_data"
    },
    {
     "data": {
      "text/html": [
       "Find logs at: <code>.\\wandb\\run-20250315_022312-7mgp9ez2\\logs</code>"
      ],
      "text/plain": [
       "<IPython.core.display.HTML object>"
      ]
     },
     "metadata": {},
     "output_type": "display_data"
    },
    {
     "name": "stderr",
     "output_type": "stream",
     "text": [
      "\u001b[34m\u001b[1mwandb\u001b[0m: Sweep Agent: Waiting for job.\n",
      "\u001b[34m\u001b[1mwandb\u001b[0m: Job received.\n",
      "\u001b[34m\u001b[1mwandb\u001b[0m: Agent Starting Run: avb8has3 with config:\n",
      "\u001b[34m\u001b[1mwandb\u001b[0m: \tactivation_func: SIGMOID\n",
      "\u001b[34m\u001b[1mwandb\u001b[0m: \tbatch_size: 16\n",
      "\u001b[34m\u001b[1mwandb\u001b[0m: \tepochs: 5\n",
      "\u001b[34m\u001b[1mwandb\u001b[0m: \thidden_neurons: 64\n",
      "\u001b[34m\u001b[1mwandb\u001b[0m: \tinit_method: XAVIER\n",
      "\u001b[34m\u001b[1mwandb\u001b[0m: \tlayers: 4\n",
      "\u001b[34m\u001b[1mwandb\u001b[0m: \tlearning_rate: 0.001\n",
      "\u001b[34m\u001b[1mwandb\u001b[0m: \toptimizer: NGD\n",
      "\u001b[34m\u001b[1mwandb\u001b[0m: \tweight_decay: 0.5\n"
     ]
    },
    {
     "data": {
      "text/html": [
       "Tracking run with wandb version 0.19.7"
      ],
      "text/plain": [
       "<IPython.core.display.HTML object>"
      ]
     },
     "metadata": {},
     "output_type": "display_data"
    },
    {
     "data": {
      "text/html": [
       "Run data is saved locally in <code>c:\\Users\\singh\\OneDrive\\Documents\\GitHub\\DA6401_Assignment-01\\wandb\\run-20250315_023650-avb8has3</code>"
      ],
      "text/plain": [
       "<IPython.core.display.HTML object>"
      ]
     },
     "metadata": {},
     "output_type": "display_data"
    },
    {
     "data": {
      "text/html": [
       "Syncing run <strong><a href='https://wandb.ai/singhsonalika5-indian-institute-of-technology-madras/Fashion_MNIST_Images/runs/avb8has3' target=\"_blank\">still-sweep-8</a></strong> to <a href='https://wandb.ai/singhsonalika5-indian-institute-of-technology-madras/Fashion_MNIST_Images' target=\"_blank\">Weights & Biases</a> (<a href='https://wandb.me/developer-guide' target=\"_blank\">docs</a>)<br>Sweep page: <a href='https://wandb.ai/singhsonalika5-indian-institute-of-technology-madras/Fashion_MNIST_Images/sweeps/r7vljbht' target=\"_blank\">https://wandb.ai/singhsonalika5-indian-institute-of-technology-madras/Fashion_MNIST_Images/sweeps/r7vljbht</a>"
      ],
      "text/plain": [
       "<IPython.core.display.HTML object>"
      ]
     },
     "metadata": {},
     "output_type": "display_data"
    },
    {
     "data": {
      "text/html": [
       " View project at <a href='https://wandb.ai/singhsonalika5-indian-institute-of-technology-madras/Fashion_MNIST_Images' target=\"_blank\">https://wandb.ai/singhsonalika5-indian-institute-of-technology-madras/Fashion_MNIST_Images</a>"
      ],
      "text/plain": [
       "<IPython.core.display.HTML object>"
      ]
     },
     "metadata": {},
     "output_type": "display_data"
    },
    {
     "data": {
      "text/html": [
       " View sweep at <a href='https://wandb.ai/singhsonalika5-indian-institute-of-technology-madras/Fashion_MNIST_Images/sweeps/r7vljbht' target=\"_blank\">https://wandb.ai/singhsonalika5-indian-institute-of-technology-madras/Fashion_MNIST_Images/sweeps/r7vljbht</a>"
      ],
      "text/plain": [
       "<IPython.core.display.HTML object>"
      ]
     },
     "metadata": {},
     "output_type": "display_data"
    },
    {
     "data": {
      "text/html": [
       " View run at <a href='https://wandb.ai/singhsonalika5-indian-institute-of-technology-madras/Fashion_MNIST_Images/runs/avb8has3' target=\"_blank\">https://wandb.ai/singhsonalika5-indian-institute-of-technology-madras/Fashion_MNIST_Images/runs/avb8has3</a>"
      ],
      "text/plain": [
       "<IPython.core.display.HTML object>"
      ]
     },
     "metadata": {},
     "output_type": "display_data"
    },
    {
     "name": "stdout",
     "output_type": "stream",
     "text": [
      "Epoch: 0, Loss: 8.981e-02, Training Accuracy: 0.10, Validation Accuracy: 0.71, Time: 76.79, Learning Rate: 1.000e-03\n",
      "Epoch: 1, Loss: 6.455e-02, Training Accuracy: 0.10, Validation Accuracy: 0.79, Time: 75.32, Learning Rate: 1.000e-03\n",
      "Epoch: 2, Loss: 5.965e-02, Training Accuracy: 0.10, Validation Accuracy: 0.80, Time: 76.04, Learning Rate: 1.000e-03\n",
      "Epoch: 3, Loss: 5.627e-02, Training Accuracy: 0.10, Validation Accuracy: 0.81, Time: 78.93, Learning Rate: 1.000e-03\n",
      "Epoch: 4, Loss: 5.473e-02, Training Accuracy: 0.10, Validation Accuracy: 0.80, Time: 76.19, Learning Rate: 1.000e-03\n"
     ]
    },
    {
     "data": {
      "text/html": [],
      "text/plain": [
       "<IPython.core.display.HTML object>"
      ]
     },
     "metadata": {},
     "output_type": "display_data"
    },
    {
     "data": {
      "text/html": [
       "<br>    <style><br>        .wandb-row {<br>            display: flex;<br>            flex-direction: row;<br>            flex-wrap: wrap;<br>            justify-content: flex-start;<br>            width: 100%;<br>        }<br>        .wandb-col {<br>            display: flex;<br>            flex-direction: column;<br>            flex-basis: 100%;<br>            flex: 1;<br>            padding: 10px;<br>        }<br>    </style><br><div class=\"wandb-row\"><div class=\"wandb-col\"><h3>Run history:</h3><br/><table class=\"wandb\"><tr><td>epoch</td><td>▁▃▅▆█</td></tr><tr><td>loss</td><td>█▃▂▁▁</td></tr><tr><td>training_accuracy</td><td>▃▄▇█▁</td></tr><tr><td>validation_accuracy</td><td>▁▇▇█▇</td></tr></table><br/></div><div class=\"wandb-col\"><h3>Run summary:</h3><br/><table class=\"wandb\"><tr><td>epoch</td><td>4</td></tr><tr><td>loss</td><td>0.05473</td></tr><tr><td>training_accuracy</td><td>0.09976</td></tr><tr><td>validation_accuracy</td><td>0.8019</td></tr></table><br/></div></div>"
      ],
      "text/plain": [
       "<IPython.core.display.HTML object>"
      ]
     },
     "metadata": {},
     "output_type": "display_data"
    },
    {
     "data": {
      "text/html": [
       " View run <strong style=\"color:#cdcd00\">hl_3_hn_64_opt_NGD_act_TANH_lr_0.001_bs_16_init_XAVIER_ep_5_l2_0.5</strong> at: <a href='https://wandb.ai/singhsonalika5-indian-institute-of-technology-madras/Fashion_MNIST_Images/runs/avb8has3' target=\"_blank\">https://wandb.ai/singhsonalika5-indian-institute-of-technology-madras/Fashion_MNIST_Images/runs/avb8has3</a><br> View project at: <a href='https://wandb.ai/singhsonalika5-indian-institute-of-technology-madras/Fashion_MNIST_Images' target=\"_blank\">https://wandb.ai/singhsonalika5-indian-institute-of-technology-madras/Fashion_MNIST_Images</a><br>Synced 5 W&B file(s), 0 media file(s), 0 artifact file(s) and 0 other file(s)"
      ],
      "text/plain": [
       "<IPython.core.display.HTML object>"
      ]
     },
     "metadata": {},
     "output_type": "display_data"
    },
    {
     "data": {
      "text/html": [
       "Find logs at: <code>.\\wandb\\run-20250315_023650-avb8has3\\logs</code>"
      ],
      "text/plain": [
       "<IPython.core.display.HTML object>"
      ]
     },
     "metadata": {},
     "output_type": "display_data"
    },
    {
     "name": "stderr",
     "output_type": "stream",
     "text": [
      "\u001b[34m\u001b[1mwandb\u001b[0m: Agent Starting Run: yfnikiuz with config:\n",
      "\u001b[34m\u001b[1mwandb\u001b[0m: \tactivation_func: TANH\n",
      "\u001b[34m\u001b[1mwandb\u001b[0m: \tbatch_size: 64\n",
      "\u001b[34m\u001b[1mwandb\u001b[0m: \tepochs: 10\n",
      "\u001b[34m\u001b[1mwandb\u001b[0m: \thidden_neurons: 32\n",
      "\u001b[34m\u001b[1mwandb\u001b[0m: \tinit_method: XAVIER\n",
      "\u001b[34m\u001b[1mwandb\u001b[0m: \tlayers: 3\n",
      "\u001b[34m\u001b[1mwandb\u001b[0m: \tlearning_rate: 0.001\n",
      "\u001b[34m\u001b[1mwandb\u001b[0m: \toptimizer: MGD\n",
      "\u001b[34m\u001b[1mwandb\u001b[0m: \tweight_decay: 0\n"
     ]
    },
    {
     "data": {
      "text/html": [
       "Tracking run with wandb version 0.19.7"
      ],
      "text/plain": [
       "<IPython.core.display.HTML object>"
      ]
     },
     "metadata": {},
     "output_type": "display_data"
    },
    {
     "data": {
      "text/html": [
       "Run data is saved locally in <code>c:\\Users\\singh\\OneDrive\\Documents\\GitHub\\DA6401_Assignment-01\\wandb\\run-20250315_024426-yfnikiuz</code>"
      ],
      "text/plain": [
       "<IPython.core.display.HTML object>"
      ]
     },
     "metadata": {},
     "output_type": "display_data"
    },
    {
     "data": {
      "text/html": [
       "Syncing run <strong><a href='https://wandb.ai/singhsonalika5-indian-institute-of-technology-madras/Fashion_MNIST_Images/runs/yfnikiuz' target=\"_blank\">glorious-sweep-9</a></strong> to <a href='https://wandb.ai/singhsonalika5-indian-institute-of-technology-madras/Fashion_MNIST_Images' target=\"_blank\">Weights & Biases</a> (<a href='https://wandb.me/developer-guide' target=\"_blank\">docs</a>)<br>Sweep page: <a href='https://wandb.ai/singhsonalika5-indian-institute-of-technology-madras/Fashion_MNIST_Images/sweeps/r7vljbht' target=\"_blank\">https://wandb.ai/singhsonalika5-indian-institute-of-technology-madras/Fashion_MNIST_Images/sweeps/r7vljbht</a>"
      ],
      "text/plain": [
       "<IPython.core.display.HTML object>"
      ]
     },
     "metadata": {},
     "output_type": "display_data"
    },
    {
     "data": {
      "text/html": [
       " View project at <a href='https://wandb.ai/singhsonalika5-indian-institute-of-technology-madras/Fashion_MNIST_Images' target=\"_blank\">https://wandb.ai/singhsonalika5-indian-institute-of-technology-madras/Fashion_MNIST_Images</a>"
      ],
      "text/plain": [
       "<IPython.core.display.HTML object>"
      ]
     },
     "metadata": {},
     "output_type": "display_data"
    },
    {
     "data": {
      "text/html": [
       " View sweep at <a href='https://wandb.ai/singhsonalika5-indian-institute-of-technology-madras/Fashion_MNIST_Images/sweeps/r7vljbht' target=\"_blank\">https://wandb.ai/singhsonalika5-indian-institute-of-technology-madras/Fashion_MNIST_Images/sweeps/r7vljbht</a>"
      ],
      "text/plain": [
       "<IPython.core.display.HTML object>"
      ]
     },
     "metadata": {},
     "output_type": "display_data"
    },
    {
     "data": {
      "text/html": [
       " View run at <a href='https://wandb.ai/singhsonalika5-indian-institute-of-technology-madras/Fashion_MNIST_Images/runs/yfnikiuz' target=\"_blank\">https://wandb.ai/singhsonalika5-indian-institute-of-technology-madras/Fashion_MNIST_Images/runs/yfnikiuz</a>"
      ],
      "text/plain": [
       "<IPython.core.display.HTML object>"
      ]
     },
     "metadata": {},
     "output_type": "display_data"
    },
    {
     "name": "stdout",
     "output_type": "stream",
     "text": [
      "Epoch: 0, Loss: 1.387e-01, Training Accuracy: 0.10, Validation Accuracy: 0.68, Time: 47.01, Learning Rate: 1.000e-03\n",
      "Epoch: 1, Loss: 8.554e-02, Training Accuracy: 0.10, Validation Accuracy: 0.74, Time: 39.94, Learning Rate: 1.000e-03\n",
      "Epoch: 2, Loss: 6.746e-02, Training Accuracy: 0.10, Validation Accuracy: 0.78, Time: 40.91, Learning Rate: 1.000e-03\n",
      "Epoch: 3, Loss: 5.868e-02, Training Accuracy: 0.10, Validation Accuracy: 0.80, Time: 39.87, Learning Rate: 1.000e-03\n",
      "Epoch: 4, Loss: 5.312e-02, Training Accuracy: 0.10, Validation Accuracy: 0.82, Time: 40.19, Learning Rate: 1.000e-03\n"
     ]
    },
    {
     "data": {
      "text/html": [],
      "text/plain": [
       "<IPython.core.display.HTML object>"
      ]
     },
     "metadata": {},
     "output_type": "display_data"
    },
    {
     "data": {
      "text/html": [
       "<br>    <style><br>        .wandb-row {<br>            display: flex;<br>            flex-direction: row;<br>            flex-wrap: wrap;<br>            justify-content: flex-start;<br>            width: 100%;<br>        }<br>        .wandb-col {<br>            display: flex;<br>            flex-direction: column;<br>            flex-basis: 100%;<br>            flex: 1;<br>            padding: 10px;<br>        }<br>    </style><br><div class=\"wandb-row\"><div class=\"wandb-col\"><h3>Run history:</h3><br/><table class=\"wandb\"><tr><td>epoch</td><td>▁▃▅▆█</td></tr><tr><td>loss</td><td>█▄▂▁▁</td></tr><tr><td>training_accuracy</td><td>▁▅▃▄█</td></tr><tr><td>validation_accuracy</td><td>▁▄▆▇█</td></tr></table><br/></div><div class=\"wandb-col\"><h3>Run summary:</h3><br/><table class=\"wandb\"><tr><td>epoch</td><td>4</td></tr><tr><td>loss</td><td>0.05312</td></tr><tr><td>training_accuracy</td><td>0.10278</td></tr><tr><td>validation_accuracy</td><td>0.8179</td></tr></table><br/></div></div>"
      ],
      "text/plain": [
       "<IPython.core.display.HTML object>"
      ]
     },
     "metadata": {},
     "output_type": "display_data"
    },
    {
     "data": {
      "text/html": [
       " View run <strong style=\"color:#cdcd00\">hl_3_hn_32_opt_MGD_act_TANH_lr_0.001_bs_64_init_XAVIER_ep_5_l2_0</strong> at: <a href='https://wandb.ai/singhsonalika5-indian-institute-of-technology-madras/Fashion_MNIST_Images/runs/yfnikiuz' target=\"_blank\">https://wandb.ai/singhsonalika5-indian-institute-of-technology-madras/Fashion_MNIST_Images/runs/yfnikiuz</a><br> View project at: <a href='https://wandb.ai/singhsonalika5-indian-institute-of-technology-madras/Fashion_MNIST_Images' target=\"_blank\">https://wandb.ai/singhsonalika5-indian-institute-of-technology-madras/Fashion_MNIST_Images</a><br>Synced 5 W&B file(s), 0 media file(s), 0 artifact file(s) and 0 other file(s)"
      ],
      "text/plain": [
       "<IPython.core.display.HTML object>"
      ]
     },
     "metadata": {},
     "output_type": "display_data"
    },
    {
     "data": {
      "text/html": [
       "Find logs at: <code>.\\wandb\\run-20250315_024426-yfnikiuz\\logs</code>"
      ],
      "text/plain": [
       "<IPython.core.display.HTML object>"
      ]
     },
     "metadata": {},
     "output_type": "display_data"
    },
    {
     "name": "stderr",
     "output_type": "stream",
     "text": [
      "\u001b[34m\u001b[1mwandb\u001b[0m: Sweep Agent: Waiting for job.\n",
      "\u001b[34m\u001b[1mwandb\u001b[0m: Job received.\n",
      "\u001b[34m\u001b[1mwandb\u001b[0m: Agent Starting Run: 0ak06evn with config:\n",
      "\u001b[34m\u001b[1mwandb\u001b[0m: \tactivation_func: RELU\n",
      "\u001b[34m\u001b[1mwandb\u001b[0m: \tbatch_size: 16\n",
      "\u001b[34m\u001b[1mwandb\u001b[0m: \tepochs: 5\n",
      "\u001b[34m\u001b[1mwandb\u001b[0m: \thidden_neurons: 128\n",
      "\u001b[34m\u001b[1mwandb\u001b[0m: \tinit_method: RANDOM\n",
      "\u001b[34m\u001b[1mwandb\u001b[0m: \tlayers: 2\n",
      "\u001b[34m\u001b[1mwandb\u001b[0m: \tlearning_rate: 0.0001\n",
      "\u001b[34m\u001b[1mwandb\u001b[0m: \toptimizer: MGD\n",
      "\u001b[34m\u001b[1mwandb\u001b[0m: \tweight_decay: 0\n"
     ]
    },
    {
     "data": {
      "text/html": [
       "Tracking run with wandb version 0.19.7"
      ],
      "text/plain": [
       "<IPython.core.display.HTML object>"
      ]
     },
     "metadata": {},
     "output_type": "display_data"
    },
    {
     "data": {
      "text/html": [
       "Run data is saved locally in <code>c:\\Users\\singh\\OneDrive\\Documents\\GitHub\\DA6401_Assignment-01\\wandb\\run-20250315_024856-0ak06evn</code>"
      ],
      "text/plain": [
       "<IPython.core.display.HTML object>"
      ]
     },
     "metadata": {},
     "output_type": "display_data"
    },
    {
     "data": {
      "text/html": [
       "Syncing run <strong><a href='https://wandb.ai/singhsonalika5-indian-institute-of-technology-madras/Fashion_MNIST_Images/runs/0ak06evn' target=\"_blank\">swept-sweep-10</a></strong> to <a href='https://wandb.ai/singhsonalika5-indian-institute-of-technology-madras/Fashion_MNIST_Images' target=\"_blank\">Weights & Biases</a> (<a href='https://wandb.me/developer-guide' target=\"_blank\">docs</a>)<br>Sweep page: <a href='https://wandb.ai/singhsonalika5-indian-institute-of-technology-madras/Fashion_MNIST_Images/sweeps/r7vljbht' target=\"_blank\">https://wandb.ai/singhsonalika5-indian-institute-of-technology-madras/Fashion_MNIST_Images/sweeps/r7vljbht</a>"
      ],
      "text/plain": [
       "<IPython.core.display.HTML object>"
      ]
     },
     "metadata": {},
     "output_type": "display_data"
    },
    {
     "data": {
      "text/html": [
       " View project at <a href='https://wandb.ai/singhsonalika5-indian-institute-of-technology-madras/Fashion_MNIST_Images' target=\"_blank\">https://wandb.ai/singhsonalika5-indian-institute-of-technology-madras/Fashion_MNIST_Images</a>"
      ],
      "text/plain": [
       "<IPython.core.display.HTML object>"
      ]
     },
     "metadata": {},
     "output_type": "display_data"
    },
    {
     "data": {
      "text/html": [
       " View sweep at <a href='https://wandb.ai/singhsonalika5-indian-institute-of-technology-madras/Fashion_MNIST_Images/sweeps/r7vljbht' target=\"_blank\">https://wandb.ai/singhsonalika5-indian-institute-of-technology-madras/Fashion_MNIST_Images/sweeps/r7vljbht</a>"
      ],
      "text/plain": [
       "<IPython.core.display.HTML object>"
      ]
     },
     "metadata": {},
     "output_type": "display_data"
    },
    {
     "data": {
      "text/html": [
       " View run at <a href='https://wandb.ai/singhsonalika5-indian-institute-of-technology-madras/Fashion_MNIST_Images/runs/0ak06evn' target=\"_blank\">https://wandb.ai/singhsonalika5-indian-institute-of-technology-madras/Fashion_MNIST_Images/runs/0ak06evn</a>"
      ],
      "text/plain": [
       "<IPython.core.display.HTML object>"
      ]
     },
     "metadata": {},
     "output_type": "display_data"
    },
    {
     "name": "stdout",
     "output_type": "stream",
     "text": [
      "Epoch: 0, Loss: 1.226e-01, Training Accuracy: 0.10, Validation Accuracy: 0.73, Time: 99.64, Learning Rate: 1.000e-04\n",
      "Epoch: 1, Loss: 7.981e-02, Training Accuracy: 0.10, Validation Accuracy: 0.77, Time: 94.88, Learning Rate: 1.000e-04\n",
      "Epoch: 2, Loss: 6.652e-02, Training Accuracy: 0.10, Validation Accuracy: 0.79, Time: 98.81, Learning Rate: 1.000e-04\n",
      "Epoch: 3, Loss: 5.954e-02, Training Accuracy: 0.10, Validation Accuracy: 0.80, Time: 90.73, Learning Rate: 1.000e-04\n",
      "Epoch: 4, Loss: 5.522e-02, Training Accuracy: 0.10, Validation Accuracy: 0.81, Time: 89.91, Learning Rate: 1.000e-04\n"
     ]
    },
    {
     "data": {
      "text/html": [],
      "text/plain": [
       "<IPython.core.display.HTML object>"
      ]
     },
     "metadata": {},
     "output_type": "display_data"
    },
    {
     "data": {
      "text/html": [
       "<br>    <style><br>        .wandb-row {<br>            display: flex;<br>            flex-direction: row;<br>            flex-wrap: wrap;<br>            justify-content: flex-start;<br>            width: 100%;<br>        }<br>        .wandb-col {<br>            display: flex;<br>            flex-direction: column;<br>            flex-basis: 100%;<br>            flex: 1;<br>            padding: 10px;<br>        }<br>    </style><br><div class=\"wandb-row\"><div class=\"wandb-col\"><h3>Run history:</h3><br/><table class=\"wandb\"><tr><td>epoch</td><td>▁▃▅▆█</td></tr><tr><td>loss</td><td>█▄▂▁▁</td></tr><tr><td>training_accuracy</td><td>▃▇▅▁█</td></tr><tr><td>validation_accuracy</td><td>▁▄▆▇█</td></tr></table><br/></div><div class=\"wandb-col\"><h3>Run summary:</h3><br/><table class=\"wandb\"><tr><td>epoch</td><td>4</td></tr><tr><td>loss</td><td>0.05522</td></tr><tr><td>training_accuracy</td><td>0.10124</td></tr><tr><td>validation_accuracy</td><td>0.8131</td></tr></table><br/></div></div>"
      ],
      "text/plain": [
       "<IPython.core.display.HTML object>"
      ]
     },
     "metadata": {},
     "output_type": "display_data"
    },
    {
     "data": {
      "text/html": [
       " View run <strong style=\"color:#cdcd00\">hl_3_hn_128_opt_MGD_act_TANH_lr_0.0001_bs_16_init_XAVIER_ep_5_l2_0</strong> at: <a href='https://wandb.ai/singhsonalika5-indian-institute-of-technology-madras/Fashion_MNIST_Images/runs/0ak06evn' target=\"_blank\">https://wandb.ai/singhsonalika5-indian-institute-of-technology-madras/Fashion_MNIST_Images/runs/0ak06evn</a><br> View project at: <a href='https://wandb.ai/singhsonalika5-indian-institute-of-technology-madras/Fashion_MNIST_Images' target=\"_blank\">https://wandb.ai/singhsonalika5-indian-institute-of-technology-madras/Fashion_MNIST_Images</a><br>Synced 5 W&B file(s), 0 media file(s), 0 artifact file(s) and 0 other file(s)"
      ],
      "text/plain": [
       "<IPython.core.display.HTML object>"
      ]
     },
     "metadata": {},
     "output_type": "display_data"
    },
    {
     "data": {
      "text/html": [
       "Find logs at: <code>.\\wandb\\run-20250315_024856-0ak06evn\\logs</code>"
      ],
      "text/plain": [
       "<IPython.core.display.HTML object>"
      ]
     },
     "metadata": {},
     "output_type": "display_data"
    },
    {
     "name": "stderr",
     "output_type": "stream",
     "text": [
      "\u001b[34m\u001b[1mwandb\u001b[0m: Agent Starting Run: p739jje9 with config:\n",
      "\u001b[34m\u001b[1mwandb\u001b[0m: \tactivation_func: TANH\n",
      "\u001b[34m\u001b[1mwandb\u001b[0m: \tbatch_size: 32\n",
      "\u001b[34m\u001b[1mwandb\u001b[0m: \tepochs: 5\n",
      "\u001b[34m\u001b[1mwandb\u001b[0m: \thidden_neurons: 128\n",
      "\u001b[34m\u001b[1mwandb\u001b[0m: \tinit_method: RANDOM\n",
      "\u001b[34m\u001b[1mwandb\u001b[0m: \tlayers: 3\n",
      "\u001b[34m\u001b[1mwandb\u001b[0m: \tlearning_rate: 0.0001\n",
      "\u001b[34m\u001b[1mwandb\u001b[0m: \toptimizer: ADAM\n",
      "\u001b[34m\u001b[1mwandb\u001b[0m: \tweight_decay: 0.0005\n"
     ]
    },
    {
     "data": {
      "text/html": [
       "Tracking run with wandb version 0.19.7"
      ],
      "text/plain": [
       "<IPython.core.display.HTML object>"
      ]
     },
     "metadata": {},
     "output_type": "display_data"
    },
    {
     "data": {
      "text/html": [
       "Run data is saved locally in <code>c:\\Users\\singh\\OneDrive\\Documents\\GitHub\\DA6401_Assignment-01\\wandb\\run-20250315_025849-p739jje9</code>"
      ],
      "text/plain": [
       "<IPython.core.display.HTML object>"
      ]
     },
     "metadata": {},
     "output_type": "display_data"
    },
    {
     "data": {
      "text/html": [
       "Syncing run <strong><a href='https://wandb.ai/singhsonalika5-indian-institute-of-technology-madras/Fashion_MNIST_Images/runs/p739jje9' target=\"_blank\">usual-sweep-11</a></strong> to <a href='https://wandb.ai/singhsonalika5-indian-institute-of-technology-madras/Fashion_MNIST_Images' target=\"_blank\">Weights & Biases</a> (<a href='https://wandb.me/developer-guide' target=\"_blank\">docs</a>)<br>Sweep page: <a href='https://wandb.ai/singhsonalika5-indian-institute-of-technology-madras/Fashion_MNIST_Images/sweeps/r7vljbht' target=\"_blank\">https://wandb.ai/singhsonalika5-indian-institute-of-technology-madras/Fashion_MNIST_Images/sweeps/r7vljbht</a>"
      ],
      "text/plain": [
       "<IPython.core.display.HTML object>"
      ]
     },
     "metadata": {},
     "output_type": "display_data"
    },
    {
     "data": {
      "text/html": [
       " View project at <a href='https://wandb.ai/singhsonalika5-indian-institute-of-technology-madras/Fashion_MNIST_Images' target=\"_blank\">https://wandb.ai/singhsonalika5-indian-institute-of-technology-madras/Fashion_MNIST_Images</a>"
      ],
      "text/plain": [
       "<IPython.core.display.HTML object>"
      ]
     },
     "metadata": {},
     "output_type": "display_data"
    },
    {
     "data": {
      "text/html": [
       " View sweep at <a href='https://wandb.ai/singhsonalika5-indian-institute-of-technology-madras/Fashion_MNIST_Images/sweeps/r7vljbht' target=\"_blank\">https://wandb.ai/singhsonalika5-indian-institute-of-technology-madras/Fashion_MNIST_Images/sweeps/r7vljbht</a>"
      ],
      "text/plain": [
       "<IPython.core.display.HTML object>"
      ]
     },
     "metadata": {},
     "output_type": "display_data"
    },
    {
     "data": {
      "text/html": [
       " View run at <a href='https://wandb.ai/singhsonalika5-indian-institute-of-technology-madras/Fashion_MNIST_Images/runs/p739jje9' target=\"_blank\">https://wandb.ai/singhsonalika5-indian-institute-of-technology-madras/Fashion_MNIST_Images/runs/p739jje9</a>"
      ],
      "text/plain": [
       "<IPython.core.display.HTML object>"
      ]
     },
     "metadata": {},
     "output_type": "display_data"
    },
    {
     "name": "stdout",
     "output_type": "stream",
     "text": [
      "Epoch: 0, Loss: 7.020e-02, Training Accuracy: 0.10, Validation Accuracy: 0.82, Time: 104.86, Learning Rate: 1.000e-04\n",
      "Epoch: 1, Loss: 4.611e-02, Training Accuracy: 0.10, Validation Accuracy: 0.84, Time: 101.49, Learning Rate: 1.000e-04\n",
      "Epoch: 2, Loss: 4.208e-02, Training Accuracy: 0.10, Validation Accuracy: 0.85, Time: 96.37, Learning Rate: 1.000e-04\n",
      "Epoch: 3, Loss: 3.979e-02, Training Accuracy: 0.10, Validation Accuracy: 0.85, Time: 101.67, Learning Rate: 1.000e-04\n",
      "Epoch: 4, Loss: 3.827e-02, Training Accuracy: 0.10, Validation Accuracy: 0.85, Time: 110.41, Learning Rate: 1.000e-04\n"
     ]
    },
    {
     "data": {
      "text/html": [],
      "text/plain": [
       "<IPython.core.display.HTML object>"
      ]
     },
     "metadata": {},
     "output_type": "display_data"
    },
    {
     "data": {
      "text/html": [
       "<br>    <style><br>        .wandb-row {<br>            display: flex;<br>            flex-direction: row;<br>            flex-wrap: wrap;<br>            justify-content: flex-start;<br>            width: 100%;<br>        }<br>        .wandb-col {<br>            display: flex;<br>            flex-direction: column;<br>            flex-basis: 100%;<br>            flex: 1;<br>            padding: 10px;<br>        }<br>    </style><br><div class=\"wandb-row\"><div class=\"wandb-col\"><h3>Run history:</h3><br/><table class=\"wandb\"><tr><td>epoch</td><td>▁▃▅▆█</td></tr><tr><td>loss</td><td>█▃▂▁▁</td></tr><tr><td>training_accuracy</td><td>▆█▄▁▇</td></tr><tr><td>validation_accuracy</td><td>▁▅▆▇█</td></tr></table><br/></div><div class=\"wandb-col\"><h3>Run summary:</h3><br/><table class=\"wandb\"><tr><td>epoch</td><td>4</td></tr><tr><td>loss</td><td>0.03827</td></tr><tr><td>training_accuracy</td><td>0.10131</td></tr><tr><td>validation_accuracy</td><td>0.855</td></tr></table><br/></div></div>"
      ],
      "text/plain": [
       "<IPython.core.display.HTML object>"
      ]
     },
     "metadata": {},
     "output_type": "display_data"
    },
    {
     "data": {
      "text/html": [
       " View run <strong style=\"color:#cdcd00\">hl_3_hn_128_opt_ADAM_act_TANH_lr_0.0001_bs_32_init_XAVIER_ep_5_l2_0.0005</strong> at: <a href='https://wandb.ai/singhsonalika5-indian-institute-of-technology-madras/Fashion_MNIST_Images/runs/p739jje9' target=\"_blank\">https://wandb.ai/singhsonalika5-indian-institute-of-technology-madras/Fashion_MNIST_Images/runs/p739jje9</a><br> View project at: <a href='https://wandb.ai/singhsonalika5-indian-institute-of-technology-madras/Fashion_MNIST_Images' target=\"_blank\">https://wandb.ai/singhsonalika5-indian-institute-of-technology-madras/Fashion_MNIST_Images</a><br>Synced 5 W&B file(s), 0 media file(s), 0 artifact file(s) and 0 other file(s)"
      ],
      "text/plain": [
       "<IPython.core.display.HTML object>"
      ]
     },
     "metadata": {},
     "output_type": "display_data"
    },
    {
     "data": {
      "text/html": [
       "Find logs at: <code>.\\wandb\\run-20250315_025849-p739jje9\\logs</code>"
      ],
      "text/plain": [
       "<IPython.core.display.HTML object>"
      ]
     },
     "metadata": {},
     "output_type": "display_data"
    }
   ],
   "source": [
    "wandb.agent(sweep_id, train, count=10)"
   ]
  },
  {
   "cell_type": "code",
   "execution_count": 93,
   "metadata": {},
   "outputs": [
    {
     "name": "stderr",
     "output_type": "stream",
     "text": [
      "\u001b[34m\u001b[1mwandb\u001b[0m: Agent Starting Run: 5wyo9bym with config:\n",
      "\u001b[34m\u001b[1mwandb\u001b[0m: \tactivation_func: TANH\n",
      "\u001b[34m\u001b[1mwandb\u001b[0m: \tbatch_size: 64\n",
      "\u001b[34m\u001b[1mwandb\u001b[0m: \tepochs: 10\n",
      "\u001b[34m\u001b[1mwandb\u001b[0m: \thidden_neurons: 64\n",
      "\u001b[34m\u001b[1mwandb\u001b[0m: \tinit_method: XAVIER\n",
      "\u001b[34m\u001b[1mwandb\u001b[0m: \tlayers: 2\n",
      "\u001b[34m\u001b[1mwandb\u001b[0m: \tlearning_rate: 0.0001\n",
      "\u001b[34m\u001b[1mwandb\u001b[0m: \toptimizer: NGD\n",
      "\u001b[34m\u001b[1mwandb\u001b[0m: \tweight_decay: 0\n"
     ]
    },
    {
     "data": {
      "text/html": [
       "Tracking run with wandb version 0.19.7"
      ],
      "text/plain": [
       "<IPython.core.display.HTML object>"
      ]
     },
     "metadata": {},
     "output_type": "display_data"
    },
    {
     "data": {
      "text/html": [
       "Run data is saved locally in <code>c:\\Users\\singh\\OneDrive\\Documents\\GitHub\\DA6401_Assignment-01\\wandb\\run-20250315_030923-5wyo9bym</code>"
      ],
      "text/plain": [
       "<IPython.core.display.HTML object>"
      ]
     },
     "metadata": {},
     "output_type": "display_data"
    },
    {
     "data": {
      "text/html": [
       "Syncing run <strong><a href='https://wandb.ai/singhsonalika5-indian-institute-of-technology-madras/Fashion_MNIST_Images/runs/5wyo9bym' target=\"_blank\">effortless-sweep-12</a></strong> to <a href='https://wandb.ai/singhsonalika5-indian-institute-of-technology-madras/Fashion_MNIST_Images' target=\"_blank\">Weights & Biases</a> (<a href='https://wandb.me/developer-guide' target=\"_blank\">docs</a>)<br>Sweep page: <a href='https://wandb.ai/singhsonalika5-indian-institute-of-technology-madras/Fashion_MNIST_Images/sweeps/r7vljbht' target=\"_blank\">https://wandb.ai/singhsonalika5-indian-institute-of-technology-madras/Fashion_MNIST_Images/sweeps/r7vljbht</a>"
      ],
      "text/plain": [
       "<IPython.core.display.HTML object>"
      ]
     },
     "metadata": {},
     "output_type": "display_data"
    },
    {
     "data": {
      "text/html": [
       " View project at <a href='https://wandb.ai/singhsonalika5-indian-institute-of-technology-madras/Fashion_MNIST_Images' target=\"_blank\">https://wandb.ai/singhsonalika5-indian-institute-of-technology-madras/Fashion_MNIST_Images</a>"
      ],
      "text/plain": [
       "<IPython.core.display.HTML object>"
      ]
     },
     "metadata": {},
     "output_type": "display_data"
    },
    {
     "data": {
      "text/html": [
       " View sweep at <a href='https://wandb.ai/singhsonalika5-indian-institute-of-technology-madras/Fashion_MNIST_Images/sweeps/r7vljbht' target=\"_blank\">https://wandb.ai/singhsonalika5-indian-institute-of-technology-madras/Fashion_MNIST_Images/sweeps/r7vljbht</a>"
      ],
      "text/plain": [
       "<IPython.core.display.HTML object>"
      ]
     },
     "metadata": {},
     "output_type": "display_data"
    },
    {
     "data": {
      "text/html": [
       " View run at <a href='https://wandb.ai/singhsonalika5-indian-institute-of-technology-madras/Fashion_MNIST_Images/runs/5wyo9bym' target=\"_blank\">https://wandb.ai/singhsonalika5-indian-institute-of-technology-madras/Fashion_MNIST_Images/runs/5wyo9bym</a>"
      ],
      "text/plain": [
       "<IPython.core.display.HTML object>"
      ]
     },
     "metadata": {},
     "output_type": "display_data"
    },
    {
     "name": "stdout",
     "output_type": "stream",
     "text": [
      "Epoch: 0, Loss: 1.750e-01, Training Accuracy: 0.10, Validation Accuracy: 0.50, Time: 71.67, Learning Rate: 1.000e-04\n",
      "Epoch: 1, Loss: 1.588e-01, Training Accuracy: 0.10, Validation Accuracy: 0.52, Time: 69.59, Learning Rate: 1.000e-04\n",
      "Epoch: 2, Loss: 1.342e-01, Training Accuracy: 0.10, Validation Accuracy: 0.60, Time: 70.38, Learning Rate: 1.000e-04\n",
      "Epoch: 3, Loss: 1.174e-01, Training Accuracy: 0.10, Validation Accuracy: 0.62, Time: 71.43, Learning Rate: 1.000e-04\n",
      "Epoch: 4, Loss: 1.078e-01, Training Accuracy: 0.10, Validation Accuracy: 0.64, Time: 70.29, Learning Rate: 1.000e-04\n"
     ]
    },
    {
     "data": {
      "text/html": [],
      "text/plain": [
       "<IPython.core.display.HTML object>"
      ]
     },
     "metadata": {},
     "output_type": "display_data"
    },
    {
     "data": {
      "text/html": [
       "<br>    <style><br>        .wandb-row {<br>            display: flex;<br>            flex-direction: row;<br>            flex-wrap: wrap;<br>            justify-content: flex-start;<br>            width: 100%;<br>        }<br>        .wandb-col {<br>            display: flex;<br>            flex-direction: column;<br>            flex-basis: 100%;<br>            flex: 1;<br>            padding: 10px;<br>        }<br>    </style><br><div class=\"wandb-row\"><div class=\"wandb-col\"><h3>Run history:</h3><br/><table class=\"wandb\"><tr><td>epoch</td><td>▁▃▅▆█</td></tr><tr><td>loss</td><td>█▆▄▂▁</td></tr><tr><td>training_accuracy</td><td>▇█▃▁█</td></tr><tr><td>validation_accuracy</td><td>▁▂▆▇█</td></tr></table><br/></div><div class=\"wandb-col\"><h3>Run summary:</h3><br/><table class=\"wandb\"><tr><td>epoch</td><td>4</td></tr><tr><td>loss</td><td>0.10782</td></tr><tr><td>training_accuracy</td><td>0.10085</td></tr><tr><td>validation_accuracy</td><td>0.6371</td></tr></table><br/></div></div>"
      ],
      "text/plain": [
       "<IPython.core.display.HTML object>"
      ]
     },
     "metadata": {},
     "output_type": "display_data"
    },
    {
     "data": {
      "text/html": [
       " View run <strong style=\"color:#cdcd00\">hl_3_hn_64_opt_NGD_act_TANH_lr_0.0001_bs_64_init_XAVIER_ep_5_l2_0</strong> at: <a href='https://wandb.ai/singhsonalika5-indian-institute-of-technology-madras/Fashion_MNIST_Images/runs/5wyo9bym' target=\"_blank\">https://wandb.ai/singhsonalika5-indian-institute-of-technology-madras/Fashion_MNIST_Images/runs/5wyo9bym</a><br> View project at: <a href='https://wandb.ai/singhsonalika5-indian-institute-of-technology-madras/Fashion_MNIST_Images' target=\"_blank\">https://wandb.ai/singhsonalika5-indian-institute-of-technology-madras/Fashion_MNIST_Images</a><br>Synced 5 W&B file(s), 0 media file(s), 0 artifact file(s) and 0 other file(s)"
      ],
      "text/plain": [
       "<IPython.core.display.HTML object>"
      ]
     },
     "metadata": {},
     "output_type": "display_data"
    },
    {
     "data": {
      "text/html": [
       "Find logs at: <code>.\\wandb\\run-20250315_030923-5wyo9bym\\logs</code>"
      ],
      "text/plain": [
       "<IPython.core.display.HTML object>"
      ]
     },
     "metadata": {},
     "output_type": "display_data"
    },
    {
     "name": "stderr",
     "output_type": "stream",
     "text": [
      "\u001b[34m\u001b[1mwandb\u001b[0m: Agent Starting Run: 7idvgeel with config:\n",
      "\u001b[34m\u001b[1mwandb\u001b[0m: \tactivation_func: RELU\n",
      "\u001b[34m\u001b[1mwandb\u001b[0m: \tbatch_size: 16\n",
      "\u001b[34m\u001b[1mwandb\u001b[0m: \tepochs: 10\n",
      "\u001b[34m\u001b[1mwandb\u001b[0m: \thidden_neurons: 32\n",
      "\u001b[34m\u001b[1mwandb\u001b[0m: \tinit_method: RANDOM\n",
      "\u001b[34m\u001b[1mwandb\u001b[0m: \tlayers: 3\n",
      "\u001b[34m\u001b[1mwandb\u001b[0m: \tlearning_rate: 0.001\n",
      "\u001b[34m\u001b[1mwandb\u001b[0m: \toptimizer: MGD\n",
      "\u001b[34m\u001b[1mwandb\u001b[0m: \tweight_decay: 0\n"
     ]
    },
    {
     "data": {
      "text/html": [
       "Tracking run with wandb version 0.19.7"
      ],
      "text/plain": [
       "<IPython.core.display.HTML object>"
      ]
     },
     "metadata": {},
     "output_type": "display_data"
    },
    {
     "data": {
      "text/html": [
       "Run data is saved locally in <code>c:\\Users\\singh\\OneDrive\\Documents\\GitHub\\DA6401_Assignment-01\\wandb\\run-20250315_031615-7idvgeel</code>"
      ],
      "text/plain": [
       "<IPython.core.display.HTML object>"
      ]
     },
     "metadata": {},
     "output_type": "display_data"
    },
    {
     "data": {
      "text/html": [
       "Syncing run <strong><a href='https://wandb.ai/singhsonalika5-indian-institute-of-technology-madras/Fashion_MNIST_Images/runs/7idvgeel' target=\"_blank\">exalted-sweep-13</a></strong> to <a href='https://wandb.ai/singhsonalika5-indian-institute-of-technology-madras/Fashion_MNIST_Images' target=\"_blank\">Weights & Biases</a> (<a href='https://wandb.me/developer-guide' target=\"_blank\">docs</a>)<br>Sweep page: <a href='https://wandb.ai/singhsonalika5-indian-institute-of-technology-madras/Fashion_MNIST_Images/sweeps/r7vljbht' target=\"_blank\">https://wandb.ai/singhsonalika5-indian-institute-of-technology-madras/Fashion_MNIST_Images/sweeps/r7vljbht</a>"
      ],
      "text/plain": [
       "<IPython.core.display.HTML object>"
      ]
     },
     "metadata": {},
     "output_type": "display_data"
    },
    {
     "data": {
      "text/html": [
       " View project at <a href='https://wandb.ai/singhsonalika5-indian-institute-of-technology-madras/Fashion_MNIST_Images' target=\"_blank\">https://wandb.ai/singhsonalika5-indian-institute-of-technology-madras/Fashion_MNIST_Images</a>"
      ],
      "text/plain": [
       "<IPython.core.display.HTML object>"
      ]
     },
     "metadata": {},
     "output_type": "display_data"
    },
    {
     "data": {
      "text/html": [
       " View sweep at <a href='https://wandb.ai/singhsonalika5-indian-institute-of-technology-madras/Fashion_MNIST_Images/sweeps/r7vljbht' target=\"_blank\">https://wandb.ai/singhsonalika5-indian-institute-of-technology-madras/Fashion_MNIST_Images/sweeps/r7vljbht</a>"
      ],
      "text/plain": [
       "<IPython.core.display.HTML object>"
      ]
     },
     "metadata": {},
     "output_type": "display_data"
    },
    {
     "data": {
      "text/html": [
       " View run at <a href='https://wandb.ai/singhsonalika5-indian-institute-of-technology-madras/Fashion_MNIST_Images/runs/7idvgeel' target=\"_blank\">https://wandb.ai/singhsonalika5-indian-institute-of-technology-madras/Fashion_MNIST_Images/runs/7idvgeel</a>"
      ],
      "text/plain": [
       "<IPython.core.display.HTML object>"
      ]
     },
     "metadata": {},
     "output_type": "display_data"
    },
    {
     "name": "stdout",
     "output_type": "stream",
     "text": [
      "Epoch: 0, Loss: 8.946e-02, Training Accuracy: 0.10, Validation Accuracy: 0.78, Time: 47.58, Learning Rate: 1.000e-03\n",
      "Epoch: 1, Loss: 5.188e-02, Training Accuracy: 0.10, Validation Accuracy: 0.84, Time: 43.25, Learning Rate: 1.000e-03\n",
      "Epoch: 2, Loss: 4.458e-02, Training Accuracy: 0.10, Validation Accuracy: 0.83, Time: 43.71, Learning Rate: 1.000e-03\n",
      "Epoch: 3, Loss: 4.120e-02, Training Accuracy: 0.10, Validation Accuracy: 0.84, Time: 43.00, Learning Rate: 1.000e-03\n",
      "Epoch: 4, Loss: 3.926e-02, Training Accuracy: 0.10, Validation Accuracy: 0.85, Time: 42.22, Learning Rate: 1.000e-03\n"
     ]
    },
    {
     "data": {
      "text/html": [],
      "text/plain": [
       "<IPython.core.display.HTML object>"
      ]
     },
     "metadata": {},
     "output_type": "display_data"
    },
    {
     "data": {
      "text/html": [
       "<br>    <style><br>        .wandb-row {<br>            display: flex;<br>            flex-direction: row;<br>            flex-wrap: wrap;<br>            justify-content: flex-start;<br>            width: 100%;<br>        }<br>        .wandb-col {<br>            display: flex;<br>            flex-direction: column;<br>            flex-basis: 100%;<br>            flex: 1;<br>            padding: 10px;<br>        }<br>    </style><br><div class=\"wandb-row\"><div class=\"wandb-col\"><h3>Run history:</h3><br/><table class=\"wandb\"><tr><td>epoch</td><td>▁▃▅▆█</td></tr><tr><td>loss</td><td>█▃▂▁▁</td></tr><tr><td>training_accuracy</td><td>▇▇▃▁█</td></tr><tr><td>validation_accuracy</td><td>▁▆▅▇█</td></tr></table><br/></div><div class=\"wandb-col\"><h3>Run summary:</h3><br/><table class=\"wandb\"><tr><td>epoch</td><td>4</td></tr><tr><td>loss</td><td>0.03926</td></tr><tr><td>training_accuracy</td><td>0.10037</td></tr><tr><td>validation_accuracy</td><td>0.8524</td></tr></table><br/></div></div>"
      ],
      "text/plain": [
       "<IPython.core.display.HTML object>"
      ]
     },
     "metadata": {},
     "output_type": "display_data"
    },
    {
     "data": {
      "text/html": [
       " View run <strong style=\"color:#cdcd00\">hl_3_hn_32_opt_MGD_act_TANH_lr_0.001_bs_16_init_XAVIER_ep_5_l2_0</strong> at: <a href='https://wandb.ai/singhsonalika5-indian-institute-of-technology-madras/Fashion_MNIST_Images/runs/7idvgeel' target=\"_blank\">https://wandb.ai/singhsonalika5-indian-institute-of-technology-madras/Fashion_MNIST_Images/runs/7idvgeel</a><br> View project at: <a href='https://wandb.ai/singhsonalika5-indian-institute-of-technology-madras/Fashion_MNIST_Images' target=\"_blank\">https://wandb.ai/singhsonalika5-indian-institute-of-technology-madras/Fashion_MNIST_Images</a><br>Synced 5 W&B file(s), 0 media file(s), 0 artifact file(s) and 0 other file(s)"
      ],
      "text/plain": [
       "<IPython.core.display.HTML object>"
      ]
     },
     "metadata": {},
     "output_type": "display_data"
    },
    {
     "data": {
      "text/html": [
       "Find logs at: <code>.\\wandb\\run-20250315_031615-7idvgeel\\logs</code>"
      ],
      "text/plain": [
       "<IPython.core.display.HTML object>"
      ]
     },
     "metadata": {},
     "output_type": "display_data"
    },
    {
     "name": "stderr",
     "output_type": "stream",
     "text": [
      "\u001b[34m\u001b[1mwandb\u001b[0m: Agent Starting Run: emcy8prw with config:\n",
      "\u001b[34m\u001b[1mwandb\u001b[0m: \tactivation_func: SIGMOID\n",
      "\u001b[34m\u001b[1mwandb\u001b[0m: \tbatch_size: 16\n",
      "\u001b[34m\u001b[1mwandb\u001b[0m: \tepochs: 10\n",
      "\u001b[34m\u001b[1mwandb\u001b[0m: \thidden_neurons: 32\n",
      "\u001b[34m\u001b[1mwandb\u001b[0m: \tinit_method: XAVIER\n",
      "\u001b[34m\u001b[1mwandb\u001b[0m: \tlayers: 4\n",
      "\u001b[34m\u001b[1mwandb\u001b[0m: \tlearning_rate: 0.0001\n",
      "\u001b[34m\u001b[1mwandb\u001b[0m: \toptimizer: ADAM\n",
      "\u001b[34m\u001b[1mwandb\u001b[0m: \tweight_decay: 0.0005\n"
     ]
    },
    {
     "data": {
      "text/html": [
       "Tracking run with wandb version 0.19.7"
      ],
      "text/plain": [
       "<IPython.core.display.HTML object>"
      ]
     },
     "metadata": {},
     "output_type": "display_data"
    },
    {
     "data": {
      "text/html": [
       "Run data is saved locally in <code>c:\\Users\\singh\\OneDrive\\Documents\\GitHub\\DA6401_Assignment-01\\wandb\\run-20250315_032045-emcy8prw</code>"
      ],
      "text/plain": [
       "<IPython.core.display.HTML object>"
      ]
     },
     "metadata": {},
     "output_type": "display_data"
    },
    {
     "data": {
      "text/html": [
       "Syncing run <strong><a href='https://wandb.ai/singhsonalika5-indian-institute-of-technology-madras/Fashion_MNIST_Images/runs/emcy8prw' target=\"_blank\">radiant-sweep-14</a></strong> to <a href='https://wandb.ai/singhsonalika5-indian-institute-of-technology-madras/Fashion_MNIST_Images' target=\"_blank\">Weights & Biases</a> (<a href='https://wandb.me/developer-guide' target=\"_blank\">docs</a>)<br>Sweep page: <a href='https://wandb.ai/singhsonalika5-indian-institute-of-technology-madras/Fashion_MNIST_Images/sweeps/r7vljbht' target=\"_blank\">https://wandb.ai/singhsonalika5-indian-institute-of-technology-madras/Fashion_MNIST_Images/sweeps/r7vljbht</a>"
      ],
      "text/plain": [
       "<IPython.core.display.HTML object>"
      ]
     },
     "metadata": {},
     "output_type": "display_data"
    },
    {
     "data": {
      "text/html": [
       " View project at <a href='https://wandb.ai/singhsonalika5-indian-institute-of-technology-madras/Fashion_MNIST_Images' target=\"_blank\">https://wandb.ai/singhsonalika5-indian-institute-of-technology-madras/Fashion_MNIST_Images</a>"
      ],
      "text/plain": [
       "<IPython.core.display.HTML object>"
      ]
     },
     "metadata": {},
     "output_type": "display_data"
    },
    {
     "data": {
      "text/html": [
       " View sweep at <a href='https://wandb.ai/singhsonalika5-indian-institute-of-technology-madras/Fashion_MNIST_Images/sweeps/r7vljbht' target=\"_blank\">https://wandb.ai/singhsonalika5-indian-institute-of-technology-madras/Fashion_MNIST_Images/sweeps/r7vljbht</a>"
      ],
      "text/plain": [
       "<IPython.core.display.HTML object>"
      ]
     },
     "metadata": {},
     "output_type": "display_data"
    },
    {
     "data": {
      "text/html": [
       " View run at <a href='https://wandb.ai/singhsonalika5-indian-institute-of-technology-madras/Fashion_MNIST_Images/runs/emcy8prw' target=\"_blank\">https://wandb.ai/singhsonalika5-indian-institute-of-technology-madras/Fashion_MNIST_Images/runs/emcy8prw</a>"
      ],
      "text/plain": [
       "<IPython.core.display.HTML object>"
      ]
     },
     "metadata": {},
     "output_type": "display_data"
    },
    {
     "name": "stdout",
     "output_type": "stream",
     "text": [
      "Epoch: 0, Loss: 1.035e-01, Training Accuracy: 0.10, Validation Accuracy: 0.77, Time: 47.69, Learning Rate: 1.000e-04\n",
      "Epoch: 1, Loss: 6.159e-02, Training Accuracy: 0.10, Validation Accuracy: 0.81, Time: 44.02, Learning Rate: 1.000e-04\n",
      "Epoch: 2, Loss: 5.214e-02, Training Accuracy: 0.10, Validation Accuracy: 0.82, Time: 46.45, Learning Rate: 1.000e-04\n",
      "Epoch: 3, Loss: 4.751e-02, Training Accuracy: 0.10, Validation Accuracy: 0.84, Time: 44.22, Learning Rate: 1.000e-04\n",
      "Epoch: 4, Loss: 4.481e-02, Training Accuracy: 0.10, Validation Accuracy: 0.84, Time: 44.06, Learning Rate: 1.000e-04\n"
     ]
    },
    {
     "data": {
      "text/html": [],
      "text/plain": [
       "<IPython.core.display.HTML object>"
      ]
     },
     "metadata": {},
     "output_type": "display_data"
    },
    {
     "data": {
      "text/html": [
       "<br>    <style><br>        .wandb-row {<br>            display: flex;<br>            flex-direction: row;<br>            flex-wrap: wrap;<br>            justify-content: flex-start;<br>            width: 100%;<br>        }<br>        .wandb-col {<br>            display: flex;<br>            flex-direction: column;<br>            flex-basis: 100%;<br>            flex: 1;<br>            padding: 10px;<br>        }<br>    </style><br><div class=\"wandb-row\"><div class=\"wandb-col\"><h3>Run history:</h3><br/><table class=\"wandb\"><tr><td>epoch</td><td>▁▃▅▆█</td></tr><tr><td>loss</td><td>█▃▂▁▁</td></tr><tr><td>training_accuracy</td><td>▅▃█▁▆</td></tr><tr><td>validation_accuracy</td><td>▁▅▇██</td></tr></table><br/></div><div class=\"wandb-col\"><h3>Run summary:</h3><br/><table class=\"wandb\"><tr><td>epoch</td><td>4</td></tr><tr><td>loss</td><td>0.04481</td></tr><tr><td>training_accuracy</td><td>0.10044</td></tr><tr><td>validation_accuracy</td><td>0.8397</td></tr></table><br/></div></div>"
      ],
      "text/plain": [
       "<IPython.core.display.HTML object>"
      ]
     },
     "metadata": {},
     "output_type": "display_data"
    },
    {
     "data": {
      "text/html": [
       " View run <strong style=\"color:#cdcd00\">hl_3_hn_32_opt_ADAM_act_TANH_lr_0.0001_bs_16_init_XAVIER_ep_5_l2_0.0005</strong> at: <a href='https://wandb.ai/singhsonalika5-indian-institute-of-technology-madras/Fashion_MNIST_Images/runs/emcy8prw' target=\"_blank\">https://wandb.ai/singhsonalika5-indian-institute-of-technology-madras/Fashion_MNIST_Images/runs/emcy8prw</a><br> View project at: <a href='https://wandb.ai/singhsonalika5-indian-institute-of-technology-madras/Fashion_MNIST_Images' target=\"_blank\">https://wandb.ai/singhsonalika5-indian-institute-of-technology-madras/Fashion_MNIST_Images</a><br>Synced 5 W&B file(s), 0 media file(s), 0 artifact file(s) and 0 other file(s)"
      ],
      "text/plain": [
       "<IPython.core.display.HTML object>"
      ]
     },
     "metadata": {},
     "output_type": "display_data"
    },
    {
     "data": {
      "text/html": [
       "Find logs at: <code>.\\wandb\\run-20250315_032045-emcy8prw\\logs</code>"
      ],
      "text/plain": [
       "<IPython.core.display.HTML object>"
      ]
     },
     "metadata": {},
     "output_type": "display_data"
    },
    {
     "name": "stderr",
     "output_type": "stream",
     "text": [
      "\u001b[34m\u001b[1mwandb\u001b[0m: Agent Starting Run: jsqjc44e with config:\n",
      "\u001b[34m\u001b[1mwandb\u001b[0m: \tactivation_func: SIGMOID\n",
      "\u001b[34m\u001b[1mwandb\u001b[0m: \tbatch_size: 16\n",
      "\u001b[34m\u001b[1mwandb\u001b[0m: \tepochs: 10\n",
      "\u001b[34m\u001b[1mwandb\u001b[0m: \thidden_neurons: 64\n",
      "\u001b[34m\u001b[1mwandb\u001b[0m: \tinit_method: XAVIER\n",
      "\u001b[34m\u001b[1mwandb\u001b[0m: \tlayers: 2\n",
      "\u001b[34m\u001b[1mwandb\u001b[0m: \tlearning_rate: 0.0001\n",
      "\u001b[34m\u001b[1mwandb\u001b[0m: \toptimizer: MGD\n",
      "\u001b[34m\u001b[1mwandb\u001b[0m: \tweight_decay: 0.0005\n"
     ]
    },
    {
     "data": {
      "text/html": [
       "Tracking run with wandb version 0.19.7"
      ],
      "text/plain": [
       "<IPython.core.display.HTML object>"
      ]
     },
     "metadata": {},
     "output_type": "display_data"
    },
    {
     "data": {
      "text/html": [
       "Run data is saved locally in <code>c:\\Users\\singh\\OneDrive\\Documents\\GitHub\\DA6401_Assignment-01\\wandb\\run-20250315_032521-jsqjc44e</code>"
      ],
      "text/plain": [
       "<IPython.core.display.HTML object>"
      ]
     },
     "metadata": {},
     "output_type": "display_data"
    },
    {
     "data": {
      "text/html": [
       "Syncing run <strong><a href='https://wandb.ai/singhsonalika5-indian-institute-of-technology-madras/Fashion_MNIST_Images/runs/jsqjc44e' target=\"_blank\">autumn-sweep-15</a></strong> to <a href='https://wandb.ai/singhsonalika5-indian-institute-of-technology-madras/Fashion_MNIST_Images' target=\"_blank\">Weights & Biases</a> (<a href='https://wandb.me/developer-guide' target=\"_blank\">docs</a>)<br>Sweep page: <a href='https://wandb.ai/singhsonalika5-indian-institute-of-technology-madras/Fashion_MNIST_Images/sweeps/r7vljbht' target=\"_blank\">https://wandb.ai/singhsonalika5-indian-institute-of-technology-madras/Fashion_MNIST_Images/sweeps/r7vljbht</a>"
      ],
      "text/plain": [
       "<IPython.core.display.HTML object>"
      ]
     },
     "metadata": {},
     "output_type": "display_data"
    },
    {
     "data": {
      "text/html": [
       " View project at <a href='https://wandb.ai/singhsonalika5-indian-institute-of-technology-madras/Fashion_MNIST_Images' target=\"_blank\">https://wandb.ai/singhsonalika5-indian-institute-of-technology-madras/Fashion_MNIST_Images</a>"
      ],
      "text/plain": [
       "<IPython.core.display.HTML object>"
      ]
     },
     "metadata": {},
     "output_type": "display_data"
    },
    {
     "data": {
      "text/html": [
       " View sweep at <a href='https://wandb.ai/singhsonalika5-indian-institute-of-technology-madras/Fashion_MNIST_Images/sweeps/r7vljbht' target=\"_blank\">https://wandb.ai/singhsonalika5-indian-institute-of-technology-madras/Fashion_MNIST_Images/sweeps/r7vljbht</a>"
      ],
      "text/plain": [
       "<IPython.core.display.HTML object>"
      ]
     },
     "metadata": {},
     "output_type": "display_data"
    },
    {
     "data": {
      "text/html": [
       " View run at <a href='https://wandb.ai/singhsonalika5-indian-institute-of-technology-madras/Fashion_MNIST_Images/runs/jsqjc44e' target=\"_blank\">https://wandb.ai/singhsonalika5-indian-institute-of-technology-madras/Fashion_MNIST_Images/runs/jsqjc44e</a>"
      ],
      "text/plain": [
       "<IPython.core.display.HTML object>"
      ]
     },
     "metadata": {},
     "output_type": "display_data"
    },
    {
     "name": "stdout",
     "output_type": "stream",
     "text": [
      "Epoch: 0, Loss: 1.317e-01, Training Accuracy: 0.10, Validation Accuracy: 0.67, Time: 54.71, Learning Rate: 1.000e-04\n",
      "Epoch: 1, Loss: 9.101e-02, Training Accuracy: 0.10, Validation Accuracy: 0.73, Time: 47.59, Learning Rate: 1.000e-04\n",
      "Epoch: 2, Loss: 7.552e-02, Training Accuracy: 0.10, Validation Accuracy: 0.76, Time: 50.01, Learning Rate: 1.000e-04\n",
      "Epoch: 3, Loss: 6.662e-02, Training Accuracy: 0.10, Validation Accuracy: 0.79, Time: 49.27, Learning Rate: 1.000e-04\n",
      "Epoch: 4, Loss: 6.076e-02, Training Accuracy: 0.10, Validation Accuracy: 0.80, Time: 50.03, Learning Rate: 1.000e-04\n"
     ]
    },
    {
     "data": {
      "text/html": [],
      "text/plain": [
       "<IPython.core.display.HTML object>"
      ]
     },
     "metadata": {},
     "output_type": "display_data"
    },
    {
     "data": {
      "text/html": [
       "<br>    <style><br>        .wandb-row {<br>            display: flex;<br>            flex-direction: row;<br>            flex-wrap: wrap;<br>            justify-content: flex-start;<br>            width: 100%;<br>        }<br>        .wandb-col {<br>            display: flex;<br>            flex-direction: column;<br>            flex-basis: 100%;<br>            flex: 1;<br>            padding: 10px;<br>        }<br>    </style><br><div class=\"wandb-row\"><div class=\"wandb-col\"><h3>Run history:</h3><br/><table class=\"wandb\"><tr><td>epoch</td><td>▁▃▅▆█</td></tr><tr><td>loss</td><td>█▄▂▂▁</td></tr><tr><td>training_accuracy</td><td>▅▆▁█▄</td></tr><tr><td>validation_accuracy</td><td>▁▄▆▇█</td></tr></table><br/></div><div class=\"wandb-col\"><h3>Run summary:</h3><br/><table class=\"wandb\"><tr><td>epoch</td><td>4</td></tr><tr><td>loss</td><td>0.06076</td></tr><tr><td>training_accuracy</td><td>0.10026</td></tr><tr><td>validation_accuracy</td><td>0.8018</td></tr></table><br/></div></div>"
      ],
      "text/plain": [
       "<IPython.core.display.HTML object>"
      ]
     },
     "metadata": {},
     "output_type": "display_data"
    },
    {
     "data": {
      "text/html": [
       " View run <strong style=\"color:#cdcd00\">hl_3_hn_64_opt_MGD_act_TANH_lr_0.0001_bs_16_init_XAVIER_ep_5_l2_0.0005</strong> at: <a href='https://wandb.ai/singhsonalika5-indian-institute-of-technology-madras/Fashion_MNIST_Images/runs/jsqjc44e' target=\"_blank\">https://wandb.ai/singhsonalika5-indian-institute-of-technology-madras/Fashion_MNIST_Images/runs/jsqjc44e</a><br> View project at: <a href='https://wandb.ai/singhsonalika5-indian-institute-of-technology-madras/Fashion_MNIST_Images' target=\"_blank\">https://wandb.ai/singhsonalika5-indian-institute-of-technology-madras/Fashion_MNIST_Images</a><br>Synced 5 W&B file(s), 0 media file(s), 0 artifact file(s) and 0 other file(s)"
      ],
      "text/plain": [
       "<IPython.core.display.HTML object>"
      ]
     },
     "metadata": {},
     "output_type": "display_data"
    },
    {
     "data": {
      "text/html": [
       "Find logs at: <code>.\\wandb\\run-20250315_032521-jsqjc44e\\logs</code>"
      ],
      "text/plain": [
       "<IPython.core.display.HTML object>"
      ]
     },
     "metadata": {},
     "output_type": "display_data"
    },
    {
     "name": "stderr",
     "output_type": "stream",
     "text": [
      "\u001b[34m\u001b[1mwandb\u001b[0m: Agent Starting Run: gp78i780 with config:\n",
      "\u001b[34m\u001b[1mwandb\u001b[0m: \tactivation_func: SIGMOID\n",
      "\u001b[34m\u001b[1mwandb\u001b[0m: \tbatch_size: 32\n",
      "\u001b[34m\u001b[1mwandb\u001b[0m: \tepochs: 5\n",
      "\u001b[34m\u001b[1mwandb\u001b[0m: \thidden_neurons: 128\n",
      "\u001b[34m\u001b[1mwandb\u001b[0m: \tinit_method: XAVIER\n",
      "\u001b[34m\u001b[1mwandb\u001b[0m: \tlayers: 4\n",
      "\u001b[34m\u001b[1mwandb\u001b[0m: \tlearning_rate: 0.0001\n",
      "\u001b[34m\u001b[1mwandb\u001b[0m: \toptimizer: SGD\n",
      "\u001b[34m\u001b[1mwandb\u001b[0m: \tweight_decay: 0.5\n"
     ]
    },
    {
     "data": {
      "text/html": [
       "Tracking run with wandb version 0.19.7"
      ],
      "text/plain": [
       "<IPython.core.display.HTML object>"
      ]
     },
     "metadata": {},
     "output_type": "display_data"
    },
    {
     "data": {
      "text/html": [
       "Run data is saved locally in <code>c:\\Users\\singh\\OneDrive\\Documents\\GitHub\\DA6401_Assignment-01\\wandb\\run-20250315_033027-gp78i780</code>"
      ],
      "text/plain": [
       "<IPython.core.display.HTML object>"
      ]
     },
     "metadata": {},
     "output_type": "display_data"
    },
    {
     "data": {
      "text/html": [
       "Syncing run <strong><a href='https://wandb.ai/singhsonalika5-indian-institute-of-technology-madras/Fashion_MNIST_Images/runs/gp78i780' target=\"_blank\">floral-sweep-16</a></strong> to <a href='https://wandb.ai/singhsonalika5-indian-institute-of-technology-madras/Fashion_MNIST_Images' target=\"_blank\">Weights & Biases</a> (<a href='https://wandb.me/developer-guide' target=\"_blank\">docs</a>)<br>Sweep page: <a href='https://wandb.ai/singhsonalika5-indian-institute-of-technology-madras/Fashion_MNIST_Images/sweeps/r7vljbht' target=\"_blank\">https://wandb.ai/singhsonalika5-indian-institute-of-technology-madras/Fashion_MNIST_Images/sweeps/r7vljbht</a>"
      ],
      "text/plain": [
       "<IPython.core.display.HTML object>"
      ]
     },
     "metadata": {},
     "output_type": "display_data"
    },
    {
     "data": {
      "text/html": [
       " View project at <a href='https://wandb.ai/singhsonalika5-indian-institute-of-technology-madras/Fashion_MNIST_Images' target=\"_blank\">https://wandb.ai/singhsonalika5-indian-institute-of-technology-madras/Fashion_MNIST_Images</a>"
      ],
      "text/plain": [
       "<IPython.core.display.HTML object>"
      ]
     },
     "metadata": {},
     "output_type": "display_data"
    },
    {
     "data": {
      "text/html": [
       " View sweep at <a href='https://wandb.ai/singhsonalika5-indian-institute-of-technology-madras/Fashion_MNIST_Images/sweeps/r7vljbht' target=\"_blank\">https://wandb.ai/singhsonalika5-indian-institute-of-technology-madras/Fashion_MNIST_Images/sweeps/r7vljbht</a>"
      ],
      "text/plain": [
       "<IPython.core.display.HTML object>"
      ]
     },
     "metadata": {},
     "output_type": "display_data"
    },
    {
     "data": {
      "text/html": [
       " View run at <a href='https://wandb.ai/singhsonalika5-indian-institute-of-technology-madras/Fashion_MNIST_Images/runs/gp78i780' target=\"_blank\">https://wandb.ai/singhsonalika5-indian-institute-of-technology-madras/Fashion_MNIST_Images/runs/gp78i780</a>"
      ],
      "text/plain": [
       "<IPython.core.display.HTML object>"
      ]
     },
     "metadata": {},
     "output_type": "display_data"
    },
    {
     "name": "stderr",
     "output_type": "stream",
     "text": [
      "C:\\Users\\singh\\AppData\\Local\\Temp\\ipykernel_18712\\1915783164.py:4: RuntimeWarning: overflow encountered in exp\n",
      "  return 1.0 / (1 + np.exp(-(z)))\n",
      "C:\\Users\\singh\\AppData\\Local\\Temp\\ipykernel_18712\\2078877857.py:66: RuntimeWarning: divide by zero encountered in log\n",
      "  return np.mean([-true_labels[i] * np.log(predicted_labels[i]) for i in range(len(predicted_labels))])\n",
      "C:\\Users\\singh\\AppData\\Local\\Temp\\ipykernel_18712\\2078877857.py:66: RuntimeWarning: invalid value encountered in multiply\n",
      "  return np.mean([-true_labels[i] * np.log(predicted_labels[i]) for i in range(len(predicted_labels))])\n"
     ]
    },
    {
     "data": {
      "text/html": [],
      "text/plain": [
       "<IPython.core.display.HTML object>"
      ]
     },
     "metadata": {},
     "output_type": "display_data"
    },
    {
     "data": {
      "text/html": [
       " View run <strong style=\"color:#cdcd00\">hl_3_hn_128_opt_SGD_act_TANH_lr_0.0001_bs_32_init_XAVIER_ep_5_l2_0.5</strong> at: <a href='https://wandb.ai/singhsonalika5-indian-institute-of-technology-madras/Fashion_MNIST_Images/runs/gp78i780' target=\"_blank\">https://wandb.ai/singhsonalika5-indian-institute-of-technology-madras/Fashion_MNIST_Images/runs/gp78i780</a><br> View project at: <a href='https://wandb.ai/singhsonalika5-indian-institute-of-technology-madras/Fashion_MNIST_Images' target=\"_blank\">https://wandb.ai/singhsonalika5-indian-institute-of-technology-madras/Fashion_MNIST_Images</a><br>Synced 5 W&B file(s), 0 media file(s), 0 artifact file(s) and 0 other file(s)"
      ],
      "text/plain": [
       "<IPython.core.display.HTML object>"
      ]
     },
     "metadata": {},
     "output_type": "display_data"
    },
    {
     "data": {
      "text/html": [
       "Find logs at: <code>.\\wandb\\run-20250315_033027-gp78i780\\logs</code>"
      ],
      "text/plain": [
       "<IPython.core.display.HTML object>"
      ]
     },
     "metadata": {},
     "output_type": "display_data"
    },
    {
     "name": "stderr",
     "output_type": "stream",
     "text": [
      "Run gp78i780 errored:\n",
      "Traceback (most recent call last):\n",
      "  File \"c:\\Users\\singh\\AppData\\Local\\Programs\\Python\\Python312\\Lib\\site-packages\\wandb\\agents\\pyagent.py\", line 306, in _run_job\n",
      "    self._function()\n",
      "  File \"C:\\Users\\singh\\AppData\\Local\\Temp\\ipykernel_18712\\1481853125.py\", line 43, in train\n",
      "    training_loss, training_accuracy, validation_accuracy, predictions = NN.optimizer(\n",
      "                                                                         ^^^^^^^^^^^^^\n",
      "  File \"C:\\Users\\singh\\AppData\\Local\\Temp\\ipykernel_18712\\2078877857.py\", line 293, in sgd\n",
      "    validation_accuracy.append(self.compute_accuracy(self.num_test, self.predict(self.num_train, self.num_val), self.num_val)[0])\n",
      "                                                                    ^^^^^^^^^^^^^^^^^^^^^^^^^^^^^^^^^^^^^^^^^^\n",
      "  File \"C:\\Users\\singh\\AppData\\Local\\Temp\\ipykernel_18712\\2078877857.py\", line 207, in predict\n",
      "    input_batch[:, i].reshape(self.input_size, 1),\n",
      "    ~~~~~~~~~~~^^^^^^\n",
      "TypeError: 'int' object is not subscriptable\n",
      "\n",
      "\u001b[34m\u001b[1mwandb\u001b[0m: \u001b[32m\u001b[41mERROR\u001b[0m Run gp78i780 errored:\n",
      "\u001b[34m\u001b[1mwandb\u001b[0m: \u001b[32m\u001b[41mERROR\u001b[0m Traceback (most recent call last):\n",
      "\u001b[34m\u001b[1mwandb\u001b[0m: \u001b[32m\u001b[41mERROR\u001b[0m   File \"c:\\Users\\singh\\AppData\\Local\\Programs\\Python\\Python312\\Lib\\site-packages\\wandb\\agents\\pyagent.py\", line 306, in _run_job\n",
      "\u001b[34m\u001b[1mwandb\u001b[0m: \u001b[32m\u001b[41mERROR\u001b[0m     self._function()\n",
      "\u001b[34m\u001b[1mwandb\u001b[0m: \u001b[32m\u001b[41mERROR\u001b[0m   File \"C:\\Users\\singh\\AppData\\Local\\Temp\\ipykernel_18712\\1481853125.py\", line 43, in train\n",
      "\u001b[34m\u001b[1mwandb\u001b[0m: \u001b[32m\u001b[41mERROR\u001b[0m     training_loss, training_accuracy, validation_accuracy, predictions = NN.optimizer(\n",
      "\u001b[34m\u001b[1mwandb\u001b[0m: \u001b[32m\u001b[41mERROR\u001b[0m                                                                          ^^^^^^^^^^^^^\n",
      "\u001b[34m\u001b[1mwandb\u001b[0m: \u001b[32m\u001b[41mERROR\u001b[0m   File \"C:\\Users\\singh\\AppData\\Local\\Temp\\ipykernel_18712\\2078877857.py\", line 293, in sgd\n",
      "\u001b[34m\u001b[1mwandb\u001b[0m: \u001b[32m\u001b[41mERROR\u001b[0m     validation_accuracy.append(self.compute_accuracy(self.num_test, self.predict(self.num_train, self.num_val), self.num_val)[0])\n",
      "\u001b[34m\u001b[1mwandb\u001b[0m: \u001b[32m\u001b[41mERROR\u001b[0m                                                                     ^^^^^^^^^^^^^^^^^^^^^^^^^^^^^^^^^^^^^^^^^^\n",
      "\u001b[34m\u001b[1mwandb\u001b[0m: \u001b[32m\u001b[41mERROR\u001b[0m   File \"C:\\Users\\singh\\AppData\\Local\\Temp\\ipykernel_18712\\2078877857.py\", line 207, in predict\n",
      "\u001b[34m\u001b[1mwandb\u001b[0m: \u001b[32m\u001b[41mERROR\u001b[0m     input_batch[:, i].reshape(self.input_size, 1),\n",
      "\u001b[34m\u001b[1mwandb\u001b[0m: \u001b[32m\u001b[41mERROR\u001b[0m     ~~~~~~~~~~~^^^^^^\n",
      "\u001b[34m\u001b[1mwandb\u001b[0m: \u001b[32m\u001b[41mERROR\u001b[0m TypeError: 'int' object is not subscriptable\n",
      "\u001b[34m\u001b[1mwandb\u001b[0m: \u001b[32m\u001b[41mERROR\u001b[0m \n",
      "\u001b[34m\u001b[1mwandb\u001b[0m: Agent Starting Run: ftk1xfq8 with config:\n",
      "\u001b[34m\u001b[1mwandb\u001b[0m: \tactivation_func: SIGMOID\n",
      "\u001b[34m\u001b[1mwandb\u001b[0m: \tbatch_size: 32\n",
      "\u001b[34m\u001b[1mwandb\u001b[0m: \tepochs: 10\n",
      "\u001b[34m\u001b[1mwandb\u001b[0m: \thidden_neurons: 32\n",
      "\u001b[34m\u001b[1mwandb\u001b[0m: \tinit_method: RANDOM\n",
      "\u001b[34m\u001b[1mwandb\u001b[0m: \tlayers: 3\n",
      "\u001b[34m\u001b[1mwandb\u001b[0m: \tlearning_rate: 0.001\n",
      "\u001b[34m\u001b[1mwandb\u001b[0m: \toptimizer: RMSPROP\n",
      "\u001b[34m\u001b[1mwandb\u001b[0m: \tweight_decay: 0.0005\n"
     ]
    },
    {
     "data": {
      "text/html": [
       "Tracking run with wandb version 0.19.7"
      ],
      "text/plain": [
       "<IPython.core.display.HTML object>"
      ]
     },
     "metadata": {},
     "output_type": "display_data"
    },
    {
     "data": {
      "text/html": [
       "Run data is saved locally in <code>c:\\Users\\singh\\OneDrive\\Documents\\GitHub\\DA6401_Assignment-01\\wandb\\run-20250315_033312-ftk1xfq8</code>"
      ],
      "text/plain": [
       "<IPython.core.display.HTML object>"
      ]
     },
     "metadata": {},
     "output_type": "display_data"
    },
    {
     "data": {
      "text/html": [
       "Syncing run <strong><a href='https://wandb.ai/singhsonalika5-indian-institute-of-technology-madras/Fashion_MNIST_Images/runs/ftk1xfq8' target=\"_blank\">likely-sweep-17</a></strong> to <a href='https://wandb.ai/singhsonalika5-indian-institute-of-technology-madras/Fashion_MNIST_Images' target=\"_blank\">Weights & Biases</a> (<a href='https://wandb.me/developer-guide' target=\"_blank\">docs</a>)<br>Sweep page: <a href='https://wandb.ai/singhsonalika5-indian-institute-of-technology-madras/Fashion_MNIST_Images/sweeps/r7vljbht' target=\"_blank\">https://wandb.ai/singhsonalika5-indian-institute-of-technology-madras/Fashion_MNIST_Images/sweeps/r7vljbht</a>"
      ],
      "text/plain": [
       "<IPython.core.display.HTML object>"
      ]
     },
     "metadata": {},
     "output_type": "display_data"
    },
    {
     "data": {
      "text/html": [
       " View project at <a href='https://wandb.ai/singhsonalika5-indian-institute-of-technology-madras/Fashion_MNIST_Images' target=\"_blank\">https://wandb.ai/singhsonalika5-indian-institute-of-technology-madras/Fashion_MNIST_Images</a>"
      ],
      "text/plain": [
       "<IPython.core.display.HTML object>"
      ]
     },
     "metadata": {},
     "output_type": "display_data"
    },
    {
     "data": {
      "text/html": [
       " View sweep at <a href='https://wandb.ai/singhsonalika5-indian-institute-of-technology-madras/Fashion_MNIST_Images/sweeps/r7vljbht' target=\"_blank\">https://wandb.ai/singhsonalika5-indian-institute-of-technology-madras/Fashion_MNIST_Images/sweeps/r7vljbht</a>"
      ],
      "text/plain": [
       "<IPython.core.display.HTML object>"
      ]
     },
     "metadata": {},
     "output_type": "display_data"
    },
    {
     "data": {
      "text/html": [
       " View run at <a href='https://wandb.ai/singhsonalika5-indian-institute-of-technology-madras/Fashion_MNIST_Images/runs/ftk1xfq8' target=\"_blank\">https://wandb.ai/singhsonalika5-indian-institute-of-technology-madras/Fashion_MNIST_Images/runs/ftk1xfq8</a>"
      ],
      "text/plain": [
       "<IPython.core.display.HTML object>"
      ]
     },
     "metadata": {},
     "output_type": "display_data"
    },
    {
     "name": "stdout",
     "output_type": "stream",
     "text": [
      "Epoch: 0, Loss: 5.935e-02, Training Accuracy: 0.10, Validation Accuracy: 0.84, Time: 43.80, Learning Rate: 1.000e-03\n",
      "Epoch: 1, Loss: 4.128e-02, Training Accuracy: 0.10, Validation Accuracy: 0.85, Time: 42.14, Learning Rate: 1.000e-03\n",
      "Epoch: 2, Loss: 3.782e-02, Training Accuracy: 0.10, Validation Accuracy: 0.86, Time: 41.28, Learning Rate: 1.000e-03\n",
      "Epoch: 3, Loss: 3.589e-02, Training Accuracy: 0.10, Validation Accuracy: 0.86, Time: 42.80, Learning Rate: 1.000e-03\n",
      "Epoch: 4, Loss: 3.441e-02, Training Accuracy: 0.10, Validation Accuracy: 0.86, Time: 42.67, Learning Rate: 1.000e-03\n"
     ]
    },
    {
     "data": {
      "text/html": [],
      "text/plain": [
       "<IPython.core.display.HTML object>"
      ]
     },
     "metadata": {},
     "output_type": "display_data"
    },
    {
     "data": {
      "text/html": [
       "<br>    <style><br>        .wandb-row {<br>            display: flex;<br>            flex-direction: row;<br>            flex-wrap: wrap;<br>            justify-content: flex-start;<br>            width: 100%;<br>        }<br>        .wandb-col {<br>            display: flex;<br>            flex-direction: column;<br>            flex-basis: 100%;<br>            flex: 1;<br>            padding: 10px;<br>        }<br>    </style><br><div class=\"wandb-row\"><div class=\"wandb-col\"><h3>Run history:</h3><br/><table class=\"wandb\"><tr><td>epoch</td><td>▁▃▅▆█</td></tr><tr><td>loss</td><td>█▃▂▁▁</td></tr><tr><td>training_accuracy</td><td>█▁▇▇▇</td></tr><tr><td>validation_accuracy</td><td>▁▂▅▇█</td></tr></table><br/></div><div class=\"wandb-col\"><h3>Run summary:</h3><br/><table class=\"wandb\"><tr><td>epoch</td><td>4</td></tr><tr><td>loss</td><td>0.03441</td></tr><tr><td>training_accuracy</td><td>0.10004</td></tr><tr><td>validation_accuracy</td><td>0.8642</td></tr></table><br/></div></div>"
      ],
      "text/plain": [
       "<IPython.core.display.HTML object>"
      ]
     },
     "metadata": {},
     "output_type": "display_data"
    },
    {
     "data": {
      "text/html": [
       " View run <strong style=\"color:#cdcd00\">hl_3_hn_32_opt_RMSPROP_act_TANH_lr_0.001_bs_32_init_XAVIER_ep_5_l2_0.0005</strong> at: <a href='https://wandb.ai/singhsonalika5-indian-institute-of-technology-madras/Fashion_MNIST_Images/runs/ftk1xfq8' target=\"_blank\">https://wandb.ai/singhsonalika5-indian-institute-of-technology-madras/Fashion_MNIST_Images/runs/ftk1xfq8</a><br> View project at: <a href='https://wandb.ai/singhsonalika5-indian-institute-of-technology-madras/Fashion_MNIST_Images' target=\"_blank\">https://wandb.ai/singhsonalika5-indian-institute-of-technology-madras/Fashion_MNIST_Images</a><br>Synced 5 W&B file(s), 0 media file(s), 0 artifact file(s) and 0 other file(s)"
      ],
      "text/plain": [
       "<IPython.core.display.HTML object>"
      ]
     },
     "metadata": {},
     "output_type": "display_data"
    },
    {
     "data": {
      "text/html": [
       "Find logs at: <code>.\\wandb\\run-20250315_033312-ftk1xfq8\\logs</code>"
      ],
      "text/plain": [
       "<IPython.core.display.HTML object>"
      ]
     },
     "metadata": {},
     "output_type": "display_data"
    },
    {
     "name": "stderr",
     "output_type": "stream",
     "text": [
      "\u001b[34m\u001b[1mwandb\u001b[0m: Agent Starting Run: erxyp1kq with config:\n",
      "\u001b[34m\u001b[1mwandb\u001b[0m: \tactivation_func: TANH\n",
      "\u001b[34m\u001b[1mwandb\u001b[0m: \tbatch_size: 32\n",
      "\u001b[34m\u001b[1mwandb\u001b[0m: \tepochs: 5\n",
      "\u001b[34m\u001b[1mwandb\u001b[0m: \thidden_neurons: 128\n",
      "\u001b[34m\u001b[1mwandb\u001b[0m: \tinit_method: XAVIER\n",
      "\u001b[34m\u001b[1mwandb\u001b[0m: \tlayers: 4\n",
      "\u001b[34m\u001b[1mwandb\u001b[0m: \tlearning_rate: 0.001\n",
      "\u001b[34m\u001b[1mwandb\u001b[0m: \toptimizer: ADAM\n",
      "\u001b[34m\u001b[1mwandb\u001b[0m: \tweight_decay: 0.0005\n"
     ]
    },
    {
     "data": {
      "text/html": [
       "Tracking run with wandb version 0.19.7"
      ],
      "text/plain": [
       "<IPython.core.display.HTML object>"
      ]
     },
     "metadata": {},
     "output_type": "display_data"
    },
    {
     "data": {
      "text/html": [
       "Run data is saved locally in <code>c:\\Users\\singh\\OneDrive\\Documents\\GitHub\\DA6401_Assignment-01\\wandb\\run-20250315_033736-erxyp1kq</code>"
      ],
      "text/plain": [
       "<IPython.core.display.HTML object>"
      ]
     },
     "metadata": {},
     "output_type": "display_data"
    },
    {
     "data": {
      "text/html": [
       "Syncing run <strong><a href='https://wandb.ai/singhsonalika5-indian-institute-of-technology-madras/Fashion_MNIST_Images/runs/erxyp1kq' target=\"_blank\">good-sweep-18</a></strong> to <a href='https://wandb.ai/singhsonalika5-indian-institute-of-technology-madras/Fashion_MNIST_Images' target=\"_blank\">Weights & Biases</a> (<a href='https://wandb.me/developer-guide' target=\"_blank\">docs</a>)<br>Sweep page: <a href='https://wandb.ai/singhsonalika5-indian-institute-of-technology-madras/Fashion_MNIST_Images/sweeps/r7vljbht' target=\"_blank\">https://wandb.ai/singhsonalika5-indian-institute-of-technology-madras/Fashion_MNIST_Images/sweeps/r7vljbht</a>"
      ],
      "text/plain": [
       "<IPython.core.display.HTML object>"
      ]
     },
     "metadata": {},
     "output_type": "display_data"
    },
    {
     "data": {
      "text/html": [
       " View project at <a href='https://wandb.ai/singhsonalika5-indian-institute-of-technology-madras/Fashion_MNIST_Images' target=\"_blank\">https://wandb.ai/singhsonalika5-indian-institute-of-technology-madras/Fashion_MNIST_Images</a>"
      ],
      "text/plain": [
       "<IPython.core.display.HTML object>"
      ]
     },
     "metadata": {},
     "output_type": "display_data"
    },
    {
     "data": {
      "text/html": [
       " View sweep at <a href='https://wandb.ai/singhsonalika5-indian-institute-of-technology-madras/Fashion_MNIST_Images/sweeps/r7vljbht' target=\"_blank\">https://wandb.ai/singhsonalika5-indian-institute-of-technology-madras/Fashion_MNIST_Images/sweeps/r7vljbht</a>"
      ],
      "text/plain": [
       "<IPython.core.display.HTML object>"
      ]
     },
     "metadata": {},
     "output_type": "display_data"
    },
    {
     "data": {
      "text/html": [
       " View run at <a href='https://wandb.ai/singhsonalika5-indian-institute-of-technology-madras/Fashion_MNIST_Images/runs/erxyp1kq' target=\"_blank\">https://wandb.ai/singhsonalika5-indian-institute-of-technology-madras/Fashion_MNIST_Images/runs/erxyp1kq</a>"
      ],
      "text/plain": [
       "<IPython.core.display.HTML object>"
      ]
     },
     "metadata": {},
     "output_type": "display_data"
    },
    {
     "name": "stdout",
     "output_type": "stream",
     "text": [
      "Epoch: 0, Loss: 5.006e-02, Training Accuracy: 0.10, Validation Accuracy: 0.85, Time: 106.12, Learning Rate: 1.000e-03\n",
      "Epoch: 1, Loss: 3.673e-02, Training Accuracy: 0.10, Validation Accuracy: 0.86, Time: 104.26, Learning Rate: 1.000e-03\n",
      "Epoch: 2, Loss: 3.286e-02, Training Accuracy: 0.10, Validation Accuracy: 0.87, Time: 103.37, Learning Rate: 1.000e-03\n",
      "Epoch: 3, Loss: 3.053e-02, Training Accuracy: 0.10, Validation Accuracy: 0.87, Time: 13594.92, Learning Rate: 1.000e-03\n",
      "Epoch: 4, Loss: 2.880e-02, Training Accuracy: 0.10, Validation Accuracy: 0.87, Time: 262.89, Learning Rate: 1.000e-03\n"
     ]
    },
    {
     "data": {
      "text/html": [],
      "text/plain": [
       "<IPython.core.display.HTML object>"
      ]
     },
     "metadata": {},
     "output_type": "display_data"
    },
    {
     "data": {
      "text/html": [
       "<br>    <style><br>        .wandb-row {<br>            display: flex;<br>            flex-direction: row;<br>            flex-wrap: wrap;<br>            justify-content: flex-start;<br>            width: 100%;<br>        }<br>        .wandb-col {<br>            display: flex;<br>            flex-direction: column;<br>            flex-basis: 100%;<br>            flex: 1;<br>            padding: 10px;<br>        }<br>    </style><br><div class=\"wandb-row\"><div class=\"wandb-col\"><h3>Run history:</h3><br/><table class=\"wandb\"><tr><td>epoch</td><td>▁▃▅▆█</td></tr><tr><td>loss</td><td>█▄▂▂▁</td></tr><tr><td>training_accuracy</td><td>▁▂▅▄█</td></tr><tr><td>validation_accuracy</td><td>▁▄▆▇█</td></tr></table><br/></div><div class=\"wandb-col\"><h3>Run summary:</h3><br/><table class=\"wandb\"><tr><td>epoch</td><td>4</td></tr><tr><td>loss</td><td>0.0288</td></tr><tr><td>training_accuracy</td><td>0.1012</td></tr><tr><td>validation_accuracy</td><td>0.8714</td></tr></table><br/></div></div>"
      ],
      "text/plain": [
       "<IPython.core.display.HTML object>"
      ]
     },
     "metadata": {},
     "output_type": "display_data"
    },
    {
     "data": {
      "text/html": [
       " View run <strong style=\"color:#cdcd00\">hl_3_hn_128_opt_ADAM_act_TANH_lr_0.001_bs_32_init_XAVIER_ep_5_l2_0.0005</strong> at: <a href='https://wandb.ai/singhsonalika5-indian-institute-of-technology-madras/Fashion_MNIST_Images/runs/erxyp1kq' target=\"_blank\">https://wandb.ai/singhsonalika5-indian-institute-of-technology-madras/Fashion_MNIST_Images/runs/erxyp1kq</a><br> View project at: <a href='https://wandb.ai/singhsonalika5-indian-institute-of-technology-madras/Fashion_MNIST_Images' target=\"_blank\">https://wandb.ai/singhsonalika5-indian-institute-of-technology-madras/Fashion_MNIST_Images</a><br>Synced 5 W&B file(s), 0 media file(s), 0 artifact file(s) and 0 other file(s)"
      ],
      "text/plain": [
       "<IPython.core.display.HTML object>"
      ]
     },
     "metadata": {},
     "output_type": "display_data"
    },
    {
     "data": {
      "text/html": [
       "Find logs at: <code>.\\wandb\\run-20250315_033736-erxyp1kq\\logs</code>"
      ],
      "text/plain": [
       "<IPython.core.display.HTML object>"
      ]
     },
     "metadata": {},
     "output_type": "display_data"
    },
    {
     "name": "stderr",
     "output_type": "stream",
     "text": [
      "\u001b[34m\u001b[1mwandb\u001b[0m: Agent Starting Run: fcn6tlvj with config:\n",
      "\u001b[34m\u001b[1mwandb\u001b[0m: \tactivation_func: TANH\n",
      "\u001b[34m\u001b[1mwandb\u001b[0m: \tbatch_size: 64\n",
      "\u001b[34m\u001b[1mwandb\u001b[0m: \tepochs: 10\n",
      "\u001b[34m\u001b[1mwandb\u001b[0m: \thidden_neurons: 128\n",
      "\u001b[34m\u001b[1mwandb\u001b[0m: \tinit_method: XAVIER\n",
      "\u001b[34m\u001b[1mwandb\u001b[0m: \tlayers: 3\n",
      "\u001b[34m\u001b[1mwandb\u001b[0m: \tlearning_rate: 0.0001\n",
      "\u001b[34m\u001b[1mwandb\u001b[0m: \toptimizer: SGD\n",
      "\u001b[34m\u001b[1mwandb\u001b[0m: \tweight_decay: 0.0005\n"
     ]
    },
    {
     "data": {
      "text/html": [
       "creating run (0.0s)"
      ],
      "text/plain": [
       "<IPython.core.display.HTML object>"
      ]
     },
     "metadata": {},
     "output_type": "display_data"
    },
    {
     "data": {
      "text/html": [
       "Tracking run with wandb version 0.19.7"
      ],
      "text/plain": [
       "<IPython.core.display.HTML object>"
      ]
     },
     "metadata": {},
     "output_type": "display_data"
    },
    {
     "data": {
      "text/html": [
       "Run data is saved locally in <code>c:\\Users\\singh\\OneDrive\\Documents\\GitHub\\DA6401_Assignment-01\\wandb\\run-20250315_073649-fcn6tlvj</code>"
      ],
      "text/plain": [
       "<IPython.core.display.HTML object>"
      ]
     },
     "metadata": {},
     "output_type": "display_data"
    },
    {
     "data": {
      "text/html": [
       "Syncing run <strong><a href='https://wandb.ai/singhsonalika5-indian-institute-of-technology-madras/Fashion_MNIST_Images/runs/fcn6tlvj' target=\"_blank\">wobbly-sweep-19</a></strong> to <a href='https://wandb.ai/singhsonalika5-indian-institute-of-technology-madras/Fashion_MNIST_Images' target=\"_blank\">Weights & Biases</a> (<a href='https://wandb.me/developer-guide' target=\"_blank\">docs</a>)<br>Sweep page: <a href='https://wandb.ai/singhsonalika5-indian-institute-of-technology-madras/Fashion_MNIST_Images/sweeps/r7vljbht' target=\"_blank\">https://wandb.ai/singhsonalika5-indian-institute-of-technology-madras/Fashion_MNIST_Images/sweeps/r7vljbht</a>"
      ],
      "text/plain": [
       "<IPython.core.display.HTML object>"
      ]
     },
     "metadata": {},
     "output_type": "display_data"
    },
    {
     "data": {
      "text/html": [
       " View project at <a href='https://wandb.ai/singhsonalika5-indian-institute-of-technology-madras/Fashion_MNIST_Images' target=\"_blank\">https://wandb.ai/singhsonalika5-indian-institute-of-technology-madras/Fashion_MNIST_Images</a>"
      ],
      "text/plain": [
       "<IPython.core.display.HTML object>"
      ]
     },
     "metadata": {},
     "output_type": "display_data"
    },
    {
     "data": {
      "text/html": [
       " View sweep at <a href='https://wandb.ai/singhsonalika5-indian-institute-of-technology-madras/Fashion_MNIST_Images/sweeps/r7vljbht' target=\"_blank\">https://wandb.ai/singhsonalika5-indian-institute-of-technology-madras/Fashion_MNIST_Images/sweeps/r7vljbht</a>"
      ],
      "text/plain": [
       "<IPython.core.display.HTML object>"
      ]
     },
     "metadata": {},
     "output_type": "display_data"
    },
    {
     "data": {
      "text/html": [
       " View run at <a href='https://wandb.ai/singhsonalika5-indian-institute-of-technology-madras/Fashion_MNIST_Images/runs/fcn6tlvj' target=\"_blank\">https://wandb.ai/singhsonalika5-indian-institute-of-technology-madras/Fashion_MNIST_Images/runs/fcn6tlvj</a>"
      ],
      "text/plain": [
       "<IPython.core.display.HTML object>"
      ]
     },
     "metadata": {},
     "output_type": "display_data"
    },
    {
     "data": {
      "text/html": [],
      "text/plain": [
       "<IPython.core.display.HTML object>"
      ]
     },
     "metadata": {},
     "output_type": "display_data"
    },
    {
     "data": {
      "text/html": [
       " View run <strong style=\"color:#cdcd00\">hl_3_hn_128_opt_SGD_act_TANH_lr_0.0001_bs_64_init_XAVIER_ep_5_l2_0.0005</strong> at: <a href='https://wandb.ai/singhsonalika5-indian-institute-of-technology-madras/Fashion_MNIST_Images/runs/fcn6tlvj' target=\"_blank\">https://wandb.ai/singhsonalika5-indian-institute-of-technology-madras/Fashion_MNIST_Images/runs/fcn6tlvj</a><br> View project at: <a href='https://wandb.ai/singhsonalika5-indian-institute-of-technology-madras/Fashion_MNIST_Images' target=\"_blank\">https://wandb.ai/singhsonalika5-indian-institute-of-technology-madras/Fashion_MNIST_Images</a><br>Synced 5 W&B file(s), 0 media file(s), 0 artifact file(s) and 0 other file(s)"
      ],
      "text/plain": [
       "<IPython.core.display.HTML object>"
      ]
     },
     "metadata": {},
     "output_type": "display_data"
    },
    {
     "data": {
      "text/html": [
       "Find logs at: <code>.\\wandb\\run-20250315_073649-fcn6tlvj\\logs</code>"
      ],
      "text/plain": [
       "<IPython.core.display.HTML object>"
      ]
     },
     "metadata": {},
     "output_type": "display_data"
    },
    {
     "name": "stderr",
     "output_type": "stream",
     "text": [
      "Run fcn6tlvj errored:\n",
      "Traceback (most recent call last):\n",
      "  File \"c:\\Users\\singh\\AppData\\Local\\Programs\\Python\\Python312\\Lib\\site-packages\\wandb\\agents\\pyagent.py\", line 306, in _run_job\n",
      "    self._function()\n",
      "  File \"C:\\Users\\singh\\AppData\\Local\\Temp\\ipykernel_18712\\1481853125.py\", line 43, in train\n",
      "    training_loss, training_accuracy, validation_accuracy, predictions = NN.optimizer(\n",
      "                                                                         ^^^^^^^^^^^^^\n",
      "  File \"C:\\Users\\singh\\AppData\\Local\\Temp\\ipykernel_18712\\2078877857.py\", line 293, in sgd\n",
      "    validation_accuracy.append(self.compute_accuracy(self.num_test, self.predict(self.num_train, self.num_val), self.num_val)[0])\n",
      "                                                                    ^^^^^^^^^^^^^^^^^^^^^^^^^^^^^^^^^^^^^^^^^^\n",
      "  File \"C:\\Users\\singh\\AppData\\Local\\Temp\\ipykernel_18712\\2078877857.py\", line 207, in predict\n",
      "    input_batch[:, i].reshape(self.input_size, 1),\n",
      "    ~~~~~~~~~~~^^^^^^\n",
      "TypeError: 'int' object is not subscriptable\n",
      "\n",
      "\u001b[34m\u001b[1mwandb\u001b[0m: \u001b[32m\u001b[41mERROR\u001b[0m Run fcn6tlvj errored:\n",
      "\u001b[34m\u001b[1mwandb\u001b[0m: \u001b[32m\u001b[41mERROR\u001b[0m Traceback (most recent call last):\n",
      "\u001b[34m\u001b[1mwandb\u001b[0m: \u001b[32m\u001b[41mERROR\u001b[0m   File \"c:\\Users\\singh\\AppData\\Local\\Programs\\Python\\Python312\\Lib\\site-packages\\wandb\\agents\\pyagent.py\", line 306, in _run_job\n",
      "\u001b[34m\u001b[1mwandb\u001b[0m: \u001b[32m\u001b[41mERROR\u001b[0m     self._function()\n",
      "\u001b[34m\u001b[1mwandb\u001b[0m: \u001b[32m\u001b[41mERROR\u001b[0m   File \"C:\\Users\\singh\\AppData\\Local\\Temp\\ipykernel_18712\\1481853125.py\", line 43, in train\n",
      "\u001b[34m\u001b[1mwandb\u001b[0m: \u001b[32m\u001b[41mERROR\u001b[0m     training_loss, training_accuracy, validation_accuracy, predictions = NN.optimizer(\n",
      "\u001b[34m\u001b[1mwandb\u001b[0m: \u001b[32m\u001b[41mERROR\u001b[0m                                                                          ^^^^^^^^^^^^^\n",
      "\u001b[34m\u001b[1mwandb\u001b[0m: \u001b[32m\u001b[41mERROR\u001b[0m   File \"C:\\Users\\singh\\AppData\\Local\\Temp\\ipykernel_18712\\2078877857.py\", line 293, in sgd\n",
      "\u001b[34m\u001b[1mwandb\u001b[0m: \u001b[32m\u001b[41mERROR\u001b[0m     validation_accuracy.append(self.compute_accuracy(self.num_test, self.predict(self.num_train, self.num_val), self.num_val)[0])\n",
      "\u001b[34m\u001b[1mwandb\u001b[0m: \u001b[32m\u001b[41mERROR\u001b[0m                                                                     ^^^^^^^^^^^^^^^^^^^^^^^^^^^^^^^^^^^^^^^^^^\n",
      "\u001b[34m\u001b[1mwandb\u001b[0m: \u001b[32m\u001b[41mERROR\u001b[0m   File \"C:\\Users\\singh\\AppData\\Local\\Temp\\ipykernel_18712\\2078877857.py\", line 207, in predict\n",
      "\u001b[34m\u001b[1mwandb\u001b[0m: \u001b[32m\u001b[41mERROR\u001b[0m     input_batch[:, i].reshape(self.input_size, 1),\n",
      "\u001b[34m\u001b[1mwandb\u001b[0m: \u001b[32m\u001b[41mERROR\u001b[0m     ~~~~~~~~~~~^^^^^^\n",
      "\u001b[34m\u001b[1mwandb\u001b[0m: \u001b[32m\u001b[41mERROR\u001b[0m TypeError: 'int' object is not subscriptable\n",
      "\u001b[34m\u001b[1mwandb\u001b[0m: \u001b[32m\u001b[41mERROR\u001b[0m \n",
      "\u001b[34m\u001b[1mwandb\u001b[0m: Agent Starting Run: xmu2wsjr with config:\n",
      "\u001b[34m\u001b[1mwandb\u001b[0m: \tactivation_func: RELU\n",
      "\u001b[34m\u001b[1mwandb\u001b[0m: \tbatch_size: 32\n",
      "\u001b[34m\u001b[1mwandb\u001b[0m: \tepochs: 10\n",
      "\u001b[34m\u001b[1mwandb\u001b[0m: \thidden_neurons: 64\n",
      "\u001b[34m\u001b[1mwandb\u001b[0m: \tinit_method: XAVIER\n",
      "\u001b[34m\u001b[1mwandb\u001b[0m: \tlayers: 4\n",
      "\u001b[34m\u001b[1mwandb\u001b[0m: \tlearning_rate: 0.001\n",
      "\u001b[34m\u001b[1mwandb\u001b[0m: \toptimizer: SGD\n",
      "\u001b[34m\u001b[1mwandb\u001b[0m: \tweight_decay: 0.0005\n"
     ]
    },
    {
     "data": {
      "text/html": [
       "Tracking run with wandb version 0.19.7"
      ],
      "text/plain": [
       "<IPython.core.display.HTML object>"
      ]
     },
     "metadata": {},
     "output_type": "display_data"
    },
    {
     "data": {
      "text/html": [
       "Run data is saved locally in <code>c:\\Users\\singh\\OneDrive\\Documents\\GitHub\\DA6401_Assignment-01\\wandb\\run-20250315_074453-xmu2wsjr</code>"
      ],
      "text/plain": [
       "<IPython.core.display.HTML object>"
      ]
     },
     "metadata": {},
     "output_type": "display_data"
    },
    {
     "data": {
      "text/html": [
       "Syncing run <strong><a href='https://wandb.ai/singhsonalika5-indian-institute-of-technology-madras/Fashion_MNIST_Images/runs/xmu2wsjr' target=\"_blank\">honest-sweep-20</a></strong> to <a href='https://wandb.ai/singhsonalika5-indian-institute-of-technology-madras/Fashion_MNIST_Images' target=\"_blank\">Weights & Biases</a> (<a href='https://wandb.me/developer-guide' target=\"_blank\">docs</a>)<br>Sweep page: <a href='https://wandb.ai/singhsonalika5-indian-institute-of-technology-madras/Fashion_MNIST_Images/sweeps/r7vljbht' target=\"_blank\">https://wandb.ai/singhsonalika5-indian-institute-of-technology-madras/Fashion_MNIST_Images/sweeps/r7vljbht</a>"
      ],
      "text/plain": [
       "<IPython.core.display.HTML object>"
      ]
     },
     "metadata": {},
     "output_type": "display_data"
    },
    {
     "data": {
      "text/html": [
       " View project at <a href='https://wandb.ai/singhsonalika5-indian-institute-of-technology-madras/Fashion_MNIST_Images' target=\"_blank\">https://wandb.ai/singhsonalika5-indian-institute-of-technology-madras/Fashion_MNIST_Images</a>"
      ],
      "text/plain": [
       "<IPython.core.display.HTML object>"
      ]
     },
     "metadata": {},
     "output_type": "display_data"
    },
    {
     "data": {
      "text/html": [
       " View sweep at <a href='https://wandb.ai/singhsonalika5-indian-institute-of-technology-madras/Fashion_MNIST_Images/sweeps/r7vljbht' target=\"_blank\">https://wandb.ai/singhsonalika5-indian-institute-of-technology-madras/Fashion_MNIST_Images/sweeps/r7vljbht</a>"
      ],
      "text/plain": [
       "<IPython.core.display.HTML object>"
      ]
     },
     "metadata": {},
     "output_type": "display_data"
    },
    {
     "data": {
      "text/html": [
       " View run at <a href='https://wandb.ai/singhsonalika5-indian-institute-of-technology-madras/Fashion_MNIST_Images/runs/xmu2wsjr' target=\"_blank\">https://wandb.ai/singhsonalika5-indian-institute-of-technology-madras/Fashion_MNIST_Images/runs/xmu2wsjr</a>"
      ],
      "text/plain": [
       "<IPython.core.display.HTML object>"
      ]
     },
     "metadata": {},
     "output_type": "display_data"
    },
    {
     "data": {
      "text/html": [],
      "text/plain": [
       "<IPython.core.display.HTML object>"
      ]
     },
     "metadata": {},
     "output_type": "display_data"
    },
    {
     "data": {
      "text/html": [
       " View run <strong style=\"color:#cdcd00\">hl_3_hn_64_opt_SGD_act_TANH_lr_0.001_bs_32_init_XAVIER_ep_5_l2_0.0005</strong> at: <a href='https://wandb.ai/singhsonalika5-indian-institute-of-technology-madras/Fashion_MNIST_Images/runs/xmu2wsjr' target=\"_blank\">https://wandb.ai/singhsonalika5-indian-institute-of-technology-madras/Fashion_MNIST_Images/runs/xmu2wsjr</a><br> View project at: <a href='https://wandb.ai/singhsonalika5-indian-institute-of-technology-madras/Fashion_MNIST_Images' target=\"_blank\">https://wandb.ai/singhsonalika5-indian-institute-of-technology-madras/Fashion_MNIST_Images</a><br>Synced 5 W&B file(s), 0 media file(s), 0 artifact file(s) and 0 other file(s)"
      ],
      "text/plain": [
       "<IPython.core.display.HTML object>"
      ]
     },
     "metadata": {},
     "output_type": "display_data"
    },
    {
     "data": {
      "text/html": [
       "Find logs at: <code>.\\wandb\\run-20250315_074453-xmu2wsjr\\logs</code>"
      ],
      "text/plain": [
       "<IPython.core.display.HTML object>"
      ]
     },
     "metadata": {},
     "output_type": "display_data"
    },
    {
     "name": "stderr",
     "output_type": "stream",
     "text": [
      "Run xmu2wsjr errored:\n",
      "Traceback (most recent call last):\n",
      "  File \"c:\\Users\\singh\\AppData\\Local\\Programs\\Python\\Python312\\Lib\\site-packages\\wandb\\agents\\pyagent.py\", line 306, in _run_job\n",
      "    self._function()\n",
      "  File \"C:\\Users\\singh\\AppData\\Local\\Temp\\ipykernel_18712\\1481853125.py\", line 43, in train\n",
      "    training_loss, training_accuracy, validation_accuracy, predictions = NN.optimizer(\n",
      "                                                                         ^^^^^^^^^^^^^\n",
      "  File \"C:\\Users\\singh\\AppData\\Local\\Temp\\ipykernel_18712\\2078877857.py\", line 293, in sgd\n",
      "    validation_accuracy.append(self.compute_accuracy(self.num_test, self.predict(self.num_train, self.num_val), self.num_val)[0])\n",
      "                                                                    ^^^^^^^^^^^^^^^^^^^^^^^^^^^^^^^^^^^^^^^^^^\n",
      "  File \"C:\\Users\\singh\\AppData\\Local\\Temp\\ipykernel_18712\\2078877857.py\", line 207, in predict\n",
      "    input_batch[:, i].reshape(self.input_size, 1),\n",
      "    ~~~~~~~~~~~^^^^^^\n",
      "TypeError: 'int' object is not subscriptable\n",
      "\n",
      "\u001b[34m\u001b[1mwandb\u001b[0m: \u001b[32m\u001b[41mERROR\u001b[0m Run xmu2wsjr errored:\n",
      "\u001b[34m\u001b[1mwandb\u001b[0m: \u001b[32m\u001b[41mERROR\u001b[0m Traceback (most recent call last):\n",
      "\u001b[34m\u001b[1mwandb\u001b[0m: \u001b[32m\u001b[41mERROR\u001b[0m   File \"c:\\Users\\singh\\AppData\\Local\\Programs\\Python\\Python312\\Lib\\site-packages\\wandb\\agents\\pyagent.py\", line 306, in _run_job\n",
      "\u001b[34m\u001b[1mwandb\u001b[0m: \u001b[32m\u001b[41mERROR\u001b[0m     self._function()\n",
      "\u001b[34m\u001b[1mwandb\u001b[0m: \u001b[32m\u001b[41mERROR\u001b[0m   File \"C:\\Users\\singh\\AppData\\Local\\Temp\\ipykernel_18712\\1481853125.py\", line 43, in train\n",
      "\u001b[34m\u001b[1mwandb\u001b[0m: \u001b[32m\u001b[41mERROR\u001b[0m     training_loss, training_accuracy, validation_accuracy, predictions = NN.optimizer(\n",
      "\u001b[34m\u001b[1mwandb\u001b[0m: \u001b[32m\u001b[41mERROR\u001b[0m                                                                          ^^^^^^^^^^^^^\n",
      "\u001b[34m\u001b[1mwandb\u001b[0m: \u001b[32m\u001b[41mERROR\u001b[0m   File \"C:\\Users\\singh\\AppData\\Local\\Temp\\ipykernel_18712\\2078877857.py\", line 293, in sgd\n",
      "\u001b[34m\u001b[1mwandb\u001b[0m: \u001b[32m\u001b[41mERROR\u001b[0m     validation_accuracy.append(self.compute_accuracy(self.num_test, self.predict(self.num_train, self.num_val), self.num_val)[0])\n",
      "\u001b[34m\u001b[1mwandb\u001b[0m: \u001b[32m\u001b[41mERROR\u001b[0m                                                                     ^^^^^^^^^^^^^^^^^^^^^^^^^^^^^^^^^^^^^^^^^^\n",
      "\u001b[34m\u001b[1mwandb\u001b[0m: \u001b[32m\u001b[41mERROR\u001b[0m   File \"C:\\Users\\singh\\AppData\\Local\\Temp\\ipykernel_18712\\2078877857.py\", line 207, in predict\n",
      "\u001b[34m\u001b[1mwandb\u001b[0m: \u001b[32m\u001b[41mERROR\u001b[0m     input_batch[:, i].reshape(self.input_size, 1),\n",
      "\u001b[34m\u001b[1mwandb\u001b[0m: \u001b[32m\u001b[41mERROR\u001b[0m     ~~~~~~~~~~~^^^^^^\n",
      "\u001b[34m\u001b[1mwandb\u001b[0m: \u001b[32m\u001b[41mERROR\u001b[0m TypeError: 'int' object is not subscriptable\n",
      "\u001b[34m\u001b[1mwandb\u001b[0m: \u001b[32m\u001b[41mERROR\u001b[0m \n",
      "\u001b[34m\u001b[1mwandb\u001b[0m: Agent Starting Run: o32tb1z7 with config:\n",
      "\u001b[34m\u001b[1mwandb\u001b[0m: \tactivation_func: TANH\n",
      "\u001b[34m\u001b[1mwandb\u001b[0m: \tbatch_size: 16\n",
      "\u001b[34m\u001b[1mwandb\u001b[0m: \tepochs: 5\n",
      "\u001b[34m\u001b[1mwandb\u001b[0m: \thidden_neurons: 128\n",
      "\u001b[34m\u001b[1mwandb\u001b[0m: \tinit_method: XAVIER\n",
      "\u001b[34m\u001b[1mwandb\u001b[0m: \tlayers: 2\n",
      "\u001b[34m\u001b[1mwandb\u001b[0m: \tlearning_rate: 0.0001\n",
      "\u001b[34m\u001b[1mwandb\u001b[0m: \toptimizer: MGD\n",
      "\u001b[34m\u001b[1mwandb\u001b[0m: \tweight_decay: 0\n"
     ]
    },
    {
     "data": {
      "text/html": [
       "Tracking run with wandb version 0.19.7"
      ],
      "text/plain": [
       "<IPython.core.display.HTML object>"
      ]
     },
     "metadata": {},
     "output_type": "display_data"
    },
    {
     "data": {
      "text/html": [
       "Run data is saved locally in <code>c:\\Users\\singh\\OneDrive\\Documents\\GitHub\\DA6401_Assignment-01\\wandb\\run-20250315_074810-o32tb1z7</code>"
      ],
      "text/plain": [
       "<IPython.core.display.HTML object>"
      ]
     },
     "metadata": {},
     "output_type": "display_data"
    },
    {
     "data": {
      "text/html": [
       "Syncing run <strong><a href='https://wandb.ai/singhsonalika5-indian-institute-of-technology-madras/Fashion_MNIST_Images/runs/o32tb1z7' target=\"_blank\">sleek-sweep-21</a></strong> to <a href='https://wandb.ai/singhsonalika5-indian-institute-of-technology-madras/Fashion_MNIST_Images' target=\"_blank\">Weights & Biases</a> (<a href='https://wandb.me/developer-guide' target=\"_blank\">docs</a>)<br>Sweep page: <a href='https://wandb.ai/singhsonalika5-indian-institute-of-technology-madras/Fashion_MNIST_Images/sweeps/r7vljbht' target=\"_blank\">https://wandb.ai/singhsonalika5-indian-institute-of-technology-madras/Fashion_MNIST_Images/sweeps/r7vljbht</a>"
      ],
      "text/plain": [
       "<IPython.core.display.HTML object>"
      ]
     },
     "metadata": {},
     "output_type": "display_data"
    },
    {
     "data": {
      "text/html": [
       " View project at <a href='https://wandb.ai/singhsonalika5-indian-institute-of-technology-madras/Fashion_MNIST_Images' target=\"_blank\">https://wandb.ai/singhsonalika5-indian-institute-of-technology-madras/Fashion_MNIST_Images</a>"
      ],
      "text/plain": [
       "<IPython.core.display.HTML object>"
      ]
     },
     "metadata": {},
     "output_type": "display_data"
    },
    {
     "data": {
      "text/html": [
       " View sweep at <a href='https://wandb.ai/singhsonalika5-indian-institute-of-technology-madras/Fashion_MNIST_Images/sweeps/r7vljbht' target=\"_blank\">https://wandb.ai/singhsonalika5-indian-institute-of-technology-madras/Fashion_MNIST_Images/sweeps/r7vljbht</a>"
      ],
      "text/plain": [
       "<IPython.core.display.HTML object>"
      ]
     },
     "metadata": {},
     "output_type": "display_data"
    },
    {
     "data": {
      "text/html": [
       " View run at <a href='https://wandb.ai/singhsonalika5-indian-institute-of-technology-madras/Fashion_MNIST_Images/runs/o32tb1z7' target=\"_blank\">https://wandb.ai/singhsonalika5-indian-institute-of-technology-madras/Fashion_MNIST_Images/runs/o32tb1z7</a>"
      ],
      "text/plain": [
       "<IPython.core.display.HTML object>"
      ]
     },
     "metadata": {},
     "output_type": "display_data"
    },
    {
     "name": "stdout",
     "output_type": "stream",
     "text": [
      "Epoch: 0, Loss: 1.199e-01, Training Accuracy: 0.10, Validation Accuracy: 0.71, Time: 242.19, Learning Rate: 1.000e-04\n",
      "Epoch: 1, Loss: 7.849e-02, Training Accuracy: 0.10, Validation Accuracy: 0.75, Time: 292.19, Learning Rate: 1.000e-04\n",
      "Epoch: 2, Loss: 6.649e-02, Training Accuracy: 0.10, Validation Accuracy: 0.78, Time: 279.92, Learning Rate: 1.000e-04\n",
      "Epoch: 3, Loss: 5.982e-02, Training Accuracy: 0.10, Validation Accuracy: 0.80, Time: 275.03, Learning Rate: 1.000e-04\n",
      "Epoch: 4, Loss: 5.557e-02, Training Accuracy: 0.10, Validation Accuracy: 0.81, Time: 286.81, Learning Rate: 1.000e-04\n"
     ]
    },
    {
     "data": {
      "text/html": [],
      "text/plain": [
       "<IPython.core.display.HTML object>"
      ]
     },
     "metadata": {},
     "output_type": "display_data"
    },
    {
     "data": {
      "text/html": [
       "<br>    <style><br>        .wandb-row {<br>            display: flex;<br>            flex-direction: row;<br>            flex-wrap: wrap;<br>            justify-content: flex-start;<br>            width: 100%;<br>        }<br>        .wandb-col {<br>            display: flex;<br>            flex-direction: column;<br>            flex-basis: 100%;<br>            flex: 1;<br>            padding: 10px;<br>        }<br>    </style><br><div class=\"wandb-row\"><div class=\"wandb-col\"><h3>Run history:</h3><br/><table class=\"wandb\"><tr><td>epoch</td><td>▁▃▅▆█</td></tr><tr><td>loss</td><td>█▃▂▁▁</td></tr><tr><td>training_accuracy</td><td>▃▁▃▁█</td></tr><tr><td>validation_accuracy</td><td>▁▄▆▇█</td></tr></table><br/></div><div class=\"wandb-col\"><h3>Run summary:</h3><br/><table class=\"wandb\"><tr><td>epoch</td><td>4</td></tr><tr><td>loss</td><td>0.05557</td></tr><tr><td>training_accuracy</td><td>0.10189</td></tr><tr><td>validation_accuracy</td><td>0.8092</td></tr></table><br/></div></div>"
      ],
      "text/plain": [
       "<IPython.core.display.HTML object>"
      ]
     },
     "metadata": {},
     "output_type": "display_data"
    },
    {
     "data": {
      "text/html": [
       " View run <strong style=\"color:#cdcd00\">hl_3_hn_128_opt_MGD_act_TANH_lr_0.0001_bs_16_init_XAVIER_ep_5_l2_0</strong> at: <a href='https://wandb.ai/singhsonalika5-indian-institute-of-technology-madras/Fashion_MNIST_Images/runs/o32tb1z7' target=\"_blank\">https://wandb.ai/singhsonalika5-indian-institute-of-technology-madras/Fashion_MNIST_Images/runs/o32tb1z7</a><br> View project at: <a href='https://wandb.ai/singhsonalika5-indian-institute-of-technology-madras/Fashion_MNIST_Images' target=\"_blank\">https://wandb.ai/singhsonalika5-indian-institute-of-technology-madras/Fashion_MNIST_Images</a><br>Synced 5 W&B file(s), 0 media file(s), 0 artifact file(s) and 0 other file(s)"
      ],
      "text/plain": [
       "<IPython.core.display.HTML object>"
      ]
     },
     "metadata": {},
     "output_type": "display_data"
    },
    {
     "data": {
      "text/html": [
       "Find logs at: <code>.\\wandb\\run-20250315_074810-o32tb1z7\\logs</code>"
      ],
      "text/plain": [
       "<IPython.core.display.HTML object>"
      ]
     },
     "metadata": {},
     "output_type": "display_data"
    }
   ],
   "source": [
    "wandb.agent(sweep_id, train, count=10)"
   ]
  },
  {
   "cell_type": "code",
   "execution_count": 94,
   "metadata": {},
   "outputs": [
    {
     "name": "stderr",
     "output_type": "stream",
     "text": [
      "\u001b[34m\u001b[1mwandb\u001b[0m: Agent Starting Run: 4sduv1er with config:\n",
      "\u001b[34m\u001b[1mwandb\u001b[0m: \tactivation_func: RELU\n",
      "\u001b[34m\u001b[1mwandb\u001b[0m: \tbatch_size: 16\n",
      "\u001b[34m\u001b[1mwandb\u001b[0m: \tepochs: 10\n",
      "\u001b[34m\u001b[1mwandb\u001b[0m: \thidden_neurons: 32\n",
      "\u001b[34m\u001b[1mwandb\u001b[0m: \tinit_method: RANDOM\n",
      "\u001b[34m\u001b[1mwandb\u001b[0m: \tlayers: 2\n",
      "\u001b[34m\u001b[1mwandb\u001b[0m: \tlearning_rate: 0.001\n",
      "\u001b[34m\u001b[1mwandb\u001b[0m: \toptimizer: NGD\n",
      "\u001b[34m\u001b[1mwandb\u001b[0m: \tweight_decay: 0.5\n"
     ]
    },
    {
     "data": {
      "text/html": [
       "Tracking run with wandb version 0.19.7"
      ],
      "text/plain": [
       "<IPython.core.display.HTML object>"
      ]
     },
     "metadata": {},
     "output_type": "display_data"
    },
    {
     "data": {
      "text/html": [
       "Run data is saved locally in <code>c:\\Users\\singh\\OneDrive\\Documents\\GitHub\\DA6401_Assignment-01\\wandb\\run-20250315_081624-4sduv1er</code>"
      ],
      "text/plain": [
       "<IPython.core.display.HTML object>"
      ]
     },
     "metadata": {},
     "output_type": "display_data"
    },
    {
     "data": {
      "text/html": [
       "Syncing run <strong><a href='https://wandb.ai/singhsonalika5-indian-institute-of-technology-madras/Fashion_MNIST_Images/runs/4sduv1er' target=\"_blank\">misunderstood-sweep-22</a></strong> to <a href='https://wandb.ai/singhsonalika5-indian-institute-of-technology-madras/Fashion_MNIST_Images' target=\"_blank\">Weights & Biases</a> (<a href='https://wandb.me/developer-guide' target=\"_blank\">docs</a>)<br>Sweep page: <a href='https://wandb.ai/singhsonalika5-indian-institute-of-technology-madras/Fashion_MNIST_Images/sweeps/r7vljbht' target=\"_blank\">https://wandb.ai/singhsonalika5-indian-institute-of-technology-madras/Fashion_MNIST_Images/sweeps/r7vljbht</a>"
      ],
      "text/plain": [
       "<IPython.core.display.HTML object>"
      ]
     },
     "metadata": {},
     "output_type": "display_data"
    },
    {
     "data": {
      "text/html": [
       " View project at <a href='https://wandb.ai/singhsonalika5-indian-institute-of-technology-madras/Fashion_MNIST_Images' target=\"_blank\">https://wandb.ai/singhsonalika5-indian-institute-of-technology-madras/Fashion_MNIST_Images</a>"
      ],
      "text/plain": [
       "<IPython.core.display.HTML object>"
      ]
     },
     "metadata": {},
     "output_type": "display_data"
    },
    {
     "data": {
      "text/html": [
       " View sweep at <a href='https://wandb.ai/singhsonalika5-indian-institute-of-technology-madras/Fashion_MNIST_Images/sweeps/r7vljbht' target=\"_blank\">https://wandb.ai/singhsonalika5-indian-institute-of-technology-madras/Fashion_MNIST_Images/sweeps/r7vljbht</a>"
      ],
      "text/plain": [
       "<IPython.core.display.HTML object>"
      ]
     },
     "metadata": {},
     "output_type": "display_data"
    },
    {
     "data": {
      "text/html": [
       " View run at <a href='https://wandb.ai/singhsonalika5-indian-institute-of-technology-madras/Fashion_MNIST_Images/runs/4sduv1er' target=\"_blank\">https://wandb.ai/singhsonalika5-indian-institute-of-technology-madras/Fashion_MNIST_Images/runs/4sduv1er</a>"
      ],
      "text/plain": [
       "<IPython.core.display.HTML object>"
      ]
     },
     "metadata": {},
     "output_type": "display_data"
    },
    {
     "name": "stdout",
     "output_type": "stream",
     "text": [
      "Epoch: 0, Loss: 1.038e-01, Training Accuracy: 0.10, Validation Accuracy: 0.74, Time: 160.63, Learning Rate: 1.000e-03\n",
      "Epoch: 1, Loss: 6.898e-02, Training Accuracy: 0.10, Validation Accuracy: 0.74, Time: 150.82, Learning Rate: 1.000e-03\n",
      "Epoch: 2, Loss: 6.388e-02, Training Accuracy: 0.10, Validation Accuracy: 0.77, Time: 151.80, Learning Rate: 1.000e-03\n",
      "Epoch: 3, Loss: 5.941e-02, Training Accuracy: 0.10, Validation Accuracy: 0.74, Time: 150.68, Learning Rate: 1.000e-03\n",
      "Epoch: 4, Loss: 5.726e-02, Training Accuracy: 0.10, Validation Accuracy: 0.79, Time: 158.78, Learning Rate: 1.000e-03\n"
     ]
    },
    {
     "data": {
      "text/html": [],
      "text/plain": [
       "<IPython.core.display.HTML object>"
      ]
     },
     "metadata": {},
     "output_type": "display_data"
    },
    {
     "data": {
      "text/html": [
       "<br>    <style><br>        .wandb-row {<br>            display: flex;<br>            flex-direction: row;<br>            flex-wrap: wrap;<br>            justify-content: flex-start;<br>            width: 100%;<br>        }<br>        .wandb-col {<br>            display: flex;<br>            flex-direction: column;<br>            flex-basis: 100%;<br>            flex: 1;<br>            padding: 10px;<br>        }<br>    </style><br><div class=\"wandb-row\"><div class=\"wandb-col\"><h3>Run history:</h3><br/><table class=\"wandb\"><tr><td>epoch</td><td>▁▃▅▆█</td></tr><tr><td>loss</td><td>█▃▂▁▁</td></tr><tr><td>training_accuracy</td><td>▁▂▆▃█</td></tr><tr><td>validation_accuracy</td><td>▁▂▅▁█</td></tr></table><br/></div><div class=\"wandb-col\"><h3>Run summary:</h3><br/><table class=\"wandb\"><tr><td>epoch</td><td>4</td></tr><tr><td>loss</td><td>0.05726</td></tr><tr><td>training_accuracy</td><td>0.10213</td></tr><tr><td>validation_accuracy</td><td>0.7928</td></tr></table><br/></div></div>"
      ],
      "text/plain": [
       "<IPython.core.display.HTML object>"
      ]
     },
     "metadata": {},
     "output_type": "display_data"
    },
    {
     "data": {
      "text/html": [
       " View run <strong style=\"color:#cdcd00\">hl_3_hn_32_opt_NGD_act_TANH_lr_0.001_bs_16_init_XAVIER_ep_5_l2_0.5</strong> at: <a href='https://wandb.ai/singhsonalika5-indian-institute-of-technology-madras/Fashion_MNIST_Images/runs/4sduv1er' target=\"_blank\">https://wandb.ai/singhsonalika5-indian-institute-of-technology-madras/Fashion_MNIST_Images/runs/4sduv1er</a><br> View project at: <a href='https://wandb.ai/singhsonalika5-indian-institute-of-technology-madras/Fashion_MNIST_Images' target=\"_blank\">https://wandb.ai/singhsonalika5-indian-institute-of-technology-madras/Fashion_MNIST_Images</a><br>Synced 5 W&B file(s), 0 media file(s), 0 artifact file(s) and 0 other file(s)"
      ],
      "text/plain": [
       "<IPython.core.display.HTML object>"
      ]
     },
     "metadata": {},
     "output_type": "display_data"
    },
    {
     "data": {
      "text/html": [
       "Find logs at: <code>.\\wandb\\run-20250315_081624-4sduv1er\\logs</code>"
      ],
      "text/plain": [
       "<IPython.core.display.HTML object>"
      ]
     },
     "metadata": {},
     "output_type": "display_data"
    },
    {
     "name": "stderr",
     "output_type": "stream",
     "text": [
      "\u001b[34m\u001b[1mwandb\u001b[0m: Agent Starting Run: dxyyu738 with config:\n",
      "\u001b[34m\u001b[1mwandb\u001b[0m: \tactivation_func: SIGMOID\n",
      "\u001b[34m\u001b[1mwandb\u001b[0m: \tbatch_size: 32\n",
      "\u001b[34m\u001b[1mwandb\u001b[0m: \tepochs: 5\n",
      "\u001b[34m\u001b[1mwandb\u001b[0m: \thidden_neurons: 128\n",
      "\u001b[34m\u001b[1mwandb\u001b[0m: \tinit_method: XAVIER\n",
      "\u001b[34m\u001b[1mwandb\u001b[0m: \tlayers: 3\n",
      "\u001b[34m\u001b[1mwandb\u001b[0m: \tlearning_rate: 0.001\n",
      "\u001b[34m\u001b[1mwandb\u001b[0m: \toptimizer: RMSPROP\n",
      "\u001b[34m\u001b[1mwandb\u001b[0m: \tweight_decay: 0.5\n"
     ]
    },
    {
     "data": {
      "text/html": [
       "Tracking run with wandb version 0.19.7"
      ],
      "text/plain": [
       "<IPython.core.display.HTML object>"
      ]
     },
     "metadata": {},
     "output_type": "display_data"
    },
    {
     "data": {
      "text/html": [
       "Run data is saved locally in <code>c:\\Users\\singh\\OneDrive\\Documents\\GitHub\\DA6401_Assignment-01\\wandb\\run-20250315_083157-dxyyu738</code>"
      ],
      "text/plain": [
       "<IPython.core.display.HTML object>"
      ]
     },
     "metadata": {},
     "output_type": "display_data"
    },
    {
     "data": {
      "text/html": [
       "Syncing run <strong><a href='https://wandb.ai/singhsonalika5-indian-institute-of-technology-madras/Fashion_MNIST_Images/runs/dxyyu738' target=\"_blank\">bumbling-sweep-23</a></strong> to <a href='https://wandb.ai/singhsonalika5-indian-institute-of-technology-madras/Fashion_MNIST_Images' target=\"_blank\">Weights & Biases</a> (<a href='https://wandb.me/developer-guide' target=\"_blank\">docs</a>)<br>Sweep page: <a href='https://wandb.ai/singhsonalika5-indian-institute-of-technology-madras/Fashion_MNIST_Images/sweeps/r7vljbht' target=\"_blank\">https://wandb.ai/singhsonalika5-indian-institute-of-technology-madras/Fashion_MNIST_Images/sweeps/r7vljbht</a>"
      ],
      "text/plain": [
       "<IPython.core.display.HTML object>"
      ]
     },
     "metadata": {},
     "output_type": "display_data"
    },
    {
     "data": {
      "text/html": [
       " View project at <a href='https://wandb.ai/singhsonalika5-indian-institute-of-technology-madras/Fashion_MNIST_Images' target=\"_blank\">https://wandb.ai/singhsonalika5-indian-institute-of-technology-madras/Fashion_MNIST_Images</a>"
      ],
      "text/plain": [
       "<IPython.core.display.HTML object>"
      ]
     },
     "metadata": {},
     "output_type": "display_data"
    },
    {
     "data": {
      "text/html": [
       " View sweep at <a href='https://wandb.ai/singhsonalika5-indian-institute-of-technology-madras/Fashion_MNIST_Images/sweeps/r7vljbht' target=\"_blank\">https://wandb.ai/singhsonalika5-indian-institute-of-technology-madras/Fashion_MNIST_Images/sweeps/r7vljbht</a>"
      ],
      "text/plain": [
       "<IPython.core.display.HTML object>"
      ]
     },
     "metadata": {},
     "output_type": "display_data"
    },
    {
     "data": {
      "text/html": [
       " View run at <a href='https://wandb.ai/singhsonalika5-indian-institute-of-technology-madras/Fashion_MNIST_Images/runs/dxyyu738' target=\"_blank\">https://wandb.ai/singhsonalika5-indian-institute-of-technology-madras/Fashion_MNIST_Images/runs/dxyyu738</a>"
      ],
      "text/plain": [
       "<IPython.core.display.HTML object>"
      ]
     },
     "metadata": {},
     "output_type": "display_data"
    },
    {
     "name": "stdout",
     "output_type": "stream",
     "text": [
      "Epoch: 0, Loss: 5.099e-02, Training Accuracy: 0.10, Validation Accuracy: 0.85, Time: 309.97, Learning Rate: 1.000e-03\n",
      "Epoch: 1, Loss: 3.911e-02, Training Accuracy: 0.10, Validation Accuracy: 0.87, Time: 300.91, Learning Rate: 1.000e-03\n",
      "Epoch: 2, Loss: 3.541e-02, Training Accuracy: 0.10, Validation Accuracy: 0.87, Time: 286.89, Learning Rate: 1.000e-03\n",
      "Epoch: 3, Loss: 3.281e-02, Training Accuracy: 0.10, Validation Accuracy: 0.87, Time: 290.22, Learning Rate: 1.000e-03\n",
      "Epoch: 4, Loss: 3.093e-02, Training Accuracy: 0.10, Validation Accuracy: 0.87, Time: 301.94, Learning Rate: 1.000e-03\n"
     ]
    },
    {
     "data": {
      "text/html": [],
      "text/plain": [
       "<IPython.core.display.HTML object>"
      ]
     },
     "metadata": {},
     "output_type": "display_data"
    },
    {
     "data": {
      "text/html": [
       "<br>    <style><br>        .wandb-row {<br>            display: flex;<br>            flex-direction: row;<br>            flex-wrap: wrap;<br>            justify-content: flex-start;<br>            width: 100%;<br>        }<br>        .wandb-col {<br>            display: flex;<br>            flex-direction: column;<br>            flex-basis: 100%;<br>            flex: 1;<br>            padding: 10px;<br>        }<br>    </style><br><div class=\"wandb-row\"><div class=\"wandb-col\"><h3>Run history:</h3><br/><table class=\"wandb\"><tr><td>epoch</td><td>▁▃▅▆█</td></tr><tr><td>loss</td><td>█▄▃▂▁</td></tr><tr><td>training_accuracy</td><td>█▅▆▁▇</td></tr><tr><td>validation_accuracy</td><td>▁▆▆██</td></tr></table><br/></div><div class=\"wandb-col\"><h3>Run summary:</h3><br/><table class=\"wandb\"><tr><td>epoch</td><td>4</td></tr><tr><td>loss</td><td>0.03093</td></tr><tr><td>training_accuracy</td><td>0.0998</td></tr><tr><td>validation_accuracy</td><td>0.8712</td></tr></table><br/></div></div>"
      ],
      "text/plain": [
       "<IPython.core.display.HTML object>"
      ]
     },
     "metadata": {},
     "output_type": "display_data"
    },
    {
     "data": {
      "text/html": [
       " View run <strong style=\"color:#cdcd00\">hl_3_hn_128_opt_RMSPROP_act_TANH_lr_0.001_bs_32_init_XAVIER_ep_5_l2_0.5</strong> at: <a href='https://wandb.ai/singhsonalika5-indian-institute-of-technology-madras/Fashion_MNIST_Images/runs/dxyyu738' target=\"_blank\">https://wandb.ai/singhsonalika5-indian-institute-of-technology-madras/Fashion_MNIST_Images/runs/dxyyu738</a><br> View project at: <a href='https://wandb.ai/singhsonalika5-indian-institute-of-technology-madras/Fashion_MNIST_Images' target=\"_blank\">https://wandb.ai/singhsonalika5-indian-institute-of-technology-madras/Fashion_MNIST_Images</a><br>Synced 5 W&B file(s), 0 media file(s), 0 artifact file(s) and 0 other file(s)"
      ],
      "text/plain": [
       "<IPython.core.display.HTML object>"
      ]
     },
     "metadata": {},
     "output_type": "display_data"
    },
    {
     "data": {
      "text/html": [
       "Find logs at: <code>.\\wandb\\run-20250315_083157-dxyyu738\\logs</code>"
      ],
      "text/plain": [
       "<IPython.core.display.HTML object>"
      ]
     },
     "metadata": {},
     "output_type": "display_data"
    },
    {
     "name": "stderr",
     "output_type": "stream",
     "text": [
      "\u001b[34m\u001b[1mwandb\u001b[0m: Agent Starting Run: v2o2nztt with config:\n",
      "\u001b[34m\u001b[1mwandb\u001b[0m: \tactivation_func: SIGMOID\n",
      "\u001b[34m\u001b[1mwandb\u001b[0m: \tbatch_size: 64\n",
      "\u001b[34m\u001b[1mwandb\u001b[0m: \tepochs: 10\n",
      "\u001b[34m\u001b[1mwandb\u001b[0m: \thidden_neurons: 32\n",
      "\u001b[34m\u001b[1mwandb\u001b[0m: \tinit_method: RANDOM\n",
      "\u001b[34m\u001b[1mwandb\u001b[0m: \tlayers: 3\n",
      "\u001b[34m\u001b[1mwandb\u001b[0m: \tlearning_rate: 0.001\n",
      "\u001b[34m\u001b[1mwandb\u001b[0m: \toptimizer: ADAM\n",
      "\u001b[34m\u001b[1mwandb\u001b[0m: \tweight_decay: 0.5\n"
     ]
    },
    {
     "data": {
      "text/html": [
       "Tracking run with wandb version 0.19.7"
      ],
      "text/plain": [
       "<IPython.core.display.HTML object>"
      ]
     },
     "metadata": {},
     "output_type": "display_data"
    },
    {
     "data": {
      "text/html": [
       "Run data is saved locally in <code>c:\\Users\\singh\\OneDrive\\Documents\\GitHub\\DA6401_Assignment-01\\wandb\\run-20250315_090227-v2o2nztt</code>"
      ],
      "text/plain": [
       "<IPython.core.display.HTML object>"
      ]
     },
     "metadata": {},
     "output_type": "display_data"
    },
    {
     "data": {
      "text/html": [
       "Syncing run <strong><a href='https://wandb.ai/singhsonalika5-indian-institute-of-technology-madras/Fashion_MNIST_Images/runs/v2o2nztt' target=\"_blank\">crimson-sweep-24</a></strong> to <a href='https://wandb.ai/singhsonalika5-indian-institute-of-technology-madras/Fashion_MNIST_Images' target=\"_blank\">Weights & Biases</a> (<a href='https://wandb.me/developer-guide' target=\"_blank\">docs</a>)<br>Sweep page: <a href='https://wandb.ai/singhsonalika5-indian-institute-of-technology-madras/Fashion_MNIST_Images/sweeps/r7vljbht' target=\"_blank\">https://wandb.ai/singhsonalika5-indian-institute-of-technology-madras/Fashion_MNIST_Images/sweeps/r7vljbht</a>"
      ],
      "text/plain": [
       "<IPython.core.display.HTML object>"
      ]
     },
     "metadata": {},
     "output_type": "display_data"
    },
    {
     "data": {
      "text/html": [
       " View project at <a href='https://wandb.ai/singhsonalika5-indian-institute-of-technology-madras/Fashion_MNIST_Images' target=\"_blank\">https://wandb.ai/singhsonalika5-indian-institute-of-technology-madras/Fashion_MNIST_Images</a>"
      ],
      "text/plain": [
       "<IPython.core.display.HTML object>"
      ]
     },
     "metadata": {},
     "output_type": "display_data"
    },
    {
     "data": {
      "text/html": [
       " View sweep at <a href='https://wandb.ai/singhsonalika5-indian-institute-of-technology-madras/Fashion_MNIST_Images/sweeps/r7vljbht' target=\"_blank\">https://wandb.ai/singhsonalika5-indian-institute-of-technology-madras/Fashion_MNIST_Images/sweeps/r7vljbht</a>"
      ],
      "text/plain": [
       "<IPython.core.display.HTML object>"
      ]
     },
     "metadata": {},
     "output_type": "display_data"
    },
    {
     "data": {
      "text/html": [
       " View run at <a href='https://wandb.ai/singhsonalika5-indian-institute-of-technology-madras/Fashion_MNIST_Images/runs/v2o2nztt' target=\"_blank\">https://wandb.ai/singhsonalika5-indian-institute-of-technology-madras/Fashion_MNIST_Images/runs/v2o2nztt</a>"
      ],
      "text/plain": [
       "<IPython.core.display.HTML object>"
      ]
     },
     "metadata": {},
     "output_type": "display_data"
    },
    {
     "name": "stdout",
     "output_type": "stream",
     "text": [
      "Epoch: 0, Loss: 7.807e-02, Training Accuracy: 0.10, Validation Accuracy: 0.82, Time: 135.66, Learning Rate: 1.000e-03\n",
      "Epoch: 1, Loss: 4.322e-02, Training Accuracy: 0.10, Validation Accuracy: 0.85, Time: 126.49, Learning Rate: 1.000e-03\n",
      "Epoch: 2, Loss: 3.917e-02, Training Accuracy: 0.10, Validation Accuracy: 0.85, Time: 119.53, Learning Rate: 1.000e-03\n",
      "Epoch: 3, Loss: 3.666e-02, Training Accuracy: 0.10, Validation Accuracy: 0.85, Time: 603.41, Learning Rate: 1.000e-03\n",
      "Epoch: 4, Loss: 3.521e-02, Training Accuracy: 0.10, Validation Accuracy: 0.86, Time: 117.40, Learning Rate: 1.000e-03\n"
     ]
    },
    {
     "data": {
      "text/html": [],
      "text/plain": [
       "<IPython.core.display.HTML object>"
      ]
     },
     "metadata": {},
     "output_type": "display_data"
    },
    {
     "data": {
      "text/html": [
       "<br>    <style><br>        .wandb-row {<br>            display: flex;<br>            flex-direction: row;<br>            flex-wrap: wrap;<br>            justify-content: flex-start;<br>            width: 100%;<br>        }<br>        .wandb-col {<br>            display: flex;<br>            flex-direction: column;<br>            flex-basis: 100%;<br>            flex: 1;<br>            padding: 10px;<br>        }<br>    </style><br><div class=\"wandb-row\"><div class=\"wandb-col\"><h3>Run history:</h3><br/><table class=\"wandb\"><tr><td>epoch</td><td>▁▃▅▆█</td></tr><tr><td>loss</td><td>█▂▂▁▁</td></tr><tr><td>training_accuracy</td><td>▅█▁▂▃</td></tr><tr><td>validation_accuracy</td><td>▁▆▇▆█</td></tr></table><br/></div><div class=\"wandb-col\"><h3>Run summary:</h3><br/><table class=\"wandb\"><tr><td>epoch</td><td>4</td></tr><tr><td>loss</td><td>0.03521</td></tr><tr><td>training_accuracy</td><td>0.10009</td></tr><tr><td>validation_accuracy</td><td>0.8642</td></tr></table><br/></div></div>"
      ],
      "text/plain": [
       "<IPython.core.display.HTML object>"
      ]
     },
     "metadata": {},
     "output_type": "display_data"
    },
    {
     "data": {
      "text/html": [
       " View run <strong style=\"color:#cdcd00\">hl_3_hn_32_opt_ADAM_act_TANH_lr_0.001_bs_64_init_XAVIER_ep_5_l2_0.5</strong> at: <a href='https://wandb.ai/singhsonalika5-indian-institute-of-technology-madras/Fashion_MNIST_Images/runs/v2o2nztt' target=\"_blank\">https://wandb.ai/singhsonalika5-indian-institute-of-technology-madras/Fashion_MNIST_Images/runs/v2o2nztt</a><br> View project at: <a href='https://wandb.ai/singhsonalika5-indian-institute-of-technology-madras/Fashion_MNIST_Images' target=\"_blank\">https://wandb.ai/singhsonalika5-indian-institute-of-technology-madras/Fashion_MNIST_Images</a><br>Synced 5 W&B file(s), 0 media file(s), 0 artifact file(s) and 0 other file(s)"
      ],
      "text/plain": [
       "<IPython.core.display.HTML object>"
      ]
     },
     "metadata": {},
     "output_type": "display_data"
    },
    {
     "data": {
      "text/html": [
       "Find logs at: <code>.\\wandb\\run-20250315_090227-v2o2nztt\\logs</code>"
      ],
      "text/plain": [
       "<IPython.core.display.HTML object>"
      ]
     },
     "metadata": {},
     "output_type": "display_data"
    },
    {
     "name": "stderr",
     "output_type": "stream",
     "text": [
      "\u001b[34m\u001b[1mwandb\u001b[0m: Agent Starting Run: egnqvkid with config:\n",
      "\u001b[34m\u001b[1mwandb\u001b[0m: \tactivation_func: SIGMOID\n",
      "\u001b[34m\u001b[1mwandb\u001b[0m: \tbatch_size: 32\n",
      "\u001b[34m\u001b[1mwandb\u001b[0m: \tepochs: 10\n",
      "\u001b[34m\u001b[1mwandb\u001b[0m: \thidden_neurons: 64\n",
      "\u001b[34m\u001b[1mwandb\u001b[0m: \tinit_method: XAVIER\n",
      "\u001b[34m\u001b[1mwandb\u001b[0m: \tlayers: 4\n",
      "\u001b[34m\u001b[1mwandb\u001b[0m: \tlearning_rate: 0.001\n",
      "\u001b[34m\u001b[1mwandb\u001b[0m: \toptimizer: ADAM\n",
      "\u001b[34m\u001b[1mwandb\u001b[0m: \tweight_decay: 0\n"
     ]
    },
    {
     "data": {
      "text/html": [
       "Tracking run with wandb version 0.19.7"
      ],
      "text/plain": [
       "<IPython.core.display.HTML object>"
      ]
     },
     "metadata": {},
     "output_type": "display_data"
    },
    {
     "data": {
      "text/html": [
       "Run data is saved locally in <code>c:\\Users\\singh\\OneDrive\\Documents\\GitHub\\DA6401_Assignment-01\\wandb\\run-20250315_092347-egnqvkid</code>"
      ],
      "text/plain": [
       "<IPython.core.display.HTML object>"
      ]
     },
     "metadata": {},
     "output_type": "display_data"
    },
    {
     "data": {
      "text/html": [
       "Syncing run <strong><a href='https://wandb.ai/singhsonalika5-indian-institute-of-technology-madras/Fashion_MNIST_Images/runs/egnqvkid' target=\"_blank\">tough-sweep-25</a></strong> to <a href='https://wandb.ai/singhsonalika5-indian-institute-of-technology-madras/Fashion_MNIST_Images' target=\"_blank\">Weights & Biases</a> (<a href='https://wandb.me/developer-guide' target=\"_blank\">docs</a>)<br>Sweep page: <a href='https://wandb.ai/singhsonalika5-indian-institute-of-technology-madras/Fashion_MNIST_Images/sweeps/r7vljbht' target=\"_blank\">https://wandb.ai/singhsonalika5-indian-institute-of-technology-madras/Fashion_MNIST_Images/sweeps/r7vljbht</a>"
      ],
      "text/plain": [
       "<IPython.core.display.HTML object>"
      ]
     },
     "metadata": {},
     "output_type": "display_data"
    },
    {
     "data": {
      "text/html": [
       " View project at <a href='https://wandb.ai/singhsonalika5-indian-institute-of-technology-madras/Fashion_MNIST_Images' target=\"_blank\">https://wandb.ai/singhsonalika5-indian-institute-of-technology-madras/Fashion_MNIST_Images</a>"
      ],
      "text/plain": [
       "<IPython.core.display.HTML object>"
      ]
     },
     "metadata": {},
     "output_type": "display_data"
    },
    {
     "data": {
      "text/html": [
       " View sweep at <a href='https://wandb.ai/singhsonalika5-indian-institute-of-technology-madras/Fashion_MNIST_Images/sweeps/r7vljbht' target=\"_blank\">https://wandb.ai/singhsonalika5-indian-institute-of-technology-madras/Fashion_MNIST_Images/sweeps/r7vljbht</a>"
      ],
      "text/plain": [
       "<IPython.core.display.HTML object>"
      ]
     },
     "metadata": {},
     "output_type": "display_data"
    },
    {
     "data": {
      "text/html": [
       " View run at <a href='https://wandb.ai/singhsonalika5-indian-institute-of-technology-madras/Fashion_MNIST_Images/runs/egnqvkid' target=\"_blank\">https://wandb.ai/singhsonalika5-indian-institute-of-technology-madras/Fashion_MNIST_Images/runs/egnqvkid</a>"
      ],
      "text/plain": [
       "<IPython.core.display.HTML object>"
      ]
     },
     "metadata": {},
     "output_type": "display_data"
    },
    {
     "name": "stdout",
     "output_type": "stream",
     "text": [
      "Epoch: 0, Loss: 5.611e-02, Training Accuracy: 0.10, Validation Accuracy: 0.84, Time: 169.17, Learning Rate: 1.000e-03\n",
      "Epoch: 1, Loss: 3.838e-02, Training Accuracy: 0.10, Validation Accuracy: 0.86, Time: 177.10, Learning Rate: 1.000e-03\n",
      "Epoch: 2, Loss: 3.468e-02, Training Accuracy: 0.10, Validation Accuracy: 0.86, Time: 168.51, Learning Rate: 1.000e-03\n",
      "Epoch: 3, Loss: 3.239e-02, Training Accuracy: 0.10, Validation Accuracy: 0.87, Time: 162.27, Learning Rate: 1.000e-03\n",
      "Epoch: 4, Loss: 3.061e-02, Training Accuracy: 0.10, Validation Accuracy: 0.87, Time: 173.47, Learning Rate: 1.000e-03\n"
     ]
    },
    {
     "data": {
      "text/html": [],
      "text/plain": [
       "<IPython.core.display.HTML object>"
      ]
     },
     "metadata": {},
     "output_type": "display_data"
    },
    {
     "data": {
      "text/html": [
       "<br>    <style><br>        .wandb-row {<br>            display: flex;<br>            flex-direction: row;<br>            flex-wrap: wrap;<br>            justify-content: flex-start;<br>            width: 100%;<br>        }<br>        .wandb-col {<br>            display: flex;<br>            flex-direction: column;<br>            flex-basis: 100%;<br>            flex: 1;<br>            padding: 10px;<br>        }<br>    </style><br><div class=\"wandb-row\"><div class=\"wandb-col\"><h3>Run history:</h3><br/><table class=\"wandb\"><tr><td>epoch</td><td>▁▃▅▆█</td></tr><tr><td>loss</td><td>█▃▂▁▁</td></tr><tr><td>training_accuracy</td><td>▁▃█▆█</td></tr><tr><td>validation_accuracy</td><td>▁▅▄▇█</td></tr></table><br/></div><div class=\"wandb-col\"><h3>Run summary:</h3><br/><table class=\"wandb\"><tr><td>epoch</td><td>4</td></tr><tr><td>loss</td><td>0.03061</td></tr><tr><td>training_accuracy</td><td>0.10148</td></tr><tr><td>validation_accuracy</td><td>0.8727</td></tr></table><br/></div></div>"
      ],
      "text/plain": [
       "<IPython.core.display.HTML object>"
      ]
     },
     "metadata": {},
     "output_type": "display_data"
    },
    {
     "data": {
      "text/html": [
       " View run <strong style=\"color:#cdcd00\">hl_3_hn_64_opt_ADAM_act_TANH_lr_0.001_bs_32_init_XAVIER_ep_5_l2_0</strong> at: <a href='https://wandb.ai/singhsonalika5-indian-institute-of-technology-madras/Fashion_MNIST_Images/runs/egnqvkid' target=\"_blank\">https://wandb.ai/singhsonalika5-indian-institute-of-technology-madras/Fashion_MNIST_Images/runs/egnqvkid</a><br> View project at: <a href='https://wandb.ai/singhsonalika5-indian-institute-of-technology-madras/Fashion_MNIST_Images' target=\"_blank\">https://wandb.ai/singhsonalika5-indian-institute-of-technology-madras/Fashion_MNIST_Images</a><br>Synced 5 W&B file(s), 0 media file(s), 0 artifact file(s) and 0 other file(s)"
      ],
      "text/plain": [
       "<IPython.core.display.HTML object>"
      ]
     },
     "metadata": {},
     "output_type": "display_data"
    },
    {
     "data": {
      "text/html": [
       "Find logs at: <code>.\\wandb\\run-20250315_092347-egnqvkid\\logs</code>"
      ],
      "text/plain": [
       "<IPython.core.display.HTML object>"
      ]
     },
     "metadata": {},
     "output_type": "display_data"
    },
    {
     "name": "stderr",
     "output_type": "stream",
     "text": [
      "\u001b[34m\u001b[1mwandb\u001b[0m: Agent Starting Run: kb64eo68 with config:\n",
      "\u001b[34m\u001b[1mwandb\u001b[0m: \tactivation_func: RELU\n",
      "\u001b[34m\u001b[1mwandb\u001b[0m: \tbatch_size: 32\n",
      "\u001b[34m\u001b[1mwandb\u001b[0m: \tepochs: 5\n",
      "\u001b[34m\u001b[1mwandb\u001b[0m: \thidden_neurons: 64\n",
      "\u001b[34m\u001b[1mwandb\u001b[0m: \tinit_method: RANDOM\n",
      "\u001b[34m\u001b[1mwandb\u001b[0m: \tlayers: 3\n",
      "\u001b[34m\u001b[1mwandb\u001b[0m: \tlearning_rate: 0.0001\n",
      "\u001b[34m\u001b[1mwandb\u001b[0m: \toptimizer: ADAM\n",
      "\u001b[34m\u001b[1mwandb\u001b[0m: \tweight_decay: 0.0005\n"
     ]
    },
    {
     "data": {
      "text/html": [
       "Tracking run with wandb version 0.19.7"
      ],
      "text/plain": [
       "<IPython.core.display.HTML object>"
      ]
     },
     "metadata": {},
     "output_type": "display_data"
    },
    {
     "data": {
      "text/html": [
       "Run data is saved locally in <code>c:\\Users\\singh\\OneDrive\\Documents\\GitHub\\DA6401_Assignment-01\\wandb\\run-20250315_094123-kb64eo68</code>"
      ],
      "text/plain": [
       "<IPython.core.display.HTML object>"
      ]
     },
     "metadata": {},
     "output_type": "display_data"
    },
    {
     "data": {
      "text/html": [
       "Syncing run <strong><a href='https://wandb.ai/singhsonalika5-indian-institute-of-technology-madras/Fashion_MNIST_Images/runs/kb64eo68' target=\"_blank\">legendary-sweep-26</a></strong> to <a href='https://wandb.ai/singhsonalika5-indian-institute-of-technology-madras/Fashion_MNIST_Images' target=\"_blank\">Weights & Biases</a> (<a href='https://wandb.me/developer-guide' target=\"_blank\">docs</a>)<br>Sweep page: <a href='https://wandb.ai/singhsonalika5-indian-institute-of-technology-madras/Fashion_MNIST_Images/sweeps/r7vljbht' target=\"_blank\">https://wandb.ai/singhsonalika5-indian-institute-of-technology-madras/Fashion_MNIST_Images/sweeps/r7vljbht</a>"
      ],
      "text/plain": [
       "<IPython.core.display.HTML object>"
      ]
     },
     "metadata": {},
     "output_type": "display_data"
    },
    {
     "data": {
      "text/html": [
       " View project at <a href='https://wandb.ai/singhsonalika5-indian-institute-of-technology-madras/Fashion_MNIST_Images' target=\"_blank\">https://wandb.ai/singhsonalika5-indian-institute-of-technology-madras/Fashion_MNIST_Images</a>"
      ],
      "text/plain": [
       "<IPython.core.display.HTML object>"
      ]
     },
     "metadata": {},
     "output_type": "display_data"
    },
    {
     "data": {
      "text/html": [
       " View sweep at <a href='https://wandb.ai/singhsonalika5-indian-institute-of-technology-madras/Fashion_MNIST_Images/sweeps/r7vljbht' target=\"_blank\">https://wandb.ai/singhsonalika5-indian-institute-of-technology-madras/Fashion_MNIST_Images/sweeps/r7vljbht</a>"
      ],
      "text/plain": [
       "<IPython.core.display.HTML object>"
      ]
     },
     "metadata": {},
     "output_type": "display_data"
    },
    {
     "data": {
      "text/html": [
       " View run at <a href='https://wandb.ai/singhsonalika5-indian-institute-of-technology-madras/Fashion_MNIST_Images/runs/kb64eo68' target=\"_blank\">https://wandb.ai/singhsonalika5-indian-institute-of-technology-madras/Fashion_MNIST_Images/runs/kb64eo68</a>"
      ],
      "text/plain": [
       "<IPython.core.display.HTML object>"
      ]
     },
     "metadata": {},
     "output_type": "display_data"
    },
    {
     "name": "stdout",
     "output_type": "stream",
     "text": [
      "Epoch: 0, Loss: 9.177e-02, Training Accuracy: 0.10, Validation Accuracy: 0.80, Time: 177.37, Learning Rate: 1.000e-04\n",
      "Epoch: 1, Loss: 5.354e-02, Training Accuracy: 0.10, Validation Accuracy: 0.82, Time: 179.75, Learning Rate: 1.000e-04\n",
      "Epoch: 2, Loss: 4.719e-02, Training Accuracy: 0.10, Validation Accuracy: 0.83, Time: 186.90, Learning Rate: 1.000e-04\n"
     ]
    },
    {
     "name": "stderr",
     "output_type": "stream",
     "text": [
      "\u001b[34m\u001b[1mwandb\u001b[0m: Network error (SSLError), entering retry loop.\n"
     ]
    },
    {
     "name": "stdout",
     "output_type": "stream",
     "text": [
      "Epoch: 3, Loss: 4.416e-02, Training Accuracy: 0.10, Validation Accuracy: 0.84, Time: 175.46, Learning Rate: 1.000e-04\n",
      "Epoch: 4, Loss: 4.223e-02, Training Accuracy: 0.10, Validation Accuracy: 0.85, Time: 183.32, Learning Rate: 1.000e-04\n"
     ]
    },
    {
     "data": {
      "text/html": [],
      "text/plain": [
       "<IPython.core.display.HTML object>"
      ]
     },
     "metadata": {},
     "output_type": "display_data"
    },
    {
     "data": {
      "text/html": [
       "<br>    <style><br>        .wandb-row {<br>            display: flex;<br>            flex-direction: row;<br>            flex-wrap: wrap;<br>            justify-content: flex-start;<br>            width: 100%;<br>        }<br>        .wandb-col {<br>            display: flex;<br>            flex-direction: column;<br>            flex-basis: 100%;<br>            flex: 1;<br>            padding: 10px;<br>        }<br>    </style><br><div class=\"wandb-row\"><div class=\"wandb-col\"><h3>Run history:</h3><br/><table class=\"wandb\"><tr><td>epoch</td><td>▁▃▅▆█</td></tr><tr><td>loss</td><td>█▃▂▁▁</td></tr><tr><td>training_accuracy</td><td>▃█▄▁▅</td></tr><tr><td>validation_accuracy</td><td>▁▅▆▇█</td></tr></table><br/></div><div class=\"wandb-col\"><h3>Run summary:</h3><br/><table class=\"wandb\"><tr><td>epoch</td><td>4</td></tr><tr><td>loss</td><td>0.04223</td></tr><tr><td>training_accuracy</td><td>0.09965</td></tr><tr><td>validation_accuracy</td><td>0.846</td></tr></table><br/></div></div>"
      ],
      "text/plain": [
       "<IPython.core.display.HTML object>"
      ]
     },
     "metadata": {},
     "output_type": "display_data"
    },
    {
     "data": {
      "text/html": [
       " View run <strong style=\"color:#cdcd00\">hl_3_hn_64_opt_ADAM_act_TANH_lr_0.0001_bs_32_init_XAVIER_ep_5_l2_0.0005</strong> at: <a href='https://wandb.ai/singhsonalika5-indian-institute-of-technology-madras/Fashion_MNIST_Images/runs/kb64eo68' target=\"_blank\">https://wandb.ai/singhsonalika5-indian-institute-of-technology-madras/Fashion_MNIST_Images/runs/kb64eo68</a><br> View project at: <a href='https://wandb.ai/singhsonalika5-indian-institute-of-technology-madras/Fashion_MNIST_Images' target=\"_blank\">https://wandb.ai/singhsonalika5-indian-institute-of-technology-madras/Fashion_MNIST_Images</a><br>Synced 5 W&B file(s), 0 media file(s), 0 artifact file(s) and 0 other file(s)"
      ],
      "text/plain": [
       "<IPython.core.display.HTML object>"
      ]
     },
     "metadata": {},
     "output_type": "display_data"
    },
    {
     "data": {
      "text/html": [
       "Find logs at: <code>.\\wandb\\run-20250315_094123-kb64eo68\\logs</code>"
      ],
      "text/plain": [
       "<IPython.core.display.HTML object>"
      ]
     },
     "metadata": {},
     "output_type": "display_data"
    }
   ],
   "source": [
    "wandb.agent(sweep_id, train, count=5)"
   ]
  },
  {
   "cell_type": "code",
   "execution_count": 95,
   "metadata": {},
   "outputs": [
    {
     "name": "stderr",
     "output_type": "stream",
     "text": [
      "\u001b[34m\u001b[1mwandb\u001b[0m: Agent Starting Run: 5valaimp with config:\n",
      "\u001b[34m\u001b[1mwandb\u001b[0m: \tactivation_func: TANH\n",
      "\u001b[34m\u001b[1mwandb\u001b[0m: \tbatch_size: 16\n",
      "\u001b[34m\u001b[1mwandb\u001b[0m: \tepochs: 10\n",
      "\u001b[34m\u001b[1mwandb\u001b[0m: \thidden_neurons: 32\n",
      "\u001b[34m\u001b[1mwandb\u001b[0m: \tinit_method: XAVIER\n",
      "\u001b[34m\u001b[1mwandb\u001b[0m: \tlayers: 2\n",
      "\u001b[34m\u001b[1mwandb\u001b[0m: \tlearning_rate: 0.001\n",
      "\u001b[34m\u001b[1mwandb\u001b[0m: \toptimizer: SGD\n",
      "\u001b[34m\u001b[1mwandb\u001b[0m: \tweight_decay: 0.5\n"
     ]
    },
    {
     "data": {
      "text/html": [
       "Tracking run with wandb version 0.19.7"
      ],
      "text/plain": [
       "<IPython.core.display.HTML object>"
      ]
     },
     "metadata": {},
     "output_type": "display_data"
    },
    {
     "data": {
      "text/html": [
       "Run data is saved locally in <code>c:\\Users\\singh\\OneDrive\\Documents\\GitHub\\DA6401_Assignment-01\\wandb\\run-20250315_100513-5valaimp</code>"
      ],
      "text/plain": [
       "<IPython.core.display.HTML object>"
      ]
     },
     "metadata": {},
     "output_type": "display_data"
    },
    {
     "data": {
      "text/html": [
       "Syncing run <strong><a href='https://wandb.ai/singhsonalika5-indian-institute-of-technology-madras/Fashion_MNIST_Images/runs/5valaimp' target=\"_blank\">toasty-sweep-27</a></strong> to <a href='https://wandb.ai/singhsonalika5-indian-institute-of-technology-madras/Fashion_MNIST_Images' target=\"_blank\">Weights & Biases</a> (<a href='https://wandb.me/developer-guide' target=\"_blank\">docs</a>)<br>Sweep page: <a href='https://wandb.ai/singhsonalika5-indian-institute-of-technology-madras/Fashion_MNIST_Images/sweeps/r7vljbht' target=\"_blank\">https://wandb.ai/singhsonalika5-indian-institute-of-technology-madras/Fashion_MNIST_Images/sweeps/r7vljbht</a>"
      ],
      "text/plain": [
       "<IPython.core.display.HTML object>"
      ]
     },
     "metadata": {},
     "output_type": "display_data"
    },
    {
     "data": {
      "text/html": [
       " View project at <a href='https://wandb.ai/singhsonalika5-indian-institute-of-technology-madras/Fashion_MNIST_Images' target=\"_blank\">https://wandb.ai/singhsonalika5-indian-institute-of-technology-madras/Fashion_MNIST_Images</a>"
      ],
      "text/plain": [
       "<IPython.core.display.HTML object>"
      ]
     },
     "metadata": {},
     "output_type": "display_data"
    },
    {
     "data": {
      "text/html": [
       " View sweep at <a href='https://wandb.ai/singhsonalika5-indian-institute-of-technology-madras/Fashion_MNIST_Images/sweeps/r7vljbht' target=\"_blank\">https://wandb.ai/singhsonalika5-indian-institute-of-technology-madras/Fashion_MNIST_Images/sweeps/r7vljbht</a>"
      ],
      "text/plain": [
       "<IPython.core.display.HTML object>"
      ]
     },
     "metadata": {},
     "output_type": "display_data"
    },
    {
     "data": {
      "text/html": [
       " View run at <a href='https://wandb.ai/singhsonalika5-indian-institute-of-technology-madras/Fashion_MNIST_Images/runs/5valaimp' target=\"_blank\">https://wandb.ai/singhsonalika5-indian-institute-of-technology-madras/Fashion_MNIST_Images/runs/5valaimp</a>"
      ],
      "text/plain": [
       "<IPython.core.display.HTML object>"
      ]
     },
     "metadata": {},
     "output_type": "display_data"
    },
    {
     "data": {
      "text/html": [],
      "text/plain": [
       "<IPython.core.display.HTML object>"
      ]
     },
     "metadata": {},
     "output_type": "display_data"
    },
    {
     "data": {
      "text/html": [
       " View run <strong style=\"color:#cdcd00\">hl_3_hn_32_opt_SGD_act_TANH_lr_0.001_bs_16_init_XAVIER_ep_5_l2_0.5</strong> at: <a href='https://wandb.ai/singhsonalika5-indian-institute-of-technology-madras/Fashion_MNIST_Images/runs/5valaimp' target=\"_blank\">https://wandb.ai/singhsonalika5-indian-institute-of-technology-madras/Fashion_MNIST_Images/runs/5valaimp</a><br> View project at: <a href='https://wandb.ai/singhsonalika5-indian-institute-of-technology-madras/Fashion_MNIST_Images' target=\"_blank\">https://wandb.ai/singhsonalika5-indian-institute-of-technology-madras/Fashion_MNIST_Images</a><br>Synced 5 W&B file(s), 0 media file(s), 0 artifact file(s) and 0 other file(s)"
      ],
      "text/plain": [
       "<IPython.core.display.HTML object>"
      ]
     },
     "metadata": {},
     "output_type": "display_data"
    },
    {
     "data": {
      "text/html": [
       "Find logs at: <code>.\\wandb\\run-20250315_100513-5valaimp\\logs</code>"
      ],
      "text/plain": [
       "<IPython.core.display.HTML object>"
      ]
     },
     "metadata": {},
     "output_type": "display_data"
    },
    {
     "name": "stderr",
     "output_type": "stream",
     "text": [
      "Run 5valaimp errored:\n",
      "Traceback (most recent call last):\n",
      "  File \"c:\\Users\\singh\\AppData\\Local\\Programs\\Python\\Python312\\Lib\\site-packages\\wandb\\agents\\pyagent.py\", line 306, in _run_job\n",
      "    self._function()\n",
      "  File \"C:\\Users\\singh\\AppData\\Local\\Temp\\ipykernel_18712\\1481853125.py\", line 43, in train\n",
      "    training_loss, training_accuracy, validation_accuracy, predictions = NN.optimizer(\n",
      "                                                                         ^^^^^^^^^^^^^\n",
      "  File \"C:\\Users\\singh\\AppData\\Local\\Temp\\ipykernel_18712\\2078877857.py\", line 293, in sgd\n",
      "    validation_accuracy.append(self.compute_accuracy(self.num_test, self.predict(self.num_train, self.num_val), self.num_val)[0])\n",
      "                                                                    ^^^^^^^^^^^^^^^^^^^^^^^^^^^^^^^^^^^^^^^^^^\n",
      "  File \"C:\\Users\\singh\\AppData\\Local\\Temp\\ipykernel_18712\\2078877857.py\", line 207, in predict\n",
      "    input_batch[:, i].reshape(self.input_size, 1),\n",
      "    ~~~~~~~~~~~^^^^^^\n",
      "TypeError: 'int' object is not subscriptable\n",
      "\n",
      "\u001b[34m\u001b[1mwandb\u001b[0m: \u001b[32m\u001b[41mERROR\u001b[0m Run 5valaimp errored:\n",
      "\u001b[34m\u001b[1mwandb\u001b[0m: \u001b[32m\u001b[41mERROR\u001b[0m Traceback (most recent call last):\n",
      "\u001b[34m\u001b[1mwandb\u001b[0m: \u001b[32m\u001b[41mERROR\u001b[0m   File \"c:\\Users\\singh\\AppData\\Local\\Programs\\Python\\Python312\\Lib\\site-packages\\wandb\\agents\\pyagent.py\", line 306, in _run_job\n",
      "\u001b[34m\u001b[1mwandb\u001b[0m: \u001b[32m\u001b[41mERROR\u001b[0m     self._function()\n",
      "\u001b[34m\u001b[1mwandb\u001b[0m: \u001b[32m\u001b[41mERROR\u001b[0m   File \"C:\\Users\\singh\\AppData\\Local\\Temp\\ipykernel_18712\\1481853125.py\", line 43, in train\n",
      "\u001b[34m\u001b[1mwandb\u001b[0m: \u001b[32m\u001b[41mERROR\u001b[0m     training_loss, training_accuracy, validation_accuracy, predictions = NN.optimizer(\n",
      "\u001b[34m\u001b[1mwandb\u001b[0m: \u001b[32m\u001b[41mERROR\u001b[0m                                                                          ^^^^^^^^^^^^^\n",
      "\u001b[34m\u001b[1mwandb\u001b[0m: \u001b[32m\u001b[41mERROR\u001b[0m   File \"C:\\Users\\singh\\AppData\\Local\\Temp\\ipykernel_18712\\2078877857.py\", line 293, in sgd\n",
      "\u001b[34m\u001b[1mwandb\u001b[0m: \u001b[32m\u001b[41mERROR\u001b[0m     validation_accuracy.append(self.compute_accuracy(self.num_test, self.predict(self.num_train, self.num_val), self.num_val)[0])\n",
      "\u001b[34m\u001b[1mwandb\u001b[0m: \u001b[32m\u001b[41mERROR\u001b[0m                                                                     ^^^^^^^^^^^^^^^^^^^^^^^^^^^^^^^^^^^^^^^^^^\n",
      "\u001b[34m\u001b[1mwandb\u001b[0m: \u001b[32m\u001b[41mERROR\u001b[0m   File \"C:\\Users\\singh\\AppData\\Local\\Temp\\ipykernel_18712\\2078877857.py\", line 207, in predict\n",
      "\u001b[34m\u001b[1mwandb\u001b[0m: \u001b[32m\u001b[41mERROR\u001b[0m     input_batch[:, i].reshape(self.input_size, 1),\n",
      "\u001b[34m\u001b[1mwandb\u001b[0m: \u001b[32m\u001b[41mERROR\u001b[0m     ~~~~~~~~~~~^^^^^^\n",
      "\u001b[34m\u001b[1mwandb\u001b[0m: \u001b[32m\u001b[41mERROR\u001b[0m TypeError: 'int' object is not subscriptable\n",
      "\u001b[34m\u001b[1mwandb\u001b[0m: \u001b[32m\u001b[41mERROR\u001b[0m \n",
      "\u001b[34m\u001b[1mwandb\u001b[0m: Sweep Agent: Waiting for job.\n",
      "\u001b[34m\u001b[1mwandb\u001b[0m: Job received.\n",
      "\u001b[34m\u001b[1mwandb\u001b[0m: Agent Starting Run: 7thwiltm with config:\n",
      "\u001b[34m\u001b[1mwandb\u001b[0m: \tactivation_func: SIGMOID\n",
      "\u001b[34m\u001b[1mwandb\u001b[0m: \tbatch_size: 32\n",
      "\u001b[34m\u001b[1mwandb\u001b[0m: \tepochs: 10\n",
      "\u001b[34m\u001b[1mwandb\u001b[0m: \thidden_neurons: 64\n",
      "\u001b[34m\u001b[1mwandb\u001b[0m: \tinit_method: XAVIER\n",
      "\u001b[34m\u001b[1mwandb\u001b[0m: \tlayers: 2\n",
      "\u001b[34m\u001b[1mwandb\u001b[0m: \tlearning_rate: 0.0001\n",
      "\u001b[34m\u001b[1mwandb\u001b[0m: \toptimizer: NGD\n",
      "\u001b[34m\u001b[1mwandb\u001b[0m: \tweight_decay: 0.0005\n"
     ]
    },
    {
     "data": {
      "text/html": [
       "Tracking run with wandb version 0.19.7"
      ],
      "text/plain": [
       "<IPython.core.display.HTML object>"
      ]
     },
     "metadata": {},
     "output_type": "display_data"
    },
    {
     "data": {
      "text/html": [
       "Run data is saved locally in <code>c:\\Users\\singh\\OneDrive\\Documents\\GitHub\\DA6401_Assignment-01\\wandb\\run-20250315_100912-7thwiltm</code>"
      ],
      "text/plain": [
       "<IPython.core.display.HTML object>"
      ]
     },
     "metadata": {},
     "output_type": "display_data"
    },
    {
     "data": {
      "text/html": [
       "Syncing run <strong><a href='https://wandb.ai/singhsonalika5-indian-institute-of-technology-madras/Fashion_MNIST_Images/runs/7thwiltm' target=\"_blank\">smooth-sweep-28</a></strong> to <a href='https://wandb.ai/singhsonalika5-indian-institute-of-technology-madras/Fashion_MNIST_Images' target=\"_blank\">Weights & Biases</a> (<a href='https://wandb.me/developer-guide' target=\"_blank\">docs</a>)<br>Sweep page: <a href='https://wandb.ai/singhsonalika5-indian-institute-of-technology-madras/Fashion_MNIST_Images/sweeps/r7vljbht' target=\"_blank\">https://wandb.ai/singhsonalika5-indian-institute-of-technology-madras/Fashion_MNIST_Images/sweeps/r7vljbht</a>"
      ],
      "text/plain": [
       "<IPython.core.display.HTML object>"
      ]
     },
     "metadata": {},
     "output_type": "display_data"
    },
    {
     "data": {
      "text/html": [
       " View project at <a href='https://wandb.ai/singhsonalika5-indian-institute-of-technology-madras/Fashion_MNIST_Images' target=\"_blank\">https://wandb.ai/singhsonalika5-indian-institute-of-technology-madras/Fashion_MNIST_Images</a>"
      ],
      "text/plain": [
       "<IPython.core.display.HTML object>"
      ]
     },
     "metadata": {},
     "output_type": "display_data"
    },
    {
     "data": {
      "text/html": [
       " View sweep at <a href='https://wandb.ai/singhsonalika5-indian-institute-of-technology-madras/Fashion_MNIST_Images/sweeps/r7vljbht' target=\"_blank\">https://wandb.ai/singhsonalika5-indian-institute-of-technology-madras/Fashion_MNIST_Images/sweeps/r7vljbht</a>"
      ],
      "text/plain": [
       "<IPython.core.display.HTML object>"
      ]
     },
     "metadata": {},
     "output_type": "display_data"
    },
    {
     "data": {
      "text/html": [
       " View run at <a href='https://wandb.ai/singhsonalika5-indian-institute-of-technology-madras/Fashion_MNIST_Images/runs/7thwiltm' target=\"_blank\">https://wandb.ai/singhsonalika5-indian-institute-of-technology-madras/Fashion_MNIST_Images/runs/7thwiltm</a>"
      ],
      "text/plain": [
       "<IPython.core.display.HTML object>"
      ]
     },
     "metadata": {},
     "output_type": "display_data"
    },
    {
     "name": "stdout",
     "output_type": "stream",
     "text": [
      "Epoch: 0, Loss: 1.622e-01, Training Accuracy: 0.10, Validation Accuracy: 0.59, Time: 236.44, Learning Rate: 1.000e-04\n",
      "Epoch: 1, Loss: 1.263e-01, Training Accuracy: 0.10, Validation Accuracy: 0.70, Time: 237.36, Learning Rate: 1.000e-04\n",
      "Epoch: 2, Loss: 1.015e-01, Training Accuracy: 0.10, Validation Accuracy: 0.71, Time: 1272.66, Learning Rate: 1.000e-04\n",
      "Epoch: 3, Loss: 8.801e-02, Training Accuracy: 0.10, Validation Accuracy: 0.74, Time: 234.08, Learning Rate: 1.000e-04\n",
      "Epoch: 4, Loss: 8.057e-02, Training Accuracy: 0.10, Validation Accuracy: 0.73, Time: 230.11, Learning Rate: 1.000e-04\n"
     ]
    },
    {
     "data": {
      "text/html": [],
      "text/plain": [
       "<IPython.core.display.HTML object>"
      ]
     },
     "metadata": {},
     "output_type": "display_data"
    },
    {
     "data": {
      "text/html": [
       "<br>    <style><br>        .wandb-row {<br>            display: flex;<br>            flex-direction: row;<br>            flex-wrap: wrap;<br>            justify-content: flex-start;<br>            width: 100%;<br>        }<br>        .wandb-col {<br>            display: flex;<br>            flex-direction: column;<br>            flex-basis: 100%;<br>            flex: 1;<br>            padding: 10px;<br>        }<br>    </style><br><div class=\"wandb-row\"><div class=\"wandb-col\"><h3>Run history:</h3><br/><table class=\"wandb\"><tr><td>epoch</td><td>▁▃▅▆█</td></tr><tr><td>loss</td><td>█▅▃▂▁</td></tr><tr><td>training_accuracy</td><td>█▁▂▃▁</td></tr><tr><td>validation_accuracy</td><td>▁▆▇█▇</td></tr></table><br/></div><div class=\"wandb-col\"><h3>Run summary:</h3><br/><table class=\"wandb\"><tr><td>epoch</td><td>4</td></tr><tr><td>loss</td><td>0.08057</td></tr><tr><td>training_accuracy</td><td>0.09844</td></tr><tr><td>validation_accuracy</td><td>0.7265</td></tr></table><br/></div></div>"
      ],
      "text/plain": [
       "<IPython.core.display.HTML object>"
      ]
     },
     "metadata": {},
     "output_type": "display_data"
    },
    {
     "data": {
      "text/html": [
       " View run <strong style=\"color:#cdcd00\">hl_3_hn_64_opt_NGD_act_TANH_lr_0.0001_bs_32_init_XAVIER_ep_5_l2_0.0005</strong> at: <a href='https://wandb.ai/singhsonalika5-indian-institute-of-technology-madras/Fashion_MNIST_Images/runs/7thwiltm' target=\"_blank\">https://wandb.ai/singhsonalika5-indian-institute-of-technology-madras/Fashion_MNIST_Images/runs/7thwiltm</a><br> View project at: <a href='https://wandb.ai/singhsonalika5-indian-institute-of-technology-madras/Fashion_MNIST_Images' target=\"_blank\">https://wandb.ai/singhsonalika5-indian-institute-of-technology-madras/Fashion_MNIST_Images</a><br>Synced 5 W&B file(s), 0 media file(s), 0 artifact file(s) and 0 other file(s)"
      ],
      "text/plain": [
       "<IPython.core.display.HTML object>"
      ]
     },
     "metadata": {},
     "output_type": "display_data"
    },
    {
     "data": {
      "text/html": [
       "Find logs at: <code>.\\wandb\\run-20250315_100912-7thwiltm\\logs</code>"
      ],
      "text/plain": [
       "<IPython.core.display.HTML object>"
      ]
     },
     "metadata": {},
     "output_type": "display_data"
    },
    {
     "name": "stderr",
     "output_type": "stream",
     "text": [
      "\u001b[34m\u001b[1mwandb\u001b[0m: Agent Starting Run: foz3ybci with config:\n",
      "\u001b[34m\u001b[1mwandb\u001b[0m: \tactivation_func: RELU\n",
      "\u001b[34m\u001b[1mwandb\u001b[0m: \tbatch_size: 16\n",
      "\u001b[34m\u001b[1mwandb\u001b[0m: \tepochs: 10\n",
      "\u001b[34m\u001b[1mwandb\u001b[0m: \thidden_neurons: 128\n",
      "\u001b[34m\u001b[1mwandb\u001b[0m: \tinit_method: XAVIER\n",
      "\u001b[34m\u001b[1mwandb\u001b[0m: \tlayers: 3\n",
      "\u001b[34m\u001b[1mwandb\u001b[0m: \tlearning_rate: 0.001\n",
      "\u001b[34m\u001b[1mwandb\u001b[0m: \toptimizer: NGD\n",
      "\u001b[34m\u001b[1mwandb\u001b[0m: \tweight_decay: 0\n"
     ]
    },
    {
     "data": {
      "text/html": [
       "Tracking run with wandb version 0.19.7"
      ],
      "text/plain": [
       "<IPython.core.display.HTML object>"
      ]
     },
     "metadata": {},
     "output_type": "display_data"
    },
    {
     "data": {
      "text/html": [
       "Run data is saved locally in <code>c:\\Users\\singh\\OneDrive\\Documents\\GitHub\\DA6401_Assignment-01\\wandb\\run-20250315_104924-foz3ybci</code>"
      ],
      "text/plain": [
       "<IPython.core.display.HTML object>"
      ]
     },
     "metadata": {},
     "output_type": "display_data"
    },
    {
     "data": {
      "text/html": [
       "Syncing run <strong><a href='https://wandb.ai/singhsonalika5-indian-institute-of-technology-madras/Fashion_MNIST_Images/runs/foz3ybci' target=\"_blank\">dark-sweep-29</a></strong> to <a href='https://wandb.ai/singhsonalika5-indian-institute-of-technology-madras/Fashion_MNIST_Images' target=\"_blank\">Weights & Biases</a> (<a href='https://wandb.me/developer-guide' target=\"_blank\">docs</a>)<br>Sweep page: <a href='https://wandb.ai/singhsonalika5-indian-institute-of-technology-madras/Fashion_MNIST_Images/sweeps/r7vljbht' target=\"_blank\">https://wandb.ai/singhsonalika5-indian-institute-of-technology-madras/Fashion_MNIST_Images/sweeps/r7vljbht</a>"
      ],
      "text/plain": [
       "<IPython.core.display.HTML object>"
      ]
     },
     "metadata": {},
     "output_type": "display_data"
    },
    {
     "data": {
      "text/html": [
       " View project at <a href='https://wandb.ai/singhsonalika5-indian-institute-of-technology-madras/Fashion_MNIST_Images' target=\"_blank\">https://wandb.ai/singhsonalika5-indian-institute-of-technology-madras/Fashion_MNIST_Images</a>"
      ],
      "text/plain": [
       "<IPython.core.display.HTML object>"
      ]
     },
     "metadata": {},
     "output_type": "display_data"
    },
    {
     "data": {
      "text/html": [
       " View sweep at <a href='https://wandb.ai/singhsonalika5-indian-institute-of-technology-madras/Fashion_MNIST_Images/sweeps/r7vljbht' target=\"_blank\">https://wandb.ai/singhsonalika5-indian-institute-of-technology-madras/Fashion_MNIST_Images/sweeps/r7vljbht</a>"
      ],
      "text/plain": [
       "<IPython.core.display.HTML object>"
      ]
     },
     "metadata": {},
     "output_type": "display_data"
    },
    {
     "data": {
      "text/html": [
       " View run at <a href='https://wandb.ai/singhsonalika5-indian-institute-of-technology-madras/Fashion_MNIST_Images/runs/foz3ybci' target=\"_blank\">https://wandb.ai/singhsonalika5-indian-institute-of-technology-madras/Fashion_MNIST_Images/runs/foz3ybci</a>"
      ],
      "text/plain": [
       "<IPython.core.display.HTML object>"
      ]
     },
     "metadata": {},
     "output_type": "display_data"
    },
    {
     "name": "stdout",
     "output_type": "stream",
     "text": [
      "Epoch: 0, Loss: 8.656e-02, Training Accuracy: 0.10, Validation Accuracy: 0.71, Time: 438.31, Learning Rate: 1.000e-03\n",
      "Epoch: 1, Loss: 6.452e-02, Training Accuracy: 0.10, Validation Accuracy: 0.79, Time: 408.69, Learning Rate: 1.000e-03\n",
      "Epoch: 2, Loss: 5.989e-02, Training Accuracy: 0.10, Validation Accuracy: 0.79, Time: 207.56, Learning Rate: 1.000e-03\n",
      "Epoch: 3, Loss: 5.567e-02, Training Accuracy: 0.10, Validation Accuracy: 0.81, Time: 133.72, Learning Rate: 1.000e-03\n",
      "Epoch: 4, Loss: 5.354e-02, Training Accuracy: 0.10, Validation Accuracy: 0.81, Time: 150.53, Learning Rate: 1.000e-03\n"
     ]
    },
    {
     "data": {
      "text/html": [],
      "text/plain": [
       "<IPython.core.display.HTML object>"
      ]
     },
     "metadata": {},
     "output_type": "display_data"
    },
    {
     "data": {
      "text/html": [
       "<br>    <style><br>        .wandb-row {<br>            display: flex;<br>            flex-direction: row;<br>            flex-wrap: wrap;<br>            justify-content: flex-start;<br>            width: 100%;<br>        }<br>        .wandb-col {<br>            display: flex;<br>            flex-direction: column;<br>            flex-basis: 100%;<br>            flex: 1;<br>            padding: 10px;<br>        }<br>    </style><br><div class=\"wandb-row\"><div class=\"wandb-col\"><h3>Run history:</h3><br/><table class=\"wandb\"><tr><td>epoch</td><td>▁▃▅▆█</td></tr><tr><td>loss</td><td>█▃▂▁▁</td></tr><tr><td>training_accuracy</td><td>▇█▄▁▇</td></tr><tr><td>validation_accuracy</td><td>▁▇▇██</td></tr></table><br/></div><div class=\"wandb-col\"><h3>Run summary:</h3><br/><table class=\"wandb\"><tr><td>epoch</td><td>4</td></tr><tr><td>loss</td><td>0.05354</td></tr><tr><td>training_accuracy</td><td>0.10081</td></tr><tr><td>validation_accuracy</td><td>0.8108</td></tr></table><br/></div></div>"
      ],
      "text/plain": [
       "<IPython.core.display.HTML object>"
      ]
     },
     "metadata": {},
     "output_type": "display_data"
    },
    {
     "data": {
      "text/html": [
       " View run <strong style=\"color:#cdcd00\">hl_3_hn_128_opt_NGD_act_TANH_lr_0.001_bs_16_init_XAVIER_ep_5_l2_0</strong> at: <a href='https://wandb.ai/singhsonalika5-indian-institute-of-technology-madras/Fashion_MNIST_Images/runs/foz3ybci' target=\"_blank\">https://wandb.ai/singhsonalika5-indian-institute-of-technology-madras/Fashion_MNIST_Images/runs/foz3ybci</a><br> View project at: <a href='https://wandb.ai/singhsonalika5-indian-institute-of-technology-madras/Fashion_MNIST_Images' target=\"_blank\">https://wandb.ai/singhsonalika5-indian-institute-of-technology-madras/Fashion_MNIST_Images</a><br>Synced 5 W&B file(s), 0 media file(s), 0 artifact file(s) and 0 other file(s)"
      ],
      "text/plain": [
       "<IPython.core.display.HTML object>"
      ]
     },
     "metadata": {},
     "output_type": "display_data"
    },
    {
     "data": {
      "text/html": [
       "Find logs at: <code>.\\wandb\\run-20250315_104924-foz3ybci\\logs</code>"
      ],
      "text/plain": [
       "<IPython.core.display.HTML object>"
      ]
     },
     "metadata": {},
     "output_type": "display_data"
    },
    {
     "name": "stderr",
     "output_type": "stream",
     "text": [
      "\u001b[34m\u001b[1mwandb\u001b[0m: Agent Starting Run: tflg8qsq with config:\n",
      "\u001b[34m\u001b[1mwandb\u001b[0m: \tactivation_func: RELU\n",
      "\u001b[34m\u001b[1mwandb\u001b[0m: \tbatch_size: 16\n",
      "\u001b[34m\u001b[1mwandb\u001b[0m: \tepochs: 5\n",
      "\u001b[34m\u001b[1mwandb\u001b[0m: \thidden_neurons: 64\n",
      "\u001b[34m\u001b[1mwandb\u001b[0m: \tinit_method: RANDOM\n",
      "\u001b[34m\u001b[1mwandb\u001b[0m: \tlayers: 4\n",
      "\u001b[34m\u001b[1mwandb\u001b[0m: \tlearning_rate: 0.001\n",
      "\u001b[34m\u001b[1mwandb\u001b[0m: \toptimizer: ADAM\n",
      "\u001b[34m\u001b[1mwandb\u001b[0m: \tweight_decay: 0.5\n"
     ]
    },
    {
     "data": {
      "text/html": [
       "Tracking run with wandb version 0.19.7"
      ],
      "text/plain": [
       "<IPython.core.display.HTML object>"
      ]
     },
     "metadata": {},
     "output_type": "display_data"
    },
    {
     "data": {
      "text/html": [
       "Run data is saved locally in <code>c:\\Users\\singh\\OneDrive\\Documents\\GitHub\\DA6401_Assignment-01\\wandb\\run-20250315_111542-tflg8qsq</code>"
      ],
      "text/plain": [
       "<IPython.core.display.HTML object>"
      ]
     },
     "metadata": {},
     "output_type": "display_data"
    },
    {
     "data": {
      "text/html": [
       "Syncing run <strong><a href='https://wandb.ai/singhsonalika5-indian-institute-of-technology-madras/Fashion_MNIST_Images/runs/tflg8qsq' target=\"_blank\">dark-sweep-22</a></strong> to <a href='https://wandb.ai/singhsonalika5-indian-institute-of-technology-madras/Fashion_MNIST_Images' target=\"_blank\">Weights & Biases</a> (<a href='https://wandb.me/developer-guide' target=\"_blank\">docs</a>)<br>Sweep page: <a href='https://wandb.ai/singhsonalika5-indian-institute-of-technology-madras/Fashion_MNIST_Images/sweeps/r7vljbht' target=\"_blank\">https://wandb.ai/singhsonalika5-indian-institute-of-technology-madras/Fashion_MNIST_Images/sweeps/r7vljbht</a>"
      ],
      "text/plain": [
       "<IPython.core.display.HTML object>"
      ]
     },
     "metadata": {},
     "output_type": "display_data"
    },
    {
     "data": {
      "text/html": [
       " View project at <a href='https://wandb.ai/singhsonalika5-indian-institute-of-technology-madras/Fashion_MNIST_Images' target=\"_blank\">https://wandb.ai/singhsonalika5-indian-institute-of-technology-madras/Fashion_MNIST_Images</a>"
      ],
      "text/plain": [
       "<IPython.core.display.HTML object>"
      ]
     },
     "metadata": {},
     "output_type": "display_data"
    },
    {
     "data": {
      "text/html": [
       " View sweep at <a href='https://wandb.ai/singhsonalika5-indian-institute-of-technology-madras/Fashion_MNIST_Images/sweeps/r7vljbht' target=\"_blank\">https://wandb.ai/singhsonalika5-indian-institute-of-technology-madras/Fashion_MNIST_Images/sweeps/r7vljbht</a>"
      ],
      "text/plain": [
       "<IPython.core.display.HTML object>"
      ]
     },
     "metadata": {},
     "output_type": "display_data"
    },
    {
     "data": {
      "text/html": [
       " View run at <a href='https://wandb.ai/singhsonalika5-indian-institute-of-technology-madras/Fashion_MNIST_Images/runs/tflg8qsq' target=\"_blank\">https://wandb.ai/singhsonalika5-indian-institute-of-technology-madras/Fashion_MNIST_Images/runs/tflg8qsq</a>"
      ],
      "text/plain": [
       "<IPython.core.display.HTML object>"
      ]
     },
     "metadata": {},
     "output_type": "display_data"
    },
    {
     "name": "stdout",
     "output_type": "stream",
     "text": [
      "Epoch: 0, Loss: 5.171e-02, Training Accuracy: 0.10, Validation Accuracy: 0.84, Time: 74.39, Learning Rate: 1.000e-03\n",
      "Epoch: 1, Loss: 3.771e-02, Training Accuracy: 0.10, Validation Accuracy: 0.86, Time: 62.37, Learning Rate: 1.000e-03\n",
      "Epoch: 2, Loss: 3.404e-02, Training Accuracy: 0.10, Validation Accuracy: 0.87, Time: 59.97, Learning Rate: 1.000e-03\n",
      "Epoch: 3, Loss: 3.181e-02, Training Accuracy: 0.10, Validation Accuracy: 0.86, Time: 57.17, Learning Rate: 1.000e-03\n",
      "Epoch: 4, Loss: 3.012e-02, Training Accuracy: 0.10, Validation Accuracy: 0.87, Time: 59.25, Learning Rate: 1.000e-03\n"
     ]
    },
    {
     "data": {
      "text/html": [],
      "text/plain": [
       "<IPython.core.display.HTML object>"
      ]
     },
     "metadata": {},
     "output_type": "display_data"
    },
    {
     "data": {
      "text/html": [
       "<br>    <style><br>        .wandb-row {<br>            display: flex;<br>            flex-direction: row;<br>            flex-wrap: wrap;<br>            justify-content: flex-start;<br>            width: 100%;<br>        }<br>        .wandb-col {<br>            display: flex;<br>            flex-direction: column;<br>            flex-basis: 100%;<br>            flex: 1;<br>            padding: 10px;<br>        }<br>    </style><br><div class=\"wandb-row\"><div class=\"wandb-col\"><h3>Run history:</h3><br/><table class=\"wandb\"><tr><td>epoch</td><td>▁▃▅▆█</td></tr><tr><td>loss</td><td>█▃▂▂▁</td></tr><tr><td>training_accuracy</td><td>▆▁▄▁█</td></tr><tr><td>validation_accuracy</td><td>▁▅▇▆█</td></tr></table><br/></div><div class=\"wandb-col\"><h3>Run summary:</h3><br/><table class=\"wandb\"><tr><td>epoch</td><td>4</td></tr><tr><td>loss</td><td>0.03012</td></tr><tr><td>training_accuracy</td><td>0.10193</td></tr><tr><td>validation_accuracy</td><td>0.873</td></tr></table><br/></div></div>"
      ],
      "text/plain": [
       "<IPython.core.display.HTML object>"
      ]
     },
     "metadata": {},
     "output_type": "display_data"
    },
    {
     "data": {
      "text/html": [
       " View run <strong style=\"color:#cdcd00\">hl_3_hn_64_opt_ADAM_act_TANH_lr_0.001_bs_16_init_XAVIER_ep_5_l2_0.5</strong> at: <a href='https://wandb.ai/singhsonalika5-indian-institute-of-technology-madras/Fashion_MNIST_Images/runs/tflg8qsq' target=\"_blank\">https://wandb.ai/singhsonalika5-indian-institute-of-technology-madras/Fashion_MNIST_Images/runs/tflg8qsq</a><br> View project at: <a href='https://wandb.ai/singhsonalika5-indian-institute-of-technology-madras/Fashion_MNIST_Images' target=\"_blank\">https://wandb.ai/singhsonalika5-indian-institute-of-technology-madras/Fashion_MNIST_Images</a><br>Synced 5 W&B file(s), 0 media file(s), 0 artifact file(s) and 0 other file(s)"
      ],
      "text/plain": [
       "<IPython.core.display.HTML object>"
      ]
     },
     "metadata": {},
     "output_type": "display_data"
    },
    {
     "data": {
      "text/html": [
       "Find logs at: <code>.\\wandb\\run-20250315_111542-tflg8qsq\\logs</code>"
      ],
      "text/plain": [
       "<IPython.core.display.HTML object>"
      ]
     },
     "metadata": {},
     "output_type": "display_data"
    },
    {
     "name": "stderr",
     "output_type": "stream",
     "text": [
      "\u001b[34m\u001b[1mwandb\u001b[0m: Sweep Agent: Waiting for job.\n",
      "\u001b[34m\u001b[1mwandb\u001b[0m: Job received.\n",
      "\u001b[34m\u001b[1mwandb\u001b[0m: Agent Starting Run: aujr4zhx with config:\n",
      "\u001b[34m\u001b[1mwandb\u001b[0m: \tactivation_func: RELU\n",
      "\u001b[34m\u001b[1mwandb\u001b[0m: \tbatch_size: 16\n",
      "\u001b[34m\u001b[1mwandb\u001b[0m: \tepochs: 5\n",
      "\u001b[34m\u001b[1mwandb\u001b[0m: \thidden_neurons: 128\n",
      "\u001b[34m\u001b[1mwandb\u001b[0m: \tinit_method: XAVIER\n",
      "\u001b[34m\u001b[1mwandb\u001b[0m: \tlayers: 4\n",
      "\u001b[34m\u001b[1mwandb\u001b[0m: \tlearning_rate: 0.0001\n",
      "\u001b[34m\u001b[1mwandb\u001b[0m: \toptimizer: NGD\n",
      "\u001b[34m\u001b[1mwandb\u001b[0m: \tweight_decay: 0\n"
     ]
    },
    {
     "data": {
      "text/html": [
       "Tracking run with wandb version 0.19.7"
      ],
      "text/plain": [
       "<IPython.core.display.HTML object>"
      ]
     },
     "metadata": {},
     "output_type": "display_data"
    },
    {
     "data": {
      "text/html": [
       "Run data is saved locally in <code>c:\\Users\\singh\\OneDrive\\Documents\\GitHub\\DA6401_Assignment-01\\wandb\\run-20250315_112224-aujr4zhx</code>"
      ],
      "text/plain": [
       "<IPython.core.display.HTML object>"
      ]
     },
     "metadata": {},
     "output_type": "display_data"
    },
    {
     "data": {
      "text/html": [
       "Syncing run <strong><a href='https://wandb.ai/singhsonalika5-indian-institute-of-technology-madras/Fashion_MNIST_Images/runs/aujr4zhx' target=\"_blank\">balmy-sweep-23</a></strong> to <a href='https://wandb.ai/singhsonalika5-indian-institute-of-technology-madras/Fashion_MNIST_Images' target=\"_blank\">Weights & Biases</a> (<a href='https://wandb.me/developer-guide' target=\"_blank\">docs</a>)<br>Sweep page: <a href='https://wandb.ai/singhsonalika5-indian-institute-of-technology-madras/Fashion_MNIST_Images/sweeps/r7vljbht' target=\"_blank\">https://wandb.ai/singhsonalika5-indian-institute-of-technology-madras/Fashion_MNIST_Images/sweeps/r7vljbht</a>"
      ],
      "text/plain": [
       "<IPython.core.display.HTML object>"
      ]
     },
     "metadata": {},
     "output_type": "display_data"
    },
    {
     "data": {
      "text/html": [
       " View project at <a href='https://wandb.ai/singhsonalika5-indian-institute-of-technology-madras/Fashion_MNIST_Images' target=\"_blank\">https://wandb.ai/singhsonalika5-indian-institute-of-technology-madras/Fashion_MNIST_Images</a>"
      ],
      "text/plain": [
       "<IPython.core.display.HTML object>"
      ]
     },
     "metadata": {},
     "output_type": "display_data"
    },
    {
     "data": {
      "text/html": [
       " View sweep at <a href='https://wandb.ai/singhsonalika5-indian-institute-of-technology-madras/Fashion_MNIST_Images/sweeps/r7vljbht' target=\"_blank\">https://wandb.ai/singhsonalika5-indian-institute-of-technology-madras/Fashion_MNIST_Images/sweeps/r7vljbht</a>"
      ],
      "text/plain": [
       "<IPython.core.display.HTML object>"
      ]
     },
     "metadata": {},
     "output_type": "display_data"
    },
    {
     "data": {
      "text/html": [
       " View run at <a href='https://wandb.ai/singhsonalika5-indian-institute-of-technology-madras/Fashion_MNIST_Images/runs/aujr4zhx' target=\"_blank\">https://wandb.ai/singhsonalika5-indian-institute-of-technology-madras/Fashion_MNIST_Images/runs/aujr4zhx</a>"
      ],
      "text/plain": [
       "<IPython.core.display.HTML object>"
      ]
     },
     "metadata": {},
     "output_type": "display_data"
    },
    {
     "name": "stdout",
     "output_type": "stream",
     "text": [
      "Epoch: 0, Loss: 1.240e-01, Training Accuracy: 0.10, Validation Accuracy: 0.72, Time: 205.49, Learning Rate: 1.000e-04\n",
      "Epoch: 1, Loss: 8.260e-02, Training Accuracy: 0.10, Validation Accuracy: 0.75, Time: 135.92, Learning Rate: 1.000e-04\n",
      "Epoch: 2, Loss: 7.040e-02, Training Accuracy: 0.10, Validation Accuracy: 0.77, Time: 122.30, Learning Rate: 1.000e-04\n",
      "Epoch: 3, Loss: 6.354e-02, Training Accuracy: 0.10, Validation Accuracy: 0.79, Time: 146.16, Learning Rate: 1.000e-04\n",
      "Epoch: 4, Loss: 5.919e-02, Training Accuracy: 0.10, Validation Accuracy: 0.79, Time: 147.11, Learning Rate: 1.000e-04\n"
     ]
    },
    {
     "data": {
      "text/html": [],
      "text/plain": [
       "<IPython.core.display.HTML object>"
      ]
     },
     "metadata": {},
     "output_type": "display_data"
    },
    {
     "data": {
      "text/html": [
       "<br>    <style><br>        .wandb-row {<br>            display: flex;<br>            flex-direction: row;<br>            flex-wrap: wrap;<br>            justify-content: flex-start;<br>            width: 100%;<br>        }<br>        .wandb-col {<br>            display: flex;<br>            flex-direction: column;<br>            flex-basis: 100%;<br>            flex: 1;<br>            padding: 10px;<br>        }<br>    </style><br><div class=\"wandb-row\"><div class=\"wandb-col\"><h3>Run history:</h3><br/><table class=\"wandb\"><tr><td>epoch</td><td>▁▃▅▆█</td></tr><tr><td>loss</td><td>█▄▂▁▁</td></tr><tr><td>training_accuracy</td><td>▁▄▄█▂</td></tr><tr><td>validation_accuracy</td><td>▁▄▆██</td></tr></table><br/></div><div class=\"wandb-col\"><h3>Run summary:</h3><br/><table class=\"wandb\"><tr><td>epoch</td><td>4</td></tr><tr><td>loss</td><td>0.05919</td></tr><tr><td>training_accuracy</td><td>0.09993</td></tr><tr><td>validation_accuracy</td><td>0.7934</td></tr></table><br/></div></div>"
      ],
      "text/plain": [
       "<IPython.core.display.HTML object>"
      ]
     },
     "metadata": {},
     "output_type": "display_data"
    },
    {
     "data": {
      "text/html": [
       " View run <strong style=\"color:#cdcd00\">hl_3_hn_128_opt_NGD_act_TANH_lr_0.0001_bs_16_init_XAVIER_ep_5_l2_0</strong> at: <a href='https://wandb.ai/singhsonalika5-indian-institute-of-technology-madras/Fashion_MNIST_Images/runs/aujr4zhx' target=\"_blank\">https://wandb.ai/singhsonalika5-indian-institute-of-technology-madras/Fashion_MNIST_Images/runs/aujr4zhx</a><br> View project at: <a href='https://wandb.ai/singhsonalika5-indian-institute-of-technology-madras/Fashion_MNIST_Images' target=\"_blank\">https://wandb.ai/singhsonalika5-indian-institute-of-technology-madras/Fashion_MNIST_Images</a><br>Synced 5 W&B file(s), 0 media file(s), 0 artifact file(s) and 0 other file(s)"
      ],
      "text/plain": [
       "<IPython.core.display.HTML object>"
      ]
     },
     "metadata": {},
     "output_type": "display_data"
    },
    {
     "data": {
      "text/html": [
       "Find logs at: <code>.\\wandb\\run-20250315_112224-aujr4zhx\\logs</code>"
      ],
      "text/plain": [
       "<IPython.core.display.HTML object>"
      ]
     },
     "metadata": {},
     "output_type": "display_data"
    }
   ],
   "source": [
    "wandb.agent(sweep_id, train, count=5)"
   ]
  },
  {
   "cell_type": "code",
   "execution_count": null,
   "metadata": {},
   "outputs": [],
   "source": []
  }
 ],
 "metadata": {
  "kernelspec": {
   "display_name": "Python 3",
   "language": "python",
   "name": "python3"
  },
  "language_info": {
   "codemirror_mode": {
    "name": "ipython",
    "version": 3
   },
   "file_extension": ".py",
   "mimetype": "text/x-python",
   "name": "python",
   "nbconvert_exporter": "python",
   "pygments_lexer": "ipython3",
   "version": "3.12.1"
  }
 },
 "nbformat": 4,
 "nbformat_minor": 2
}
